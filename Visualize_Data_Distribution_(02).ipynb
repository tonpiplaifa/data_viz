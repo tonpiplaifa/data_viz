{
  "nbformat": 4,
  "nbformat_minor": 0,
  "metadata": {
    "colab": {
      "name": "Visualize Data Distribution (02).ipynb",
      "provenance": [],
      "collapsed_sections": [],
      "authorship_tag": "ABX9TyNpPCrxLKx24qJzKzQskL2E",
      "include_colab_link": true
    },
    "kernelspec": {
      "name": "python3",
      "display_name": "Python 3"
    }
  },
  "cells": [
    {
      "cell_type": "markdown",
      "metadata": {
        "id": "view-in-github",
        "colab_type": "text"
      },
      "source": [
        "<a href=\"https://colab.research.google.com/github/tonpiplaifa/data_viz/blob/main/Visualize_Data_Distribution_(02).ipynb\" target=\"_parent\"><img src=\"https://colab.research.google.com/assets/colab-badge.svg\" alt=\"Open In Colab\"/></a>"
      ]
    },
    {
      "cell_type": "markdown",
      "metadata": {
        "id": "gAs20YgDL3q6"
      },
      "source": [
        "การแสดงผลการกระจายของข้อมูล\r\n",
        "\r\n",
        "\r\n",
        "1.   scatter plot\r\n",
        "2.   scatter 3D\r\n",
        "\r\n"
      ]
    },
    {
      "cell_type": "code",
      "metadata": {
        "id": "-Dcu6FaMnD8c"
      },
      "source": [
        "import pandas as pd"
      ],
      "execution_count": 6,
      "outputs": []
    },
    {
      "cell_type": "code",
      "metadata": {
        "id": "u7AtBZEp9UaY"
      },
      "source": [
        "from matplotlib import pyplot as plt"
      ],
      "execution_count": 10,
      "outputs": []
    },
    {
      "cell_type": "code",
      "metadata": {
        "colab": {
          "base_uri": "https://localhost:8080/",
          "height": 204
        },
        "id": "99ovzcgArdLr",
        "outputId": "563fd785-e41a-4ada-b3d0-96f86bce5d80"
      },
      "source": [
        "df = pd.read_csv(\"https://raw.github.com/pandas-dev/pandas/master/pandas/tests/io/data/csv/iris.csv\")\r\n",
        "df.head()"
      ],
      "execution_count": 3,
      "outputs": [
        {
          "output_type": "execute_result",
          "data": {
            "text/html": [
              "<div>\n",
              "<style scoped>\n",
              "    .dataframe tbody tr th:only-of-type {\n",
              "        vertical-align: middle;\n",
              "    }\n",
              "\n",
              "    .dataframe tbody tr th {\n",
              "        vertical-align: top;\n",
              "    }\n",
              "\n",
              "    .dataframe thead th {\n",
              "        text-align: right;\n",
              "    }\n",
              "</style>\n",
              "<table border=\"1\" class=\"dataframe\">\n",
              "  <thead>\n",
              "    <tr style=\"text-align: right;\">\n",
              "      <th></th>\n",
              "      <th>SepalLength</th>\n",
              "      <th>SepalWidth</th>\n",
              "      <th>PetalLength</th>\n",
              "      <th>PetalWidth</th>\n",
              "      <th>Name</th>\n",
              "    </tr>\n",
              "  </thead>\n",
              "  <tbody>\n",
              "    <tr>\n",
              "      <th>0</th>\n",
              "      <td>5.1</td>\n",
              "      <td>3.5</td>\n",
              "      <td>1.4</td>\n",
              "      <td>0.2</td>\n",
              "      <td>Iris-setosa</td>\n",
              "    </tr>\n",
              "    <tr>\n",
              "      <th>1</th>\n",
              "      <td>4.9</td>\n",
              "      <td>3.0</td>\n",
              "      <td>1.4</td>\n",
              "      <td>0.2</td>\n",
              "      <td>Iris-setosa</td>\n",
              "    </tr>\n",
              "    <tr>\n",
              "      <th>2</th>\n",
              "      <td>4.7</td>\n",
              "      <td>3.2</td>\n",
              "      <td>1.3</td>\n",
              "      <td>0.2</td>\n",
              "      <td>Iris-setosa</td>\n",
              "    </tr>\n",
              "    <tr>\n",
              "      <th>3</th>\n",
              "      <td>4.6</td>\n",
              "      <td>3.1</td>\n",
              "      <td>1.5</td>\n",
              "      <td>0.2</td>\n",
              "      <td>Iris-setosa</td>\n",
              "    </tr>\n",
              "    <tr>\n",
              "      <th>4</th>\n",
              "      <td>5.0</td>\n",
              "      <td>3.6</td>\n",
              "      <td>1.4</td>\n",
              "      <td>0.2</td>\n",
              "      <td>Iris-setosa</td>\n",
              "    </tr>\n",
              "  </tbody>\n",
              "</table>\n",
              "</div>"
            ],
            "text/plain": [
              "   SepalLength  SepalWidth  PetalLength  PetalWidth         Name\n",
              "0          5.1         3.5          1.4         0.2  Iris-setosa\n",
              "1          4.9         3.0          1.4         0.2  Iris-setosa\n",
              "2          4.7         3.2          1.3         0.2  Iris-setosa\n",
              "3          4.6         3.1          1.5         0.2  Iris-setosa\n",
              "4          5.0         3.6          1.4         0.2  Iris-setosa"
            ]
          },
          "metadata": {
            "tags": []
          },
          "execution_count": 3
        }
      ]
    },
    {
      "cell_type": "markdown",
      "metadata": {
        "id": "jYLCJBjSN4oH"
      },
      "source": [
        "#scatter - default"
      ]
    },
    {
      "cell_type": "code",
      "metadata": {
        "colab": {
          "base_uri": "https://localhost:8080/",
          "height": 282
        },
        "id": "8aM51JLVNyQQ",
        "outputId": "d34c7e73-2170-43a1-800b-b6d6e802d916"
      },
      "source": [
        "plt.scatter(df['PetalLength'],df['PetalWidth']) #การพล็อตจุดลงไปในแกน x , y"
      ],
      "execution_count": 4,
      "outputs": [
        {
          "output_type": "execute_result",
          "data": {
            "text/plain": [
              "<matplotlib.collections.PathCollection at 0x7f02da4a7d50>"
            ]
          },
          "metadata": {
            "tags": []
          },
          "execution_count": 4
        },
        {
          "output_type": "display_data",
          "data": {
            "image/png": "[encoded data removed]",
            "text/plain": [
              "<Figure size 432x288 with 1 Axes>"
            ]
          },
          "metadata": {
            "tags": [],
            "needs_background": "light"
          }
        }
      ]
    },
    {
      "cell_type": "code",
      "metadata": {
        "colab": {
          "base_uri": "https://localhost:8080/",
          "height": 282
        },
        "id": "T-KL2LS-Rezf",
        "outputId": "66a99760-9a63-499a-c26f-80c4c880d16e"
      },
      "source": [
        "plt.scatter(df['PetalLength'],df['PetalWidth'],c='r') #เปลี่ยนสี"
      ],
      "execution_count": 5,
      "outputs": [
        {
          "output_type": "execute_result",
          "data": {
            "text/plain": [
              "<matplotlib.collections.PathCollection at 0x7f02da4a7ad0>"
            ]
          },
          "metadata": {
            "tags": []
          },
          "execution_count": 5
        },
        {
          "output_type": "display_data",
          "data": {
            "image/png": "[encoded data removed]",
            "text/plain": [
              "<Figure size 432x288 with 1 Axes>"
            ]
          },
          "metadata": {
            "tags": [],
            "needs_background": "light"
          }
        }
      ]
    },
    {
      "cell_type": "markdown",
      "metadata": {
        "id": "dgl-OuMtQ5wk"
      },
      "source": [
        "##ใส่สีให้แต่ละจุด"
      ]
    },
    {
      "cell_type": "code",
      "metadata": {
        "colab": {
          "base_uri": "https://localhost:8080/"
        },
        "id": "YbFj8BXBOXlF",
        "outputId": "65a8c8c6-4c15-43db-960b-104c6e3814d5"
      },
      "source": [
        "set(df['Name']) #เชคค่า"
      ],
      "execution_count": 6,
      "outputs": [
        {
          "output_type": "execute_result",
          "data": {
            "text/plain": [
              "{'Iris-setosa', 'Iris-versicolor', 'Iris-virginica'}"
            ]
          },
          "metadata": {
            "tags": []
          },
          "execution_count": 6
        }
      ]
    },
    {
      "cell_type": "code",
      "metadata": {
        "colab": {
          "base_uri": "https://localhost:8080/",
          "height": 419
        },
        "id": "fDpkC4h3REIu",
        "outputId": "9240f06c-fb04-4e73-889a-067fe313664b"
      },
      "source": [
        "df2 = df.replace({'Iris-setosa':0, 'Iris-versicolor':1, 'Iris-virginica':2}) #หรือจะใส่ชื่อสี ค่าสี html แทนตรงตัวเลขของ color map ได้\r\n",
        "df2"
      ],
      "execution_count": 7,
      "outputs": [
        {
          "output_type": "execute_result",
          "data": {
            "text/html": [
              "<div>\n",
              "<style scoped>\n",
              "    .dataframe tbody tr th:only-of-type {\n",
              "        vertical-align: middle;\n",
              "    }\n",
              "\n",
              "    .dataframe tbody tr th {\n",
              "        vertical-align: top;\n",
              "    }\n",
              "\n",
              "    .dataframe thead th {\n",
              "        text-align: right;\n",
              "    }\n",
              "</style>\n",
              "<table border=\"1\" class=\"dataframe\">\n",
              "  <thead>\n",
              "    <tr style=\"text-align: right;\">\n",
              "      <th></th>\n",
              "      <th>SepalLength</th>\n",
              "      <th>SepalWidth</th>\n",
              "      <th>PetalLength</th>\n",
              "      <th>PetalWidth</th>\n",
              "      <th>Name</th>\n",
              "    </tr>\n",
              "  </thead>\n",
              "  <tbody>\n",
              "    <tr>\n",
              "      <th>0</th>\n",
              "      <td>5.1</td>\n",
              "      <td>3.5</td>\n",
              "      <td>1.4</td>\n",
              "      <td>0.2</td>\n",
              "      <td>0</td>\n",
              "    </tr>\n",
              "    <tr>\n",
              "      <th>1</th>\n",
              "      <td>4.9</td>\n",
              "      <td>3.0</td>\n",
              "      <td>1.4</td>\n",
              "      <td>0.2</td>\n",
              "      <td>0</td>\n",
              "    </tr>\n",
              "    <tr>\n",
              "      <th>2</th>\n",
              "      <td>4.7</td>\n",
              "      <td>3.2</td>\n",
              "      <td>1.3</td>\n",
              "      <td>0.2</td>\n",
              "      <td>0</td>\n",
              "    </tr>\n",
              "    <tr>\n",
              "      <th>3</th>\n",
              "      <td>4.6</td>\n",
              "      <td>3.1</td>\n",
              "      <td>1.5</td>\n",
              "      <td>0.2</td>\n",
              "      <td>0</td>\n",
              "    </tr>\n",
              "    <tr>\n",
              "      <th>4</th>\n",
              "      <td>5.0</td>\n",
              "      <td>3.6</td>\n",
              "      <td>1.4</td>\n",
              "      <td>0.2</td>\n",
              "      <td>0</td>\n",
              "    </tr>\n",
              "    <tr>\n",
              "      <th>...</th>\n",
              "      <td>...</td>\n",
              "      <td>...</td>\n",
              "      <td>...</td>\n",
              "      <td>...</td>\n",
              "      <td>...</td>\n",
              "    </tr>\n",
              "    <tr>\n",
              "      <th>145</th>\n",
              "      <td>6.7</td>\n",
              "      <td>3.0</td>\n",
              "      <td>5.2</td>\n",
              "      <td>2.3</td>\n",
              "      <td>2</td>\n",
              "    </tr>\n",
              "    <tr>\n",
              "      <th>146</th>\n",
              "      <td>6.3</td>\n",
              "      <td>2.5</td>\n",
              "      <td>5.0</td>\n",
              "      <td>1.9</td>\n",
              "      <td>2</td>\n",
              "    </tr>\n",
              "    <tr>\n",
              "      <th>147</th>\n",
              "      <td>6.5</td>\n",
              "      <td>3.0</td>\n",
              "      <td>5.2</td>\n",
              "      <td>2.0</td>\n",
              "      <td>2</td>\n",
              "    </tr>\n",
              "    <tr>\n",
              "      <th>148</th>\n",
              "      <td>6.2</td>\n",
              "      <td>3.4</td>\n",
              "      <td>5.4</td>\n",
              "      <td>2.3</td>\n",
              "      <td>2</td>\n",
              "    </tr>\n",
              "    <tr>\n",
              "      <th>149</th>\n",
              "      <td>5.9</td>\n",
              "      <td>3.0</td>\n",
              "      <td>5.1</td>\n",
              "      <td>1.8</td>\n",
              "      <td>2</td>\n",
              "    </tr>\n",
              "  </tbody>\n",
              "</table>\n",
              "<p>150 rows × 5 columns</p>\n",
              "</div>"
            ],
            "text/plain": [
              "     SepalLength  SepalWidth  PetalLength  PetalWidth  Name\n",
              "0            5.1         3.5          1.4         0.2     0\n",
              "1            4.9         3.0          1.4         0.2     0\n",
              "2            4.7         3.2          1.3         0.2     0\n",
              "3            4.6         3.1          1.5         0.2     0\n",
              "4            5.0         3.6          1.4         0.2     0\n",
              "..           ...         ...          ...         ...   ...\n",
              "145          6.7         3.0          5.2         2.3     2\n",
              "146          6.3         2.5          5.0         1.9     2\n",
              "147          6.5         3.0          5.2         2.0     2\n",
              "148          6.2         3.4          5.4         2.3     2\n",
              "149          5.9         3.0          5.1         1.8     2\n",
              "\n",
              "[150 rows x 5 columns]"
            ]
          },
          "metadata": {
            "tags": []
          },
          "execution_count": 7
        }
      ]
    },
    {
      "cell_type": "code",
      "metadata": {
        "colab": {
          "base_uri": "https://localhost:8080/",
          "height": 282
        },
        "id": "dKx-020dRtHo",
        "outputId": "643878ae-2af6-476a-95c4-7d5c9574cda7"
      },
      "source": [
        "plt.scatter(df['PetalLength'],df['PetalWidth'],c=df2['Name']) #แยกสีตามที่ตั้งไว้ที่แทนที่จากช่องของชื่อ"
      ],
      "execution_count": 8,
      "outputs": [
        {
          "output_type": "execute_result",
          "data": {
            "text/plain": [
              "<matplotlib.collections.PathCollection at 0x7f02d9f97510>"
            ]
          },
          "metadata": {
            "tags": []
          },
          "execution_count": 8
        },
        {
          "output_type": "display_data",
          "data": {
            "image/png": "[encoded data removed]",
            "text/plain": [
              "<Figure size 432x288 with 1 Axes>"
            ]
          },
          "metadata": {
            "tags": [],
            "needs_background": "light"
          }
        }
      ]
    },
    {
      "cell_type": "markdown",
      "metadata": {
        "id": "PVGD2U_zC03A"
      },
      "source": [
        "##alpha กำหนดความโปร่งแสง"
      ]
    },
    {
      "cell_type": "code",
      "metadata": {
        "colab": {
          "base_uri": "https://localhost:8080/",
          "height": 282
        },
        "id": "T_GmAY-nC68x",
        "outputId": "e5eaf144-4c81-4718-9591-c817707fdd9f"
      },
      "source": [
        "plt.scatter(df['PetalLength'],df['PetalWidth'],c=df2['Name'],alpha=0.5)"
      ],
      "execution_count": 9,
      "outputs": [
        {
          "output_type": "execute_result",
          "data": {
            "text/plain": [
              "<matplotlib.collections.PathCollection at 0x7f02d9fbbcd0>"
            ]
          },
          "metadata": {
            "tags": []
          },
          "execution_count": 9
        },
        {
          "output_type": "display_data",
          "data": {
            "image/png": "[encoded data removed]",
            "text/plain": [
              "<Figure size 432x288 with 1 Axes>"
            ]
          },
          "metadata": {
            "tags": [],
            "needs_background": "light"
          }
        }
      ]
    },
    {
      "cell_type": "markdown",
      "metadata": {
        "id": "PkRih9S6EmOz"
      },
      "source": [
        "##ใช้ขนาดของ marker แสดงค่าของ feature"
      ]
    },
    {
      "cell_type": "code",
      "metadata": {
        "colab": {
          "base_uri": "https://localhost:8080/",
          "height": 282
        },
        "id": "0w2dzOxpDm6A",
        "outputId": "5cdf305b-18be-4b8a-8647-3c4161d611e1"
      },
      "source": [
        "plt.scatter(df['PetalLength'],df['PetalWidth'],s=10*df['SepalWidth'],c=df2['Name'],alpha=0.5)"
      ],
      "execution_count": 10,
      "outputs": [
        {
          "output_type": "execute_result",
          "data": {
            "text/plain": [
              "<matplotlib.collections.PathCollection at 0x7f02d9fbbad0>"
            ]
          },
          "metadata": {
            "tags": []
          },
          "execution_count": 10
        },
        {
          "output_type": "display_data",
          "data": {
            "image/png": "[encoded data removed]",
            "text/plain": [
              "<Figure size 432x288 with 1 Axes>"
            ]
          },
          "metadata": {
            "tags": [],
            "needs_background": "light"
          }
        }
      ]
    },
    {
      "cell_type": "markdown",
      "metadata": {
        "id": "qYstOKScFs4i"
      },
      "source": [
        "## ตัวแปร Marker ใช้ในการเปลี่ยนหน้าตาของมัน"
      ]
    },
    {
      "cell_type": "code",
      "metadata": {
        "colab": {
          "base_uri": "https://localhost:8080/",
          "height": 282
        },
        "id": "e9wY1YR0FJiF",
        "outputId": "50d71b53-43d9-4927-82c0-52996fec2665"
      },
      "source": [
        "plt.scatter(df['PetalLength'],df['PetalWidth'],s=100,c=df2['Name'],alpha=0.5,marker='$S$')"
      ],
      "execution_count": 11,
      "outputs": [
        {
          "output_type": "execute_result",
          "data": {
            "text/plain": [
              "<matplotlib.collections.PathCollection at 0x7f02d8b55450>"
            ]
          },
          "metadata": {
            "tags": []
          },
          "execution_count": 11
        },
        {
          "output_type": "display_data",
          "data": {
            "image/png": "[encoded data removed]",
            "text/plain": [
              "<Figure size 432x288 with 1 Axes>"
            ]
          },
          "metadata": {
            "tags": [],
            "needs_background": "light"
          }
        }
      ]
    },
    {
      "cell_type": "markdown",
      "metadata": {
        "id": "0krEuiQeHRyW"
      },
      "source": [
        "## การ plot กราฟหลายๆอันซ้อนกัน"
      ]
    },
    {
      "cell_type": "code",
      "metadata": {
        "colab": {
          "base_uri": "https://localhost:8080/",
          "height": 282
        },
        "id": "ni-5fgFjGfGD",
        "outputId": "1c939215-a7b5-4a85-c203-e98a7624faab"
      },
      "source": [
        "plt.scatter(df['PetalLength'][:50],df['PetalWidth'][:50],s=100,c='m',alpha=0.5,marker='$A$')\r\n",
        "plt.scatter(df['PetalLength'][50:100],df['PetalWidth'][50:100],s=100,c='c',alpha=0.5,marker='$B$')\r\n",
        "plt.scatter(df['PetalLength'][100:],df['PetalWidth'][100:],s=100,c='r',alpha=0.5,marker='$C$')"
      ],
      "execution_count": 12,
      "outputs": [
        {
          "output_type": "execute_result",
          "data": {
            "text/plain": [
              "<matplotlib.collections.PathCollection at 0x7f02d8a4ae10>"
            ]
          },
          "metadata": {
            "tags": []
          },
          "execution_count": 12
        },
        {
          "output_type": "display_data",
          "data": {
            "image/png": "[encoded data removed]",
            "text/plain": [
              "<Figure size 432x288 with 1 Axes>"
            ]
          },
          "metadata": {
            "tags": [],
            "needs_background": "light"
          }
        }
      ]
    },
    {
      "cell_type": "markdown",
      "metadata": {
        "id": "lJTpJUHT4H-d"
      },
      "source": [
        "##Label-Legend ใส่ป้ายชื่อในกราฟ"
      ]
    },
    {
      "cell_type": "code",
      "metadata": {
        "id": "o9JyDTpxHOFu",
        "colab": {
          "base_uri": "https://localhost:8080/",
          "height": 295
        },
        "outputId": "1d9ba9ca-b807-4794-f584-4241c649889a"
      },
      "source": [
        "plt.plot(df['PetalLength'][:50],df['PetalWidth'][:50],'or',alpha=0.5,label='setosa') #plotสามารถเปลี่ยนรูปมาร์คกับสีมาร์คได้ โดนที่ 'o-r' สัญลักษณ์ o - คือขีดระหว่างจุด r คือสี\r\n",
        "plt.plot(df['PetalLength'][50:100],df['PetalWidth'][50:100],'x-c',alpha=0.5,label='versicolor')\r\n",
        "plt.plot(df['PetalLength'][100:],df['PetalWidth'][100:],'*m',alpha=0.5,label='virginica')\r\n",
        "plt.legend(loc='lower right') #สามารถระบุที่ของป้ายได้ ถ้าไม่ใส่จะเป็น best\r\n",
        "plt.title('Iris flower data distribution') #ใส่ชื่อกราฟ\r\n",
        "plt.xlabel('PetalLength') #ใส่ชื่อแกน\r\n",
        "plt.ylabel('PetalWidth');"
      ],
      "execution_count": 13,
      "outputs": [
        {
          "output_type": "display_data",
          "data": {
            "image/png": "[encoded data removed]",
            "text/plain": [
              "<Figure size 432x288 with 1 Axes>"
            ]
          },
          "metadata": {
            "tags": [],
            "needs_background": "light"
          }
        }
      ]
    },
    {
      "cell_type": "markdown",
      "metadata": {
        "id": "v1sOhJ0L8mCC"
      },
      "source": [
        "![image.png](data:image/png;base64,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)"
      ]
    },
    {
      "cell_type": "markdown",
      "metadata": {
        "id": "vK32pzVn-nQB"
      },
      "source": [
        "###3D scatter"
      ]
    },
    {
      "cell_type": "code",
      "metadata": {
        "colab": {
          "base_uri": "https://localhost:8080/",
          "height": 265
        },
        "id": "IAIXs5hF8OU7",
        "outputId": "eb8e8499-bf31-4b67-f959-88a0cae4a908"
      },
      "source": [
        "ax = plt.axes(projection = \"3d\")\r\n",
        "ax.scatter3D(df['PetalLength'],df['PetalWidth'],df['SepalWidth'],c=df2['Name'])"
      ],
      "execution_count": 14,
      "outputs": [
        {
          "output_type": "execute_result",
          "data": {
            "text/plain": [
              "<mpl_toolkits.mplot3d.art3d.Path3DCollection at 0x7f02d89be510>"
            ]
          },
          "metadata": {
            "tags": []
          },
          "execution_count": 14
        },
        {
          "output_type": "display_data",
          "data": {
            "image/png": "[encoded data removed]",
            "text/plain": [
              "<Figure size 432x288 with 1 Axes>"
            ]
          },
          "metadata": {
            "tags": [],
            "needs_background": "light"
          }
        }
      ]
    },
    {
      "cell_type": "markdown",
      "metadata": {
        "id": "LQ_8xYz1_uzq"
      },
      "source": [
        "##Bubble Chart ใช้ขนาดของวงกลมในการสื่อ\r\n",
        "\r\n",
        "เป็น scatter plot"
      ]
    },
    {
      "cell_type": "code",
      "metadata": {
        "colab": {
          "base_uri": "https://localhost:8080/",
          "height": 282
        },
        "id": "s-u5cOLj86mo",
        "outputId": "fdf87631-50d5-4122-d7c3-8d9fbc816075"
      },
      "source": [
        "plt.scatter(df['PetalLength'][:50],df['PetalWidth'][:50],s=200*df['SepalLength'][:50],c='r') #วงกลมใหญ่คือมี SepalLength ค่ามาก"
      ],
      "execution_count": 15,
      "outputs": [
        {
          "output_type": "execute_result",
          "data": {
            "text/plain": [
              "<matplotlib.collections.PathCollection at 0x7f02d89af790>"
            ]
          },
          "metadata": {
            "tags": []
          },
          "execution_count": 15
        },
        {
          "output_type": "display_data",
          "data": {
            "image/png": "[encoded data removed]",
            "text/plain": [
              "<Figure size 432x288 with 1 Axes>"
            ]
          },
          "metadata": {
            "tags": [],
            "needs_background": "light"
          }
        }
      ]
    },
    {
      "cell_type": "code",
      "metadata": {
        "colab": {
          "base_uri": "https://localhost:8080/",
          "height": 282
        },
        "id": "IHoB7WRHApcs",
        "outputId": "04a69276-d29a-46c1-bf4c-9b8754cb4ac2"
      },
      "source": [
        "plt.scatter(df['PetalLength'][100:],df['PetalWidth'][100:],s=100*df['SepalLength'][100:],c='r')"
      ],
      "execution_count": 16,
      "outputs": [
        {
          "output_type": "execute_result",
          "data": {
            "text/plain": [
              "<matplotlib.collections.PathCollection at 0x7f02d01364d0>"
            ]
          },
          "metadata": {
            "tags": []
          },
          "execution_count": 16
        },
        {
          "output_type": "display_data",
          "data": {
            "image/png": "[encoded data removed]",
            "text/plain": [
              "<Figure size 432x288 with 1 Axes>"
            ]
          },
          "metadata": {
            "tags": [],
            "needs_background": "light"
          }
        }
      ]
    },
    {
      "cell_type": "markdown",
      "metadata": {
        "id": "PM2vuIHrCih6"
      },
      "source": [
        "##Example"
      ]
    },
    {
      "cell_type": "code",
      "metadata": {
        "colab": {
          "base_uri": "https://localhost:8080/",
          "height": 1000
        },
        "id": "h-y0achMB8sw",
        "outputId": "b286bc39-70d4-47c5-d97e-10c9283cd2e4"
      },
      "source": [
        "data = pd.read_excel('/content/passenger-covid19.xlsx')\r\n",
        "data"
      ],
      "execution_count": 7,
      "outputs": [
        {
          "output_type": "execute_result",
          "data": {
            "text/html": [
              "<div>\n",
              "<style scoped>\n",
              "    .dataframe tbody tr th:only-of-type {\n",
              "        vertical-align: middle;\n",
              "    }\n",
              "\n",
              "    .dataframe tbody tr th {\n",
              "        vertical-align: top;\n",
              "    }\n",
              "\n",
              "    .dataframe thead th {\n",
              "        text-align: right;\n",
              "    }\n",
              "</style>\n",
              "<table border=\"1\" class=\"dataframe\">\n",
              "  <thead>\n",
              "    <tr style=\"text-align: right;\">\n",
              "      <th></th>\n",
              "      <th>ขนคน/ขนสินค้า</th>\n",
              "      <th>โหมดการเดินทาง</th>\n",
              "      <th>รูปแบบการเดินทาง</th>\n",
              "      <th>สาธารณะ/ส่วนบุคคล</th>\n",
              "      <th>หน่วยงาน</th>\n",
              "      <th>ยานพาหนะ/ท่า</th>\n",
              "      <th>ม.ค. 2562</th>\n",
              "      <th>ก.พ. 2562</th>\n",
              "      <th>มี.ค. 2562</th>\n",
              "      <th>เม.ย. 2562</th>\n",
              "      <th>พ.ค. 2562</th>\n",
              "      <th>มิ.ย. 2562</th>\n",
              "      <th>ก.ค. 2562</th>\n",
              "      <th>ส.ค. 2562</th>\n",
              "      <th>ก.ย. 2562</th>\n",
              "      <th>ต.ค. 2562</th>\n",
              "      <th>พ.ย. 2562</th>\n",
              "      <th>ธ.ค. 2562</th>\n",
              "    </tr>\n",
              "  </thead>\n",
              "  <tbody>\n",
              "    <tr>\n",
              "      <th>0</th>\n",
              "      <td>ขนคน (คน)</td>\n",
              "      <td>ทางบก</td>\n",
              "      <td>การเดินทางระหว่างจังหวัด</td>\n",
              "      <td>สาธารณะ</td>\n",
              "      <td>บขส.</td>\n",
              "      <td>รถ ขบส. และ รถร่วม</td>\n",
              "      <td>5236331</td>\n",
              "      <td>4628878.0</td>\n",
              "      <td>5234387.0</td>\n",
              "      <td>5137450.0</td>\n",
              "      <td>4885221.0</td>\n",
              "      <td>4572261.0</td>\n",
              "      <td>4772689.0</td>\n",
              "      <td>4701554.0</td>\n",
              "      <td>4482707.0</td>\n",
              "      <td>4774815.0</td>\n",
              "      <td>4559610.0</td>\n",
              "      <td>4840673.0</td>\n",
              "    </tr>\n",
              "    <tr>\n",
              "      <th>1</th>\n",
              "      <td>ขนคน (คน)</td>\n",
              "      <td>ทางบก</td>\n",
              "      <td>การเดินทางระหว่างจังหวัด</td>\n",
              "      <td>สาธารณะ</td>\n",
              "      <td>ขบ.</td>\n",
              "      <td>รถ Taxi</td>\n",
              "      <td>NaN</td>\n",
              "      <td>NaN</td>\n",
              "      <td>NaN</td>\n",
              "      <td>NaN</td>\n",
              "      <td>NaN</td>\n",
              "      <td>NaN</td>\n",
              "      <td>NaN</td>\n",
              "      <td>NaN</td>\n",
              "      <td>NaN</td>\n",
              "      <td>NaN</td>\n",
              "      <td>NaN</td>\n",
              "      <td>NaN</td>\n",
              "    </tr>\n",
              "    <tr>\n",
              "      <th>2</th>\n",
              "      <td>ขนคน (คน)</td>\n",
              "      <td>ทางบก</td>\n",
              "      <td>การเดินทางระหว่างจังหวัด</td>\n",
              "      <td>สาธารณะ</td>\n",
              "      <td>ขบ.</td>\n",
              "      <td>รถหมวด 3</td>\n",
              "      <td>2550864</td>\n",
              "      <td>2334128.0</td>\n",
              "      <td>2599144.0</td>\n",
              "      <td>2602024.0</td>\n",
              "      <td>2543424.0</td>\n",
              "      <td>2435944.0</td>\n",
              "      <td>2526104.0</td>\n",
              "      <td>2492728.0</td>\n",
              "      <td>2420736.0</td>\n",
              "      <td>2499408.0</td>\n",
              "      <td>2450888.0</td>\n",
              "      <td>2516032.0</td>\n",
              "    </tr>\n",
              "    <tr>\n",
              "      <th>3</th>\n",
              "      <td>ขนคน (คัน)</td>\n",
              "      <td>ทางบก</td>\n",
              "      <td>การเดินทางระหว่างจังหวัด</td>\n",
              "      <td>ส่วนบุคคล</td>\n",
              "      <td>ทล.</td>\n",
              "      <td>รถยนต์ (10 จุดสำรวจ)</td>\n",
              "      <td>28907234</td>\n",
              "      <td>26699682.0</td>\n",
              "      <td>30210655.0</td>\n",
              "      <td>28542444.0</td>\n",
              "      <td>29407838.0</td>\n",
              "      <td>27789633.0</td>\n",
              "      <td>28811411.0</td>\n",
              "      <td>29552867.0</td>\n",
              "      <td>27950945.0</td>\n",
              "      <td>29335664.0</td>\n",
              "      <td>28325020.0</td>\n",
              "      <td>29615013.0</td>\n",
              "    </tr>\n",
              "    <tr>\n",
              "      <th>4</th>\n",
              "      <td>ขนคน (คัน)</td>\n",
              "      <td>ทางบก</td>\n",
              "      <td>การเดินทางระหว่างจังหวัด</td>\n",
              "      <td>ส่วนบุคคล</td>\n",
              "      <td>กทพ.</td>\n",
              "      <td>รถยนต์ (ทางด่วน)</td>\n",
              "      <td>56404661</td>\n",
              "      <td>51536713.0</td>\n",
              "      <td>57376504.0</td>\n",
              "      <td>46838468.0</td>\n",
              "      <td>45769555.0</td>\n",
              "      <td>47344042.0</td>\n",
              "      <td>46027953.0</td>\n",
              "      <td>47566521.0</td>\n",
              "      <td>44765838.0</td>\n",
              "      <td>47236151.0</td>\n",
              "      <td>46996660.0</td>\n",
              "      <td>47294111.0</td>\n",
              "    </tr>\n",
              "    <tr>\n",
              "      <th>5</th>\n",
              "      <td>ขนคน (คัน)</td>\n",
              "      <td>ทางบก</td>\n",
              "      <td>การเดินทางระหว่างจังหวัด</td>\n",
              "      <td>ส่วนบุคคล</td>\n",
              "      <td>ทล.</td>\n",
              "      <td>รถจักรยานยนต์</td>\n",
              "      <td>NaN</td>\n",
              "      <td>NaN</td>\n",
              "      <td>NaN</td>\n",
              "      <td>NaN</td>\n",
              "      <td>NaN</td>\n",
              "      <td>NaN</td>\n",
              "      <td>NaN</td>\n",
              "      <td>NaN</td>\n",
              "      <td>NaN</td>\n",
              "      <td>NaN</td>\n",
              "      <td>NaN</td>\n",
              "      <td>NaN</td>\n",
              "    </tr>\n",
              "    <tr>\n",
              "      <th>6</th>\n",
              "      <td>ขนคน (คน)</td>\n",
              "      <td>ทางบก</td>\n",
              "      <td>การเดินทางภายในจังหวัด/กรุงเทพ</td>\n",
              "      <td>สาธารณะ</td>\n",
              "      <td>ขบ.</td>\n",
              "      <td>รถหมวด 4</td>\n",
              "      <td>108716</td>\n",
              "      <td>103437.0</td>\n",
              "      <td>102001.0</td>\n",
              "      <td>104421.0</td>\n",
              "      <td>107417.0</td>\n",
              "      <td>107698.0</td>\n",
              "      <td>109522.0</td>\n",
              "      <td>107789.0</td>\n",
              "      <td>104813.0</td>\n",
              "      <td>105082.0</td>\n",
              "      <td>108037.0</td>\n",
              "      <td>104032.0</td>\n",
              "    </tr>\n",
              "    <tr>\n",
              "      <th>7</th>\n",
              "      <td>ขนคน (คน)</td>\n",
              "      <td>ทางบก</td>\n",
              "      <td>การเดินทางภายในจังหวัด/กรุงเทพ</td>\n",
              "      <td>สาธารณะ</td>\n",
              "      <td>ขบ.</td>\n",
              "      <td>รถจักรยานยนต์รับจ้าง</td>\n",
              "      <td>NaN</td>\n",
              "      <td>NaN</td>\n",
              "      <td>NaN</td>\n",
              "      <td>NaN</td>\n",
              "      <td>NaN</td>\n",
              "      <td>NaN</td>\n",
              "      <td>NaN</td>\n",
              "      <td>NaN</td>\n",
              "      <td>NaN</td>\n",
              "      <td>NaN</td>\n",
              "      <td>NaN</td>\n",
              "      <td>NaN</td>\n",
              "    </tr>\n",
              "    <tr>\n",
              "      <th>8</th>\n",
              "      <td>ขนคน (คน)</td>\n",
              "      <td>ทางบก</td>\n",
              "      <td>การเดินทางภายในจังหวัด/กรุงเทพ</td>\n",
              "      <td>สาธารณะ</td>\n",
              "      <td>ขสมก.</td>\n",
              "      <td>รถเมล์ ขสมก.</td>\n",
              "      <td>32756201</td>\n",
              "      <td>29567092.0</td>\n",
              "      <td>32278496.0</td>\n",
              "      <td>29002665.0</td>\n",
              "      <td>29444786.0</td>\n",
              "      <td>29774190.0</td>\n",
              "      <td>29961893.0</td>\n",
              "      <td>30476179.0</td>\n",
              "      <td>29328968.0</td>\n",
              "      <td>29879889.0</td>\n",
              "      <td>29672244.0</td>\n",
              "      <td>29019427.0</td>\n",
              "    </tr>\n",
              "    <tr>\n",
              "      <th>9</th>\n",
              "      <td>ขนคน (คน)</td>\n",
              "      <td>ทางบก</td>\n",
              "      <td>การเดินทางภายในจังหวัด/กรุงเทพ</td>\n",
              "      <td>สาธารณะ</td>\n",
              "      <td>ขสมก.</td>\n",
              "      <td>รถร่วม (หมวด 1)</td>\n",
              "      <td>28753451</td>\n",
              "      <td>27871978.0</td>\n",
              "      <td>28249937.0</td>\n",
              "      <td>23874176.0</td>\n",
              "      <td>24499764.0</td>\n",
              "      <td>25942632.0</td>\n",
              "      <td>25560717.0</td>\n",
              "      <td>24770240.0</td>\n",
              "      <td>26511750.0</td>\n",
              "      <td>24935747.0</td>\n",
              "      <td>25368180.0</td>\n",
              "      <td>24993204.0</td>\n",
              "    </tr>\n",
              "    <tr>\n",
              "      <th>10</th>\n",
              "      <td>ขนคน (คัน)</td>\n",
              "      <td>ทางบก</td>\n",
              "      <td>การเดินทางภายในจังหวัด/กรุงเทพ</td>\n",
              "      <td>ส่วนบุคคล</td>\n",
              "      <td>ทล.</td>\n",
              "      <td>รถยนต์</td>\n",
              "      <td>NaN</td>\n",
              "      <td>NaN</td>\n",
              "      <td>NaN</td>\n",
              "      <td>NaN</td>\n",
              "      <td>NaN</td>\n",
              "      <td>NaN</td>\n",
              "      <td>NaN</td>\n",
              "      <td>NaN</td>\n",
              "      <td>NaN</td>\n",
              "      <td>NaN</td>\n",
              "      <td>NaN</td>\n",
              "      <td>NaN</td>\n",
              "    </tr>\n",
              "    <tr>\n",
              "      <th>11</th>\n",
              "      <td>ขนคน (คัน)</td>\n",
              "      <td>ทางบก</td>\n",
              "      <td>การเดินทางภายในจังหวัด/กรุงเทพ</td>\n",
              "      <td>ส่วนบุคคล</td>\n",
              "      <td>ทล.</td>\n",
              "      <td>รถจักรยานยนต์</td>\n",
              "      <td>NaN</td>\n",
              "      <td>NaN</td>\n",
              "      <td>NaN</td>\n",
              "      <td>NaN</td>\n",
              "      <td>NaN</td>\n",
              "      <td>NaN</td>\n",
              "      <td>NaN</td>\n",
              "      <td>NaN</td>\n",
              "      <td>NaN</td>\n",
              "      <td>NaN</td>\n",
              "      <td>NaN</td>\n",
              "      <td>NaN</td>\n",
              "    </tr>\n",
              "    <tr>\n",
              "      <th>12</th>\n",
              "      <td>ขนคน (คน)</td>\n",
              "      <td>ทางน้ำ</td>\n",
              "      <td>การเดินทางระหว่างจังหวัด</td>\n",
              "      <td>สาธารณะ</td>\n",
              "      <td>จท.</td>\n",
              "      <td>เรือภูมิภาค</td>\n",
              "      <td>ไม่มีการจัดเก็บข้อมูล</td>\n",
              "      <td>NaN</td>\n",
              "      <td>NaN</td>\n",
              "      <td>NaN</td>\n",
              "      <td>NaN</td>\n",
              "      <td>NaN</td>\n",
              "      <td>NaN</td>\n",
              "      <td>NaN</td>\n",
              "      <td>NaN</td>\n",
              "      <td>NaN</td>\n",
              "      <td>NaN</td>\n",
              "      <td>NaN</td>\n",
              "    </tr>\n",
              "    <tr>\n",
              "      <th>13</th>\n",
              "      <td>ขนคน (คน)</td>\n",
              "      <td>ทางน้ำ</td>\n",
              "      <td>การเดินทางภายในจังหวัด/กรุงเทพ</td>\n",
              "      <td>สาธารณะ</td>\n",
              "      <td>จท.</td>\n",
              "      <td>เรือเจ้าพระยา</td>\n",
              "      <td>968060</td>\n",
              "      <td>848038.0</td>\n",
              "      <td>819430.0</td>\n",
              "      <td>714176.0</td>\n",
              "      <td>721440.0</td>\n",
              "      <td>775351.0</td>\n",
              "      <td>881799.0</td>\n",
              "      <td>857927.0</td>\n",
              "      <td>687417.0</td>\n",
              "      <td>668144.0</td>\n",
              "      <td>771668.0</td>\n",
              "      <td>766378.0</td>\n",
              "    </tr>\n",
              "    <tr>\n",
              "      <th>14</th>\n",
              "      <td>ขนคน (คน)</td>\n",
              "      <td>ทางน้ำ</td>\n",
              "      <td>การเดินทางภายในจังหวัด/กรุงเทพ</td>\n",
              "      <td>สาธารณะ</td>\n",
              "      <td>จท.</td>\n",
              "      <td>เรือคลองแสนแสบ</td>\n",
              "      <td>818195</td>\n",
              "      <td>800744.0</td>\n",
              "      <td>820090.0</td>\n",
              "      <td>636994.0</td>\n",
              "      <td>815729.0</td>\n",
              "      <td>830625.0</td>\n",
              "      <td>796782.0</td>\n",
              "      <td>817956.0</td>\n",
              "      <td>826987.0</td>\n",
              "      <td>846489.0</td>\n",
              "      <td>837965.0</td>\n",
              "      <td>796559.0</td>\n",
              "    </tr>\n",
              "    <tr>\n",
              "      <th>15</th>\n",
              "      <td>ขนคน (คน)</td>\n",
              "      <td>ทางน้ำ</td>\n",
              "      <td>การเดินทางภายในจังหวัด/กรุงเทพ</td>\n",
              "      <td>สาธารณะ</td>\n",
              "      <td>จท.</td>\n",
              "      <td>เรือภูมิภาค</td>\n",
              "      <td>6288628</td>\n",
              "      <td>6308324.0</td>\n",
              "      <td>6494292.0</td>\n",
              "      <td>8040472.0</td>\n",
              "      <td>5687057.0</td>\n",
              "      <td>5233272.0</td>\n",
              "      <td>5431222.0</td>\n",
              "      <td>6520566.0</td>\n",
              "      <td>5345152.0</td>\n",
              "      <td>6405377.0</td>\n",
              "      <td>6420869.0</td>\n",
              "      <td>7216193.0</td>\n",
              "    </tr>\n",
              "    <tr>\n",
              "      <th>16</th>\n",
              "      <td>ขนคน (คน)</td>\n",
              "      <td>ทางน้ำ</td>\n",
              "      <td>การเดินทางภายในจังหวัด/กรุงเทพ</td>\n",
              "      <td>ส่วนบุคคล</td>\n",
              "      <td>จท.</td>\n",
              "      <td>เรือส่วนบุคคล</td>\n",
              "      <td>ไม่มีการจัดเก็บข้อมูล</td>\n",
              "      <td>NaN</td>\n",
              "      <td>NaN</td>\n",
              "      <td>NaN</td>\n",
              "      <td>NaN</td>\n",
              "      <td>NaN</td>\n",
              "      <td>NaN</td>\n",
              "      <td>NaN</td>\n",
              "      <td>NaN</td>\n",
              "      <td>NaN</td>\n",
              "      <td>NaN</td>\n",
              "      <td>NaN</td>\n",
              "    </tr>\n",
              "    <tr>\n",
              "      <th>17</th>\n",
              "      <td>ขนคน (คน)</td>\n",
              "      <td>ทางราง</td>\n",
              "      <td>การเดินทางระหว่างจังหวัด</td>\n",
              "      <td>สาธารณะ</td>\n",
              "      <td>รฟท.</td>\n",
              "      <td>รถไฟ</td>\n",
              "      <td>2715054</td>\n",
              "      <td>2388220.0</td>\n",
              "      <td>2797101.0</td>\n",
              "      <td>2736354.0</td>\n",
              "      <td>2591968.0</td>\n",
              "      <td>2487475.0</td>\n",
              "      <td>2647634.0</td>\n",
              "      <td>2720879.0</td>\n",
              "      <td>2441734.0</td>\n",
              "      <td>2950359.0</td>\n",
              "      <td>2609722.0</td>\n",
              "      <td>2715880.0</td>\n",
              "    </tr>\n",
              "    <tr>\n",
              "      <th>18</th>\n",
              "      <td>ขนคน (คน)</td>\n",
              "      <td>ทางราง</td>\n",
              "      <td>การเดินทางภายในจังหวัด/กรุงเทพ</td>\n",
              "      <td>สาธารณะ</td>\n",
              "      <td>รฟม.</td>\n",
              "      <td>รถไฟฟ้าสายสีน้ำเงิน</td>\n",
              "      <td>9080423</td>\n",
              "      <td>8334110.0</td>\n",
              "      <td>9462844.0</td>\n",
              "      <td>8206327.0</td>\n",
              "      <td>8038437.0</td>\n",
              "      <td>8572432.0</td>\n",
              "      <td>9056787.0</td>\n",
              "      <td>10260894.0</td>\n",
              "      <td>10676842.0</td>\n",
              "      <td>10793797.0</td>\n",
              "      <td>11520590.0</td>\n",
              "      <td>10265578.0</td>\n",
              "    </tr>\n",
              "    <tr>\n",
              "      <th>19</th>\n",
              "      <td>ขนคน (คน)</td>\n",
              "      <td>ทางราง</td>\n",
              "      <td>การเดินทางภายในจังหวัด/กรุงเทพ</td>\n",
              "      <td>สาธารณะ</td>\n",
              "      <td>รฟม.</td>\n",
              "      <td>รถไฟฟ้าสายสีม่วง</td>\n",
              "      <td>1172956</td>\n",
              "      <td>1060635.0</td>\n",
              "      <td>1224857.0</td>\n",
              "      <td>1072255.0</td>\n",
              "      <td>1125328.0</td>\n",
              "      <td>1245619.0</td>\n",
              "      <td>1297620.0</td>\n",
              "      <td>1339673.0</td>\n",
              "      <td>1291700.0</td>\n",
              "      <td>1280900.0</td>\n",
              "      <td>1305024.0</td>\n",
              "      <td>1179272.0</td>\n",
              "    </tr>\n",
              "    <tr>\n",
              "      <th>20</th>\n",
              "      <td>ขนคน (คน)</td>\n",
              "      <td>ทางราง</td>\n",
              "      <td>การเดินทางภายในจังหวัด/กรุงเทพ</td>\n",
              "      <td>สาธารณะ</td>\n",
              "      <td>รฟฟท.</td>\n",
              "      <td>รถไฟฟ้า ARL</td>\n",
              "      <td>2167528</td>\n",
              "      <td>1986306.0</td>\n",
              "      <td>2294142.0</td>\n",
              "      <td>2075144.0</td>\n",
              "      <td>2004377.0</td>\n",
              "      <td>2204219.0</td>\n",
              "      <td>2201717.0</td>\n",
              "      <td>2215873.0</td>\n",
              "      <td>2158113.0</td>\n",
              "      <td>2196794.0</td>\n",
              "      <td>2290792.0</td>\n",
              "      <td>2181036.0</td>\n",
              "    </tr>\n",
              "    <tr>\n",
              "      <th>21</th>\n",
              "      <td>ขนคน (คน)</td>\n",
              "      <td>ทางราง</td>\n",
              "      <td>การเดินทางภายในจังหวัด/กรุงเทพ</td>\n",
              "      <td>สาธารณะ</td>\n",
              "      <td>กทม.</td>\n",
              "      <td>รถไฟฟ้า BTS</td>\n",
              "      <td>20800000</td>\n",
              "      <td>19000000.0</td>\n",
              "      <td>21300000.0</td>\n",
              "      <td>18700000.0</td>\n",
              "      <td>20300000.0</td>\n",
              "      <td>20600000.0</td>\n",
              "      <td>21100000.0</td>\n",
              "      <td>22000000.0</td>\n",
              "      <td>20800000.0</td>\n",
              "      <td>20800000.0</td>\n",
              "      <td>21300000.0</td>\n",
              "      <td>20900000.0</td>\n",
              "    </tr>\n",
              "    <tr>\n",
              "      <th>22</th>\n",
              "      <td>ขนคน (คน)</td>\n",
              "      <td>ทางอากาศ</td>\n",
              "      <td>การเดินทางระหว่างจังหวัด</td>\n",
              "      <td>สาธารณะ</td>\n",
              "      <td>ทอท.</td>\n",
              "      <td>ท่าอากาศยานสุวรรณภูมิ</td>\n",
              "      <td>458709</td>\n",
              "      <td>425178.0</td>\n",
              "      <td>430965.0</td>\n",
              "      <td>411991.0</td>\n",
              "      <td>357617.0</td>\n",
              "      <td>354825.0</td>\n",
              "      <td>395952.0</td>\n",
              "      <td>389527.0</td>\n",
              "      <td>336586.0</td>\n",
              "      <td>409035.0</td>\n",
              "      <td>411562.0</td>\n",
              "      <td>458992.0</td>\n",
              "    </tr>\n",
              "    <tr>\n",
              "      <th>23</th>\n",
              "      <td>ขนคน (คน)</td>\n",
              "      <td>ทางอากาศ</td>\n",
              "      <td>การเดินทางระหว่างจังหวัด</td>\n",
              "      <td>สาธารณะ</td>\n",
              "      <td>ทอท.</td>\n",
              "      <td>ท่าอากาศยานดอนเมือง</td>\n",
              "      <td>1003125</td>\n",
              "      <td>934616.0</td>\n",
              "      <td>1009713.0</td>\n",
              "      <td>978842.0</td>\n",
              "      <td>950347.0</td>\n",
              "      <td>885172.0</td>\n",
              "      <td>919692.0</td>\n",
              "      <td>930329.0</td>\n",
              "      <td>848434.0</td>\n",
              "      <td>997396.0</td>\n",
              "      <td>936619.0</td>\n",
              "      <td>986303.0</td>\n",
              "    </tr>\n",
              "    <tr>\n",
              "      <th>24</th>\n",
              "      <td>ขนคน (คน)</td>\n",
              "      <td>ทางอากาศ</td>\n",
              "      <td>การเดินทางระหว่างจังหวัด</td>\n",
              "      <td>สาธารณะ</td>\n",
              "      <td>ทอท.</td>\n",
              "      <td>ท่าอากาศอื่น ๆ ของ ทอท.</td>\n",
              "      <td>1076360</td>\n",
              "      <td>979634.0</td>\n",
              "      <td>1005178.0</td>\n",
              "      <td>931476.0</td>\n",
              "      <td>853221.0</td>\n",
              "      <td>816263.0</td>\n",
              "      <td>865491.0</td>\n",
              "      <td>910499.0</td>\n",
              "      <td>749967.0</td>\n",
              "      <td>908065.0</td>\n",
              "      <td>903852.0</td>\n",
              "      <td>924307.0</td>\n",
              "    </tr>\n",
              "    <tr>\n",
              "      <th>25</th>\n",
              "      <td>ขนคน (คน)</td>\n",
              "      <td>ทางอากาศ</td>\n",
              "      <td>การเดินทางระหว่างจังหวัด</td>\n",
              "      <td>สาธารณะ</td>\n",
              "      <td>ทย.</td>\n",
              "      <td>ท่าอากาศยานภูมิภาค</td>\n",
              "      <td>719670</td>\n",
              "      <td>663355.0</td>\n",
              "      <td>728778.0</td>\n",
              "      <td>710072.0</td>\n",
              "      <td>686969.0</td>\n",
              "      <td>624522.0</td>\n",
              "      <td>670047.0</td>\n",
              "      <td>664118.0</td>\n",
              "      <td>602766.0</td>\n",
              "      <td>722503.0</td>\n",
              "      <td>674826.0</td>\n",
              "      <td>724097.0</td>\n",
              "    </tr>\n",
              "    <tr>\n",
              "      <th>26</th>\n",
              "      <td>ขนคน (คน)</td>\n",
              "      <td>ทางถนน</td>\n",
              "      <td>การเดินทางระหว่างประเทศ</td>\n",
              "      <td>สาธารณะ</td>\n",
              "      <td>บขส.</td>\n",
              "      <td>รถ บขส. ขาเข้าประเทศ</td>\n",
              "      <td>24221</td>\n",
              "      <td>19600.0</td>\n",
              "      <td>19874.0</td>\n",
              "      <td>32376.0</td>\n",
              "      <td>21146.0</td>\n",
              "      <td>18717.0</td>\n",
              "      <td>20031.0</td>\n",
              "      <td>20447.0</td>\n",
              "      <td>18139.0</td>\n",
              "      <td>18706.0</td>\n",
              "      <td>19912.0</td>\n",
              "      <td>21968.0</td>\n",
              "    </tr>\n",
              "    <tr>\n",
              "      <th>27</th>\n",
              "      <td>ขนคน (คน)</td>\n",
              "      <td>ทางถนน</td>\n",
              "      <td>การเดินทางระหว่างประเทศ</td>\n",
              "      <td>สาธารณะ</td>\n",
              "      <td>บขส.</td>\n",
              "      <td>รถ บขส. ขาออกประเทศ</td>\n",
              "      <td>28670</td>\n",
              "      <td>25574.0</td>\n",
              "      <td>31910.0</td>\n",
              "      <td>42078.0</td>\n",
              "      <td>28711.0</td>\n",
              "      <td>27840.0</td>\n",
              "      <td>28975.0</td>\n",
              "      <td>29453.0</td>\n",
              "      <td>25610.0</td>\n",
              "      <td>30854.0</td>\n",
              "      <td>26225.0</td>\n",
              "      <td>32820.0</td>\n",
              "    </tr>\n",
              "    <tr>\n",
              "      <th>28</th>\n",
              "      <td>ขนคน (คน)</td>\n",
              "      <td>ทางราง</td>\n",
              "      <td>การเดินทางระหว่างประเทศ</td>\n",
              "      <td>สาธารณะ</td>\n",
              "      <td>รฟท.</td>\n",
              "      <td>รถไฟ ขาเข้าประเทศ (ปาดังเบซาร์)</td>\n",
              "      <td>303</td>\n",
              "      <td>363.0</td>\n",
              "      <td>251.0</td>\n",
              "      <td>163.0</td>\n",
              "      <td>247.0</td>\n",
              "      <td>262.0</td>\n",
              "      <td>244.0</td>\n",
              "      <td>222.0</td>\n",
              "      <td>172.0</td>\n",
              "      <td>3486.0</td>\n",
              "      <td>253.0</td>\n",
              "      <td>330.0</td>\n",
              "    </tr>\n",
              "    <tr>\n",
              "      <th>29</th>\n",
              "      <td>ขนคน (คน)</td>\n",
              "      <td>ทางราง</td>\n",
              "      <td>การเดินทางระหว่างประเทศ</td>\n",
              "      <td>สาธารณะ</td>\n",
              "      <td>รฟท.</td>\n",
              "      <td>รถไฟ ขาออกประเทศ (ปาดังเบซาร์)</td>\n",
              "      <td>598</td>\n",
              "      <td>693.0</td>\n",
              "      <td>495.0</td>\n",
              "      <td>429.0</td>\n",
              "      <td>443.0</td>\n",
              "      <td>524.0</td>\n",
              "      <td>559.0</td>\n",
              "      <td>504.0</td>\n",
              "      <td>474.0</td>\n",
              "      <td>429.0</td>\n",
              "      <td>667.0</td>\n",
              "      <td>818.0</td>\n",
              "    </tr>\n",
              "    <tr>\n",
              "      <th>30</th>\n",
              "      <td>ขนคน (คน)</td>\n",
              "      <td>ทางน้ำ</td>\n",
              "      <td>การเดินทางระหว่างประเทศ</td>\n",
              "      <td>สาธารณะ</td>\n",
              "      <td>จท.</td>\n",
              "      <td>ท่าเรือด่านชายแดน ขาเข้าประเทศ</td>\n",
              "      <td>ไม่ทีการจัดเก็บข้อมูล</td>\n",
              "      <td>NaN</td>\n",
              "      <td>NaN</td>\n",
              "      <td>NaN</td>\n",
              "      <td>NaN</td>\n",
              "      <td>NaN</td>\n",
              "      <td>NaN</td>\n",
              "      <td>NaN</td>\n",
              "      <td>NaN</td>\n",
              "      <td>NaN</td>\n",
              "      <td>NaN</td>\n",
              "      <td>NaN</td>\n",
              "    </tr>\n",
              "    <tr>\n",
              "      <th>31</th>\n",
              "      <td>ขนคน (คน)</td>\n",
              "      <td>ทางน้ำ</td>\n",
              "      <td>การเดินทางระหว่างประเทศ</td>\n",
              "      <td>สาธารณะ</td>\n",
              "      <td>จท.</td>\n",
              "      <td>ท่าเรือด่านชายแดน ขาออกประเทศ</td>\n",
              "      <td>ไม่มีการจัดเก็บข้อมูล</td>\n",
              "      <td>NaN</td>\n",
              "      <td>NaN</td>\n",
              "      <td>NaN</td>\n",
              "      <td>NaN</td>\n",
              "      <td>NaN</td>\n",
              "      <td>NaN</td>\n",
              "      <td>NaN</td>\n",
              "      <td>NaN</td>\n",
              "      <td>NaN</td>\n",
              "      <td>NaN</td>\n",
              "      <td>NaN</td>\n",
              "    </tr>\n",
              "    <tr>\n",
              "      <th>32</th>\n",
              "      <td>ขนคน (คน)</td>\n",
              "      <td>ทางอากาศ</td>\n",
              "      <td>การเดินทางระหว่างประเทศ</td>\n",
              "      <td>สาธารณะ</td>\n",
              "      <td>ทอท.</td>\n",
              "      <td>ท่าอากาศยานสุวรรณภูมิ ขาเข้าประเทศ</td>\n",
              "      <td>2464894</td>\n",
              "      <td>2224587.0</td>\n",
              "      <td>2294408.0</td>\n",
              "      <td>2227482.0</td>\n",
              "      <td>1865431.0</td>\n",
              "      <td>1997480.0</td>\n",
              "      <td>2249686.0</td>\n",
              "      <td>2216137.0</td>\n",
              "      <td>1933764.0</td>\n",
              "      <td>2195190.0</td>\n",
              "      <td>2301907.0</td>\n",
              "      <td>2545272.0</td>\n",
              "    </tr>\n",
              "    <tr>\n",
              "      <th>33</th>\n",
              "      <td>ขนคน (คน)</td>\n",
              "      <td>ทางอากาศ</td>\n",
              "      <td>การเดินทางระหว่างประเทศ</td>\n",
              "      <td>สาธารณะ</td>\n",
              "      <td>ทอท.</td>\n",
              "      <td>ท่าอากาศยานสุวรรณภูมิ ขาออกประเทศ</td>\n",
              "      <td>2028379</td>\n",
              "      <td>1919774.0</td>\n",
              "      <td>2064603.0</td>\n",
              "      <td>1891725.0</td>\n",
              "      <td>1652994.0</td>\n",
              "      <td>1600979.0</td>\n",
              "      <td>1762927.0</td>\n",
              "      <td>1888899.0</td>\n",
              "      <td>1543004.0</td>\n",
              "      <td>1729385.0</td>\n",
              "      <td>1799319.0</td>\n",
              "      <td>1952980.0</td>\n",
              "    </tr>\n",
              "    <tr>\n",
              "      <th>34</th>\n",
              "      <td>ขนคน (คน)</td>\n",
              "      <td>ทางอากาศ</td>\n",
              "      <td>การเดินทางระหว่างประเทศ</td>\n",
              "      <td>สาธารณะ</td>\n",
              "      <td>ทอท.</td>\n",
              "      <td>ท่าอากาศยานดอนเมือง ขาเข้าประเทศ</td>\n",
              "      <td>748089</td>\n",
              "      <td>702251.0</td>\n",
              "      <td>774448.0</td>\n",
              "      <td>764724.0</td>\n",
              "      <td>692187.0</td>\n",
              "      <td>687321.0</td>\n",
              "      <td>744731.0</td>\n",
              "      <td>780482.0</td>\n",
              "      <td>681134.0</td>\n",
              "      <td>738845.0</td>\n",
              "      <td>728209.0</td>\n",
              "      <td>805839.0</td>\n",
              "    </tr>\n",
              "    <tr>\n",
              "      <th>35</th>\n",
              "      <td>ขนคน (คน)</td>\n",
              "      <td>ทางอากาศ</td>\n",
              "      <td>การเดินทางระหว่างประเทศ</td>\n",
              "      <td>สาธารณะ</td>\n",
              "      <td>ทอท.</td>\n",
              "      <td>ท่าอากาศยานดอนเมือง ขาออกประเทศ</td>\n",
              "      <td>702441</td>\n",
              "      <td>978370.0</td>\n",
              "      <td>748852.0</td>\n",
              "      <td>707809.0</td>\n",
              "      <td>658868.0</td>\n",
              "      <td>623405.0</td>\n",
              "      <td>689064.0</td>\n",
              "      <td>707514.0</td>\n",
              "      <td>635938.0</td>\n",
              "      <td>705790.0</td>\n",
              "      <td>676655.0</td>\n",
              "      <td>744031.0</td>\n",
              "    </tr>\n",
              "    <tr>\n",
              "      <th>36</th>\n",
              "      <td>ขนคน (คน)</td>\n",
              "      <td>ทางอากาศ</td>\n",
              "      <td>การเดินทางระหว่างประเทศ</td>\n",
              "      <td>สาธารณะ</td>\n",
              "      <td>ทอท.</td>\n",
              "      <td>ท่าอากาศอื่น ๆ ของ ทอท.ขาเข้าประเทศ</td>\n",
              "      <td>753017</td>\n",
              "      <td>710321.0</td>\n",
              "      <td>698460.0</td>\n",
              "      <td>591289.0</td>\n",
              "      <td>455767.0</td>\n",
              "      <td>494260.0</td>\n",
              "      <td>574456.0</td>\n",
              "      <td>578856.0</td>\n",
              "      <td>482615.0</td>\n",
              "      <td>556104.0</td>\n",
              "      <td>630423.0</td>\n",
              "      <td>755055.0</td>\n",
              "    </tr>\n",
              "    <tr>\n",
              "      <th>37</th>\n",
              "      <td>ขนคน (คน)</td>\n",
              "      <td>ทางอากาศ</td>\n",
              "      <td>การเดินทางระหว่างประเทศ</td>\n",
              "      <td>สาธารณะ</td>\n",
              "      <td>ทอท.</td>\n",
              "      <td>ท่าอากาศอื่น ๆ ของ ทอท. ขาออกประเทศ</td>\n",
              "      <td>750052</td>\n",
              "      <td>733723.0</td>\n",
              "      <td>741191.0</td>\n",
              "      <td>600419.0</td>\n",
              "      <td>489178.0</td>\n",
              "      <td>473202.0</td>\n",
              "      <td>542494.0</td>\n",
              "      <td>594959.0</td>\n",
              "      <td>466849.0</td>\n",
              "      <td>531082.0</td>\n",
              "      <td>612620.0</td>\n",
              "      <td>682621.0</td>\n",
              "    </tr>\n",
              "    <tr>\n",
              "      <th>38</th>\n",
              "      <td>ขนคน (คน)</td>\n",
              "      <td>ทางอากาศ</td>\n",
              "      <td>การเดินทางระหว่างประเทศ</td>\n",
              "      <td>สาธารณะ</td>\n",
              "      <td>ทย.</td>\n",
              "      <td>ท่าอากาศยานภูมิภาค ขาเข้าประเทศ</td>\n",
              "      <td>98581</td>\n",
              "      <td>108408.0</td>\n",
              "      <td>71729.0</td>\n",
              "      <td>50038.0</td>\n",
              "      <td>42413.0</td>\n",
              "      <td>45414.0</td>\n",
              "      <td>50103.0</td>\n",
              "      <td>55074.0</td>\n",
              "      <td>43331.0</td>\n",
              "      <td>37486.0</td>\n",
              "      <td>45609.0</td>\n",
              "      <td>72067.0</td>\n",
              "    </tr>\n",
              "    <tr>\n",
              "      <th>39</th>\n",
              "      <td>ขนคน (คน)</td>\n",
              "      <td>ทางอากาศ</td>\n",
              "      <td>การเดินทางระหว่างประเทศ</td>\n",
              "      <td>สาธารณะ</td>\n",
              "      <td>ทย.</td>\n",
              "      <td>ท่าอากาศยานภูมิภาค ขาออกประเทศ</td>\n",
              "      <td>96843</td>\n",
              "      <td>116047.0</td>\n",
              "      <td>83223.0</td>\n",
              "      <td>53096.0</td>\n",
              "      <td>47317.0</td>\n",
              "      <td>45001.0</td>\n",
              "      <td>51994.0</td>\n",
              "      <td>52701.0</td>\n",
              "      <td>44119.0</td>\n",
              "      <td>38058.0</td>\n",
              "      <td>42175.0</td>\n",
              "      <td>59594.0</td>\n",
              "    </tr>\n",
              "  </tbody>\n",
              "</table>\n",
              "</div>"
            ],
            "text/plain": [
              "   ขนคน/ขนสินค้า โหมดการเดินทาง  ...   พ.ย. 2562   ธ.ค. 2562\n",
              "0      ขนคน (คน)          ทางบก  ...   4559610.0   4840673.0\n",
              "1      ขนคน (คน)          ทางบก  ...         NaN         NaN\n",
              "2      ขนคน (คน)          ทางบก  ...   2450888.0   2516032.0\n",
              "3     ขนคน (คัน)          ทางบก  ...  28325020.0  29615013.0\n",
              "4     ขนคน (คัน)          ทางบก  ...  46996660.0  47294111.0\n",
              "5     ขนคน (คัน)          ทางบก  ...         NaN         NaN\n",
              "6      ขนคน (คน)          ทางบก  ...    108037.0    104032.0\n",
              "7      ขนคน (คน)          ทางบก  ...         NaN         NaN\n",
              "8      ขนคน (คน)          ทางบก  ...  29672244.0  29019427.0\n",
              "9      ขนคน (คน)          ทางบก  ...  25368180.0  24993204.0\n",
              "10    ขนคน (คัน)          ทางบก  ...         NaN         NaN\n",
              "11    ขนคน (คัน)          ทางบก  ...         NaN         NaN\n",
              "12     ขนคน (คน)         ทางน้ำ  ...         NaN         NaN\n",
              "13     ขนคน (คน)         ทางน้ำ  ...    771668.0    766378.0\n",
              "14     ขนคน (คน)         ทางน้ำ  ...    837965.0    796559.0\n",
              "15     ขนคน (คน)         ทางน้ำ  ...   6420869.0   7216193.0\n",
              "16     ขนคน (คน)         ทางน้ำ  ...         NaN         NaN\n",
              "17     ขนคน (คน)         ทางราง  ...   2609722.0   2715880.0\n",
              "18     ขนคน (คน)         ทางราง  ...  11520590.0  10265578.0\n",
              "19     ขนคน (คน)         ทางราง  ...   1305024.0   1179272.0\n",
              "20     ขนคน (คน)         ทางราง  ...   2290792.0   2181036.0\n",
              "21     ขนคน (คน)         ทางราง  ...  21300000.0  20900000.0\n",
              "22     ขนคน (คน)       ทางอากาศ  ...    411562.0    458992.0\n",
              "23     ขนคน (คน)       ทางอากาศ  ...    936619.0    986303.0\n",
              "24     ขนคน (คน)       ทางอากาศ  ...    903852.0    924307.0\n",
              "25     ขนคน (คน)       ทางอากาศ  ...    674826.0    724097.0\n",
              "26     ขนคน (คน)         ทางถนน  ...     19912.0     21968.0\n",
              "27     ขนคน (คน)         ทางถนน  ...     26225.0     32820.0\n",
              "28     ขนคน (คน)         ทางราง  ...       253.0       330.0\n",
              "29     ขนคน (คน)         ทางราง  ...       667.0       818.0\n",
              "30     ขนคน (คน)         ทางน้ำ  ...         NaN         NaN\n",
              "31     ขนคน (คน)         ทางน้ำ  ...         NaN         NaN\n",
              "32     ขนคน (คน)       ทางอากาศ  ...   2301907.0   2545272.0\n",
              "33     ขนคน (คน)       ทางอากาศ  ...   1799319.0   1952980.0\n",
              "34     ขนคน (คน)       ทางอากาศ  ...    728209.0    805839.0\n",
              "35     ขนคน (คน)       ทางอากาศ  ...    676655.0    744031.0\n",
              "36     ขนคน (คน)       ทางอากาศ  ...    630423.0    755055.0\n",
              "37     ขนคน (คน)       ทางอากาศ  ...    612620.0    682621.0\n",
              "38     ขนคน (คน)       ทางอากาศ  ...     45609.0     72067.0\n",
              "39     ขนคน (คน)       ทางอากาศ  ...     42175.0     59594.0\n",
              "\n",
              "[40 rows x 18 columns]"
            ]
          },
          "metadata": {
            "tags": []
          },
          "execution_count": 7
        }
      ]
    },
    {
      "cell_type": "code",
      "metadata": {
        "colab": {
          "base_uri": "https://localhost:8080/",
          "height": 1000
        },
        "id": "V6hc4q_oC-iy",
        "outputId": "27032b90-b916-4b9a-cb63-b0eb38c55f16"
      },
      "source": [
        "data_drop = data.dropna()\r\n",
        "data_drop"
      ],
      "execution_count": 8,
      "outputs": [
        {
          "output_type": "execute_result",
          "data": {
            "text/html": [
              "<div>\n",
              "<style scoped>\n",
              "    .dataframe tbody tr th:only-of-type {\n",
              "        vertical-align: middle;\n",
              "    }\n",
              "\n",
              "    .dataframe tbody tr th {\n",
              "        vertical-align: top;\n",
              "    }\n",
              "\n",
              "    .dataframe thead th {\n",
              "        text-align: right;\n",
              "    }\n",
              "</style>\n",
              "<table border=\"1\" class=\"dataframe\">\n",
              "  <thead>\n",
              "    <tr style=\"text-align: right;\">\n",
              "      <th></th>\n",
              "      <th>ขนคน/ขนสินค้า</th>\n",
              "      <th>โหมดการเดินทาง</th>\n",
              "      <th>รูปแบบการเดินทาง</th>\n",
              "      <th>สาธารณะ/ส่วนบุคคล</th>\n",
              "      <th>หน่วยงาน</th>\n",
              "      <th>ยานพาหนะ/ท่า</th>\n",
              "      <th>ม.ค. 2562</th>\n",
              "      <th>ก.พ. 2562</th>\n",
              "      <th>มี.ค. 2562</th>\n",
              "      <th>เม.ย. 2562</th>\n",
              "      <th>พ.ค. 2562</th>\n",
              "      <th>มิ.ย. 2562</th>\n",
              "      <th>ก.ค. 2562</th>\n",
              "      <th>ส.ค. 2562</th>\n",
              "      <th>ก.ย. 2562</th>\n",
              "      <th>ต.ค. 2562</th>\n",
              "      <th>พ.ย. 2562</th>\n",
              "      <th>ธ.ค. 2562</th>\n",
              "    </tr>\n",
              "  </thead>\n",
              "  <tbody>\n",
              "    <tr>\n",
              "      <th>0</th>\n",
              "      <td>ขนคน (คน)</td>\n",
              "      <td>ทางบก</td>\n",
              "      <td>การเดินทางระหว่างจังหวัด</td>\n",
              "      <td>สาธารณะ</td>\n",
              "      <td>บขส.</td>\n",
              "      <td>รถ ขบส. และ รถร่วม</td>\n",
              "      <td>5236331</td>\n",
              "      <td>4628878.0</td>\n",
              "      <td>5234387.0</td>\n",
              "      <td>5137450.0</td>\n",
              "      <td>4885221.0</td>\n",
              "      <td>4572261.0</td>\n",
              "      <td>4772689.0</td>\n",
              "      <td>4701554.0</td>\n",
              "      <td>4482707.0</td>\n",
              "      <td>4774815.0</td>\n",
              "      <td>4559610.0</td>\n",
              "      <td>4840673.0</td>\n",
              "    </tr>\n",
              "    <tr>\n",
              "      <th>2</th>\n",
              "      <td>ขนคน (คน)</td>\n",
              "      <td>ทางบก</td>\n",
              "      <td>การเดินทางระหว่างจังหวัด</td>\n",
              "      <td>สาธารณะ</td>\n",
              "      <td>ขบ.</td>\n",
              "      <td>รถหมวด 3</td>\n",
              "      <td>2550864</td>\n",
              "      <td>2334128.0</td>\n",
              "      <td>2599144.0</td>\n",
              "      <td>2602024.0</td>\n",
              "      <td>2543424.0</td>\n",
              "      <td>2435944.0</td>\n",
              "      <td>2526104.0</td>\n",
              "      <td>2492728.0</td>\n",
              "      <td>2420736.0</td>\n",
              "      <td>2499408.0</td>\n",
              "      <td>2450888.0</td>\n",
              "      <td>2516032.0</td>\n",
              "    </tr>\n",
              "    <tr>\n",
              "      <th>3</th>\n",
              "      <td>ขนคน (คัน)</td>\n",
              "      <td>ทางบก</td>\n",
              "      <td>การเดินทางระหว่างจังหวัด</td>\n",
              "      <td>ส่วนบุคคล</td>\n",
              "      <td>ทล.</td>\n",
              "      <td>รถยนต์ (10 จุดสำรวจ)</td>\n",
              "      <td>28907234</td>\n",
              "      <td>26699682.0</td>\n",
              "      <td>30210655.0</td>\n",
              "      <td>28542444.0</td>\n",
              "      <td>29407838.0</td>\n",
              "      <td>27789633.0</td>\n",
              "      <td>28811411.0</td>\n",
              "      <td>29552867.0</td>\n",
              "      <td>27950945.0</td>\n",
              "      <td>29335664.0</td>\n",
              "      <td>28325020.0</td>\n",
              "      <td>29615013.0</td>\n",
              "    </tr>\n",
              "    <tr>\n",
              "      <th>4</th>\n",
              "      <td>ขนคน (คัน)</td>\n",
              "      <td>ทางบก</td>\n",
              "      <td>การเดินทางระหว่างจังหวัด</td>\n",
              "      <td>ส่วนบุคคล</td>\n",
              "      <td>กทพ.</td>\n",
              "      <td>รถยนต์ (ทางด่วน)</td>\n",
              "      <td>56404661</td>\n",
              "      <td>51536713.0</td>\n",
              "      <td>57376504.0</td>\n",
              "      <td>46838468.0</td>\n",
              "      <td>45769555.0</td>\n",
              "      <td>47344042.0</td>\n",
              "      <td>46027953.0</td>\n",
              "      <td>47566521.0</td>\n",
              "      <td>44765838.0</td>\n",
              "      <td>47236151.0</td>\n",
              "      <td>46996660.0</td>\n",
              "      <td>47294111.0</td>\n",
              "    </tr>\n",
              "    <tr>\n",
              "      <th>6</th>\n",
              "      <td>ขนคน (คน)</td>\n",
              "      <td>ทางบก</td>\n",
              "      <td>การเดินทางภายในจังหวัด/กรุงเทพ</td>\n",
              "      <td>สาธารณะ</td>\n",
              "      <td>ขบ.</td>\n",
              "      <td>รถหมวด 4</td>\n",
              "      <td>108716</td>\n",
              "      <td>103437.0</td>\n",
              "      <td>102001.0</td>\n",
              "      <td>104421.0</td>\n",
              "      <td>107417.0</td>\n",
              "      <td>107698.0</td>\n",
              "      <td>109522.0</td>\n",
              "      <td>107789.0</td>\n",
              "      <td>104813.0</td>\n",
              "      <td>105082.0</td>\n",
              "      <td>108037.0</td>\n",
              "      <td>104032.0</td>\n",
              "    </tr>\n",
              "    <tr>\n",
              "      <th>8</th>\n",
              "      <td>ขนคน (คน)</td>\n",
              "      <td>ทางบก</td>\n",
              "      <td>การเดินทางภายในจังหวัด/กรุงเทพ</td>\n",
              "      <td>สาธารณะ</td>\n",
              "      <td>ขสมก.</td>\n",
              "      <td>รถเมล์ ขสมก.</td>\n",
              "      <td>32756201</td>\n",
              "      <td>29567092.0</td>\n",
              "      <td>32278496.0</td>\n",
              "      <td>29002665.0</td>\n",
              "      <td>29444786.0</td>\n",
              "      <td>29774190.0</td>\n",
              "      <td>29961893.0</td>\n",
              "      <td>30476179.0</td>\n",
              "      <td>29328968.0</td>\n",
              "      <td>29879889.0</td>\n",
              "      <td>29672244.0</td>\n",
              "      <td>29019427.0</td>\n",
              "    </tr>\n",
              "    <tr>\n",
              "      <th>9</th>\n",
              "      <td>ขนคน (คน)</td>\n",
              "      <td>ทางบก</td>\n",
              "      <td>การเดินทางภายในจังหวัด/กรุงเทพ</td>\n",
              "      <td>สาธารณะ</td>\n",
              "      <td>ขสมก.</td>\n",
              "      <td>รถร่วม (หมวด 1)</td>\n",
              "      <td>28753451</td>\n",
              "      <td>27871978.0</td>\n",
              "      <td>28249937.0</td>\n",
              "      <td>23874176.0</td>\n",
              "      <td>24499764.0</td>\n",
              "      <td>25942632.0</td>\n",
              "      <td>25560717.0</td>\n",
              "      <td>24770240.0</td>\n",
              "      <td>26511750.0</td>\n",
              "      <td>24935747.0</td>\n",
              "      <td>25368180.0</td>\n",
              "      <td>24993204.0</td>\n",
              "    </tr>\n",
              "    <tr>\n",
              "      <th>13</th>\n",
              "      <td>ขนคน (คน)</td>\n",
              "      <td>ทางน้ำ</td>\n",
              "      <td>การเดินทางภายในจังหวัด/กรุงเทพ</td>\n",
              "      <td>สาธารณะ</td>\n",
              "      <td>จท.</td>\n",
              "      <td>เรือเจ้าพระยา</td>\n",
              "      <td>968060</td>\n",
              "      <td>848038.0</td>\n",
              "      <td>819430.0</td>\n",
              "      <td>714176.0</td>\n",
              "      <td>721440.0</td>\n",
              "      <td>775351.0</td>\n",
              "      <td>881799.0</td>\n",
              "      <td>857927.0</td>\n",
              "      <td>687417.0</td>\n",
              "      <td>668144.0</td>\n",
              "      <td>771668.0</td>\n",
              "      <td>766378.0</td>\n",
              "    </tr>\n",
              "    <tr>\n",
              "      <th>14</th>\n",
              "      <td>ขนคน (คน)</td>\n",
              "      <td>ทางน้ำ</td>\n",
              "      <td>การเดินทางภายในจังหวัด/กรุงเทพ</td>\n",
              "      <td>สาธารณะ</td>\n",
              "      <td>จท.</td>\n",
              "      <td>เรือคลองแสนแสบ</td>\n",
              "      <td>818195</td>\n",
              "      <td>800744.0</td>\n",
              "      <td>820090.0</td>\n",
              "      <td>636994.0</td>\n",
              "      <td>815729.0</td>\n",
              "      <td>830625.0</td>\n",
              "      <td>796782.0</td>\n",
              "      <td>817956.0</td>\n",
              "      <td>826987.0</td>\n",
              "      <td>846489.0</td>\n",
              "      <td>837965.0</td>\n",
              "      <td>796559.0</td>\n",
              "    </tr>\n",
              "    <tr>\n",
              "      <th>15</th>\n",
              "      <td>ขนคน (คน)</td>\n",
              "      <td>ทางน้ำ</td>\n",
              "      <td>การเดินทางภายในจังหวัด/กรุงเทพ</td>\n",
              "      <td>สาธารณะ</td>\n",
              "      <td>จท.</td>\n",
              "      <td>เรือภูมิภาค</td>\n",
              "      <td>6288628</td>\n",
              "      <td>6308324.0</td>\n",
              "      <td>6494292.0</td>\n",
              "      <td>8040472.0</td>\n",
              "      <td>5687057.0</td>\n",
              "      <td>5233272.0</td>\n",
              "      <td>5431222.0</td>\n",
              "      <td>6520566.0</td>\n",
              "      <td>5345152.0</td>\n",
              "      <td>6405377.0</td>\n",
              "      <td>6420869.0</td>\n",
              "      <td>7216193.0</td>\n",
              "    </tr>\n",
              "    <tr>\n",
              "      <th>17</th>\n",
              "      <td>ขนคน (คน)</td>\n",
              "      <td>ทางราง</td>\n",
              "      <td>การเดินทางระหว่างจังหวัด</td>\n",
              "      <td>สาธารณะ</td>\n",
              "      <td>รฟท.</td>\n",
              "      <td>รถไฟ</td>\n",
              "      <td>2715054</td>\n",
              "      <td>2388220.0</td>\n",
              "      <td>2797101.0</td>\n",
              "      <td>2736354.0</td>\n",
              "      <td>2591968.0</td>\n",
              "      <td>2487475.0</td>\n",
              "      <td>2647634.0</td>\n",
              "      <td>2720879.0</td>\n",
              "      <td>2441734.0</td>\n",
              "      <td>2950359.0</td>\n",
              "      <td>2609722.0</td>\n",
              "      <td>2715880.0</td>\n",
              "    </tr>\n",
              "    <tr>\n",
              "      <th>18</th>\n",
              "      <td>ขนคน (คน)</td>\n",
              "      <td>ทางราง</td>\n",
              "      <td>การเดินทางภายในจังหวัด/กรุงเทพ</td>\n",
              "      <td>สาธารณะ</td>\n",
              "      <td>รฟม.</td>\n",
              "      <td>รถไฟฟ้าสายสีน้ำเงิน</td>\n",
              "      <td>9080423</td>\n",
              "      <td>8334110.0</td>\n",
              "      <td>9462844.0</td>\n",
              "      <td>8206327.0</td>\n",
              "      <td>8038437.0</td>\n",
              "      <td>8572432.0</td>\n",
              "      <td>9056787.0</td>\n",
              "      <td>10260894.0</td>\n",
              "      <td>10676842.0</td>\n",
              "      <td>10793797.0</td>\n",
              "      <td>11520590.0</td>\n",
              "      <td>10265578.0</td>\n",
              "    </tr>\n",
              "    <tr>\n",
              "      <th>19</th>\n",
              "      <td>ขนคน (คน)</td>\n",
              "      <td>ทางราง</td>\n",
              "      <td>การเดินทางภายในจังหวัด/กรุงเทพ</td>\n",
              "      <td>สาธารณะ</td>\n",
              "      <td>รฟม.</td>\n",
              "      <td>รถไฟฟ้าสายสีม่วง</td>\n",
              "      <td>1172956</td>\n",
              "      <td>1060635.0</td>\n",
              "      <td>1224857.0</td>\n",
              "      <td>1072255.0</td>\n",
              "      <td>1125328.0</td>\n",
              "      <td>1245619.0</td>\n",
              "      <td>1297620.0</td>\n",
              "      <td>1339673.0</td>\n",
              "      <td>1291700.0</td>\n",
              "      <td>1280900.0</td>\n",
              "      <td>1305024.0</td>\n",
              "      <td>1179272.0</td>\n",
              "    </tr>\n",
              "    <tr>\n",
              "      <th>20</th>\n",
              "      <td>ขนคน (คน)</td>\n",
              "      <td>ทางราง</td>\n",
              "      <td>การเดินทางภายในจังหวัด/กรุงเทพ</td>\n",
              "      <td>สาธารณะ</td>\n",
              "      <td>รฟฟท.</td>\n",
              "      <td>รถไฟฟ้า ARL</td>\n",
              "      <td>2167528</td>\n",
              "      <td>1986306.0</td>\n",
              "      <td>2294142.0</td>\n",
              "      <td>2075144.0</td>\n",
              "      <td>2004377.0</td>\n",
              "      <td>2204219.0</td>\n",
              "      <td>2201717.0</td>\n",
              "      <td>2215873.0</td>\n",
              "      <td>2158113.0</td>\n",
              "      <td>2196794.0</td>\n",
              "      <td>2290792.0</td>\n",
              "      <td>2181036.0</td>\n",
              "    </tr>\n",
              "    <tr>\n",
              "      <th>21</th>\n",
              "      <td>ขนคน (คน)</td>\n",
              "      <td>ทางราง</td>\n",
              "      <td>การเดินทางภายในจังหวัด/กรุงเทพ</td>\n",
              "      <td>สาธารณะ</td>\n",
              "      <td>กทม.</td>\n",
              "      <td>รถไฟฟ้า BTS</td>\n",
              "      <td>20800000</td>\n",
              "      <td>19000000.0</td>\n",
              "      <td>21300000.0</td>\n",
              "      <td>18700000.0</td>\n",
              "      <td>20300000.0</td>\n",
              "      <td>20600000.0</td>\n",
              "      <td>21100000.0</td>\n",
              "      <td>22000000.0</td>\n",
              "      <td>20800000.0</td>\n",
              "      <td>20800000.0</td>\n",
              "      <td>21300000.0</td>\n",
              "      <td>20900000.0</td>\n",
              "    </tr>\n",
              "    <tr>\n",
              "      <th>22</th>\n",
              "      <td>ขนคน (คน)</td>\n",
              "      <td>ทางอากาศ</td>\n",
              "      <td>การเดินทางระหว่างจังหวัด</td>\n",
              "      <td>สาธารณะ</td>\n",
              "      <td>ทอท.</td>\n",
              "      <td>ท่าอากาศยานสุวรรณภูมิ</td>\n",
              "      <td>458709</td>\n",
              "      <td>425178.0</td>\n",
              "      <td>430965.0</td>\n",
              "      <td>411991.0</td>\n",
              "      <td>357617.0</td>\n",
              "      <td>354825.0</td>\n",
              "      <td>395952.0</td>\n",
              "      <td>389527.0</td>\n",
              "      <td>336586.0</td>\n",
              "      <td>409035.0</td>\n",
              "      <td>411562.0</td>\n",
              "      <td>458992.0</td>\n",
              "    </tr>\n",
              "    <tr>\n",
              "      <th>23</th>\n",
              "      <td>ขนคน (คน)</td>\n",
              "      <td>ทางอากาศ</td>\n",
              "      <td>การเดินทางระหว่างจังหวัด</td>\n",
              "      <td>สาธารณะ</td>\n",
              "      <td>ทอท.</td>\n",
              "      <td>ท่าอากาศยานดอนเมือง</td>\n",
              "      <td>1003125</td>\n",
              "      <td>934616.0</td>\n",
              "      <td>1009713.0</td>\n",
              "      <td>978842.0</td>\n",
              "      <td>950347.0</td>\n",
              "      <td>885172.0</td>\n",
              "      <td>919692.0</td>\n",
              "      <td>930329.0</td>\n",
              "      <td>848434.0</td>\n",
              "      <td>997396.0</td>\n",
              "      <td>936619.0</td>\n",
              "      <td>986303.0</td>\n",
              "    </tr>\n",
              "    <tr>\n",
              "      <th>24</th>\n",
              "      <td>ขนคน (คน)</td>\n",
              "      <td>ทางอากาศ</td>\n",
              "      <td>การเดินทางระหว่างจังหวัด</td>\n",
              "      <td>สาธารณะ</td>\n",
              "      <td>ทอท.</td>\n",
              "      <td>ท่าอากาศอื่น ๆ ของ ทอท.</td>\n",
              "      <td>1076360</td>\n",
              "      <td>979634.0</td>\n",
              "      <td>1005178.0</td>\n",
              "      <td>931476.0</td>\n",
              "      <td>853221.0</td>\n",
              "      <td>816263.0</td>\n",
              "      <td>865491.0</td>\n",
              "      <td>910499.0</td>\n",
              "      <td>749967.0</td>\n",
              "      <td>908065.0</td>\n",
              "      <td>903852.0</td>\n",
              "      <td>924307.0</td>\n",
              "    </tr>\n",
              "    <tr>\n",
              "      <th>25</th>\n",
              "      <td>ขนคน (คน)</td>\n",
              "      <td>ทางอากาศ</td>\n",
              "      <td>การเดินทางระหว่างจังหวัด</td>\n",
              "      <td>สาธารณะ</td>\n",
              "      <td>ทย.</td>\n",
              "      <td>ท่าอากาศยานภูมิภาค</td>\n",
              "      <td>719670</td>\n",
              "      <td>663355.0</td>\n",
              "      <td>728778.0</td>\n",
              "      <td>710072.0</td>\n",
              "      <td>686969.0</td>\n",
              "      <td>624522.0</td>\n",
              "      <td>670047.0</td>\n",
              "      <td>664118.0</td>\n",
              "      <td>602766.0</td>\n",
              "      <td>722503.0</td>\n",
              "      <td>674826.0</td>\n",
              "      <td>724097.0</td>\n",
              "    </tr>\n",
              "    <tr>\n",
              "      <th>26</th>\n",
              "      <td>ขนคน (คน)</td>\n",
              "      <td>ทางถนน</td>\n",
              "      <td>การเดินทางระหว่างประเทศ</td>\n",
              "      <td>สาธารณะ</td>\n",
              "      <td>บขส.</td>\n",
              "      <td>รถ บขส. ขาเข้าประเทศ</td>\n",
              "      <td>24221</td>\n",
              "      <td>19600.0</td>\n",
              "      <td>19874.0</td>\n",
              "      <td>32376.0</td>\n",
              "      <td>21146.0</td>\n",
              "      <td>18717.0</td>\n",
              "      <td>20031.0</td>\n",
              "      <td>20447.0</td>\n",
              "      <td>18139.0</td>\n",
              "      <td>18706.0</td>\n",
              "      <td>19912.0</td>\n",
              "      <td>21968.0</td>\n",
              "    </tr>\n",
              "    <tr>\n",
              "      <th>27</th>\n",
              "      <td>ขนคน (คน)</td>\n",
              "      <td>ทางถนน</td>\n",
              "      <td>การเดินทางระหว่างประเทศ</td>\n",
              "      <td>สาธารณะ</td>\n",
              "      <td>บขส.</td>\n",
              "      <td>รถ บขส. ขาออกประเทศ</td>\n",
              "      <td>28670</td>\n",
              "      <td>25574.0</td>\n",
              "      <td>31910.0</td>\n",
              "      <td>42078.0</td>\n",
              "      <td>28711.0</td>\n",
              "      <td>27840.0</td>\n",
              "      <td>28975.0</td>\n",
              "      <td>29453.0</td>\n",
              "      <td>25610.0</td>\n",
              "      <td>30854.0</td>\n",
              "      <td>26225.0</td>\n",
              "      <td>32820.0</td>\n",
              "    </tr>\n",
              "    <tr>\n",
              "      <th>28</th>\n",
              "      <td>ขนคน (คน)</td>\n",
              "      <td>ทางราง</td>\n",
              "      <td>การเดินทางระหว่างประเทศ</td>\n",
              "      <td>สาธารณะ</td>\n",
              "      <td>รฟท.</td>\n",
              "      <td>รถไฟ ขาเข้าประเทศ (ปาดังเบซาร์)</td>\n",
              "      <td>303</td>\n",
              "      <td>363.0</td>\n",
              "      <td>251.0</td>\n",
              "      <td>163.0</td>\n",
              "      <td>247.0</td>\n",
              "      <td>262.0</td>\n",
              "      <td>244.0</td>\n",
              "      <td>222.0</td>\n",
              "      <td>172.0</td>\n",
              "      <td>3486.0</td>\n",
              "      <td>253.0</td>\n",
              "      <td>330.0</td>\n",
              "    </tr>\n",
              "    <tr>\n",
              "      <th>29</th>\n",
              "      <td>ขนคน (คน)</td>\n",
              "      <td>ทางราง</td>\n",
              "      <td>การเดินทางระหว่างประเทศ</td>\n",
              "      <td>สาธารณะ</td>\n",
              "      <td>รฟท.</td>\n",
              "      <td>รถไฟ ขาออกประเทศ (ปาดังเบซาร์)</td>\n",
              "      <td>598</td>\n",
              "      <td>693.0</td>\n",
              "      <td>495.0</td>\n",
              "      <td>429.0</td>\n",
              "      <td>443.0</td>\n",
              "      <td>524.0</td>\n",
              "      <td>559.0</td>\n",
              "      <td>504.0</td>\n",
              "      <td>474.0</td>\n",
              "      <td>429.0</td>\n",
              "      <td>667.0</td>\n",
              "      <td>818.0</td>\n",
              "    </tr>\n",
              "    <tr>\n",
              "      <th>32</th>\n",
              "      <td>ขนคน (คน)</td>\n",
              "      <td>ทางอากาศ</td>\n",
              "      <td>การเดินทางระหว่างประเทศ</td>\n",
              "      <td>สาธารณะ</td>\n",
              "      <td>ทอท.</td>\n",
              "      <td>ท่าอากาศยานสุวรรณภูมิ ขาเข้าประเทศ</td>\n",
              "      <td>2464894</td>\n",
              "      <td>2224587.0</td>\n",
              "      <td>2294408.0</td>\n",
              "      <td>2227482.0</td>\n",
              "      <td>1865431.0</td>\n",
              "      <td>1997480.0</td>\n",
              "      <td>2249686.0</td>\n",
              "      <td>2216137.0</td>\n",
              "      <td>1933764.0</td>\n",
              "      <td>2195190.0</td>\n",
              "      <td>2301907.0</td>\n",
              "      <td>2545272.0</td>\n",
              "    </tr>\n",
              "    <tr>\n",
              "      <th>33</th>\n",
              "      <td>ขนคน (คน)</td>\n",
              "      <td>ทางอากาศ</td>\n",
              "      <td>การเดินทางระหว่างประเทศ</td>\n",
              "      <td>สาธารณะ</td>\n",
              "      <td>ทอท.</td>\n",
              "      <td>ท่าอากาศยานสุวรรณภูมิ ขาออกประเทศ</td>\n",
              "      <td>2028379</td>\n",
              "      <td>1919774.0</td>\n",
              "      <td>2064603.0</td>\n",
              "      <td>1891725.0</td>\n",
              "      <td>1652994.0</td>\n",
              "      <td>1600979.0</td>\n",
              "      <td>1762927.0</td>\n",
              "      <td>1888899.0</td>\n",
              "      <td>1543004.0</td>\n",
              "      <td>1729385.0</td>\n",
              "      <td>1799319.0</td>\n",
              "      <td>1952980.0</td>\n",
              "    </tr>\n",
              "    <tr>\n",
              "      <th>34</th>\n",
              "      <td>ขนคน (คน)</td>\n",
              "      <td>ทางอากาศ</td>\n",
              "      <td>การเดินทางระหว่างประเทศ</td>\n",
              "      <td>สาธารณะ</td>\n",
              "      <td>ทอท.</td>\n",
              "      <td>ท่าอากาศยานดอนเมือง ขาเข้าประเทศ</td>\n",
              "      <td>748089</td>\n",
              "      <td>702251.0</td>\n",
              "      <td>774448.0</td>\n",
              "      <td>764724.0</td>\n",
              "      <td>692187.0</td>\n",
              "      <td>687321.0</td>\n",
              "      <td>744731.0</td>\n",
              "      <td>780482.0</td>\n",
              "      <td>681134.0</td>\n",
              "      <td>738845.0</td>\n",
              "      <td>728209.0</td>\n",
              "      <td>805839.0</td>\n",
              "    </tr>\n",
              "    <tr>\n",
              "      <th>35</th>\n",
              "      <td>ขนคน (คน)</td>\n",
              "      <td>ทางอากาศ</td>\n",
              "      <td>การเดินทางระหว่างประเทศ</td>\n",
              "      <td>สาธารณะ</td>\n",
              "      <td>ทอท.</td>\n",
              "      <td>ท่าอากาศยานดอนเมือง ขาออกประเทศ</td>\n",
              "      <td>702441</td>\n",
              "      <td>978370.0</td>\n",
              "      <td>748852.0</td>\n",
              "      <td>707809.0</td>\n",
              "      <td>658868.0</td>\n",
              "      <td>623405.0</td>\n",
              "      <td>689064.0</td>\n",
              "      <td>707514.0</td>\n",
              "      <td>635938.0</td>\n",
              "      <td>705790.0</td>\n",
              "      <td>676655.0</td>\n",
              "      <td>744031.0</td>\n",
              "    </tr>\n",
              "    <tr>\n",
              "      <th>36</th>\n",
              "      <td>ขนคน (คน)</td>\n",
              "      <td>ทางอากาศ</td>\n",
              "      <td>การเดินทางระหว่างประเทศ</td>\n",
              "      <td>สาธารณะ</td>\n",
              "      <td>ทอท.</td>\n",
              "      <td>ท่าอากาศอื่น ๆ ของ ทอท.ขาเข้าประเทศ</td>\n",
              "      <td>753017</td>\n",
              "      <td>710321.0</td>\n",
              "      <td>698460.0</td>\n",
              "      <td>591289.0</td>\n",
              "      <td>455767.0</td>\n",
              "      <td>494260.0</td>\n",
              "      <td>574456.0</td>\n",
              "      <td>578856.0</td>\n",
              "      <td>482615.0</td>\n",
              "      <td>556104.0</td>\n",
              "      <td>630423.0</td>\n",
              "      <td>755055.0</td>\n",
              "    </tr>\n",
              "    <tr>\n",
              "      <th>37</th>\n",
              "      <td>ขนคน (คน)</td>\n",
              "      <td>ทางอากาศ</td>\n",
              "      <td>การเดินทางระหว่างประเทศ</td>\n",
              "      <td>สาธารณะ</td>\n",
              "      <td>ทอท.</td>\n",
              "      <td>ท่าอากาศอื่น ๆ ของ ทอท. ขาออกประเทศ</td>\n",
              "      <td>750052</td>\n",
              "      <td>733723.0</td>\n",
              "      <td>741191.0</td>\n",
              "      <td>600419.0</td>\n",
              "      <td>489178.0</td>\n",
              "      <td>473202.0</td>\n",
              "      <td>542494.0</td>\n",
              "      <td>594959.0</td>\n",
              "      <td>466849.0</td>\n",
              "      <td>531082.0</td>\n",
              "      <td>612620.0</td>\n",
              "      <td>682621.0</td>\n",
              "    </tr>\n",
              "    <tr>\n",
              "      <th>38</th>\n",
              "      <td>ขนคน (คน)</td>\n",
              "      <td>ทางอากาศ</td>\n",
              "      <td>การเดินทางระหว่างประเทศ</td>\n",
              "      <td>สาธารณะ</td>\n",
              "      <td>ทย.</td>\n",
              "      <td>ท่าอากาศยานภูมิภาค ขาเข้าประเทศ</td>\n",
              "      <td>98581</td>\n",
              "      <td>108408.0</td>\n",
              "      <td>71729.0</td>\n",
              "      <td>50038.0</td>\n",
              "      <td>42413.0</td>\n",
              "      <td>45414.0</td>\n",
              "      <td>50103.0</td>\n",
              "      <td>55074.0</td>\n",
              "      <td>43331.0</td>\n",
              "      <td>37486.0</td>\n",
              "      <td>45609.0</td>\n",
              "      <td>72067.0</td>\n",
              "    </tr>\n",
              "    <tr>\n",
              "      <th>39</th>\n",
              "      <td>ขนคน (คน)</td>\n",
              "      <td>ทางอากาศ</td>\n",
              "      <td>การเดินทางระหว่างประเทศ</td>\n",
              "      <td>สาธารณะ</td>\n",
              "      <td>ทย.</td>\n",
              "      <td>ท่าอากาศยานภูมิภาค ขาออกประเทศ</td>\n",
              "      <td>96843</td>\n",
              "      <td>116047.0</td>\n",
              "      <td>83223.0</td>\n",
              "      <td>53096.0</td>\n",
              "      <td>47317.0</td>\n",
              "      <td>45001.0</td>\n",
              "      <td>51994.0</td>\n",
              "      <td>52701.0</td>\n",
              "      <td>44119.0</td>\n",
              "      <td>38058.0</td>\n",
              "      <td>42175.0</td>\n",
              "      <td>59594.0</td>\n",
              "    </tr>\n",
              "  </tbody>\n",
              "</table>\n",
              "</div>"
            ],
            "text/plain": [
              "   ขนคน/ขนสินค้า โหมดการเดินทาง  ...   พ.ย. 2562   ธ.ค. 2562\n",
              "0      ขนคน (คน)          ทางบก  ...   4559610.0   4840673.0\n",
              "2      ขนคน (คน)          ทางบก  ...   2450888.0   2516032.0\n",
              "3     ขนคน (คัน)          ทางบก  ...  28325020.0  29615013.0\n",
              "4     ขนคน (คัน)          ทางบก  ...  46996660.0  47294111.0\n",
              "6      ขนคน (คน)          ทางบก  ...    108037.0    104032.0\n",
              "8      ขนคน (คน)          ทางบก  ...  29672244.0  29019427.0\n",
              "9      ขนคน (คน)          ทางบก  ...  25368180.0  24993204.0\n",
              "13     ขนคน (คน)         ทางน้ำ  ...    771668.0    766378.0\n",
              "14     ขนคน (คน)         ทางน้ำ  ...    837965.0    796559.0\n",
              "15     ขนคน (คน)         ทางน้ำ  ...   6420869.0   7216193.0\n",
              "17     ขนคน (คน)         ทางราง  ...   2609722.0   2715880.0\n",
              "18     ขนคน (คน)         ทางราง  ...  11520590.0  10265578.0\n",
              "19     ขนคน (คน)         ทางราง  ...   1305024.0   1179272.0\n",
              "20     ขนคน (คน)         ทางราง  ...   2290792.0   2181036.0\n",
              "21     ขนคน (คน)         ทางราง  ...  21300000.0  20900000.0\n",
              "22     ขนคน (คน)       ทางอากาศ  ...    411562.0    458992.0\n",
              "23     ขนคน (คน)       ทางอากาศ  ...    936619.0    986303.0\n",
              "24     ขนคน (คน)       ทางอากาศ  ...    903852.0    924307.0\n",
              "25     ขนคน (คน)       ทางอากาศ  ...    674826.0    724097.0\n",
              "26     ขนคน (คน)         ทางถนน  ...     19912.0     21968.0\n",
              "27     ขนคน (คน)         ทางถนน  ...     26225.0     32820.0\n",
              "28     ขนคน (คน)         ทางราง  ...       253.0       330.0\n",
              "29     ขนคน (คน)         ทางราง  ...       667.0       818.0\n",
              "32     ขนคน (คน)       ทางอากาศ  ...   2301907.0   2545272.0\n",
              "33     ขนคน (คน)       ทางอากาศ  ...   1799319.0   1952980.0\n",
              "34     ขนคน (คน)       ทางอากาศ  ...    728209.0    805839.0\n",
              "35     ขนคน (คน)       ทางอากาศ  ...    676655.0    744031.0\n",
              "36     ขนคน (คน)       ทางอากาศ  ...    630423.0    755055.0\n",
              "37     ขนคน (คน)       ทางอากาศ  ...    612620.0    682621.0\n",
              "38     ขนคน (คน)       ทางอากาศ  ...     45609.0     72067.0\n",
              "39     ขนคน (คน)       ทางอากาศ  ...     42175.0     59594.0\n",
              "\n",
              "[31 rows x 18 columns]"
            ]
          },
          "metadata": {
            "tags": []
          },
          "execution_count": 8
        }
      ]
    },
    {
      "cell_type": "code",
      "metadata": {
        "colab": {
          "base_uri": "https://localhost:8080/",
          "height": 282
        },
        "id": "nv5hpxGoFJDp",
        "outputId": "d59c3da7-1500-45d5-e382-e22f609bf0bc"
      },
      "source": [
        "plt.scatter([0,100,200],[200,200,200],s=[200,3000,700]) #เปรียบเทียบโดยขนาดมาร์ก การเปรียบก็ต้องตั้งอยู่ข้างกัน"
      ],
      "execution_count": 11,
      "outputs": [
        {
          "output_type": "execute_result",
          "data": {
            "text/plain": [
              "<matplotlib.collections.PathCollection at 0x7efda63b5fd0>"
            ]
          },
          "metadata": {
            "tags": []
          },
          "execution_count": 11
        },
        {
          "output_type": "display_data",
          "data": {
            "image/png": "[encoded data removed]",
            "text/plain": [
              "<Figure size 432x288 with 1 Axes>"
            ]
          },
          "metadata": {
            "tags": [],
            "needs_background": "light"
          }
        }
      ]
    },
    {
      "cell_type": "code",
      "metadata": {
        "colab": {
          "base_uri": "https://localhost:8080/",
          "height": 643
        },
        "id": "5IqmD2n7DFPo",
        "outputId": "c1203baf-4ff5-4158-8ed4-45e293edbc31"
      },
      "source": [
        "plt.scatter([0,100,200],[200,200,200],s=0.01*data_drop.iloc[:3,6]) "
      ],
      "execution_count": 12,
      "outputs": [
        {
          "output_type": "error",
          "ename": "TypeError",
          "evalue": "ignored",
          "traceback": [
            "\u001b[0;31m---------------------------------------------------------------------------\u001b[0m",
            "\u001b[0;31mAttributeError\u001b[0m                            Traceback (most recent call last)",
            "\u001b[0;31mAttributeError\u001b[0m: 'float' object has no attribute 'sqrt'",
            "\nThe above exception was the direct cause of the following exception:\n",
            "\u001b[0;31mTypeError\u001b[0m                                 Traceback (most recent call last)",
            "\u001b[0;32m<ipython-input-12-f846bcddb6d2>\u001b[0m in \u001b[0;36m<module>\u001b[0;34m()\u001b[0m\n\u001b[0;32m----> 1\u001b[0;31m \u001b[0mplt\u001b[0m\u001b[0;34m.\u001b[0m\u001b[0mscatter\u001b[0m\u001b[0;34m(\u001b[0m\u001b[0;34m[\u001b[0m\u001b[0;36m0\u001b[0m\u001b[0;34m,\u001b[0m\u001b[0;36m100\u001b[0m\u001b[0;34m,\u001b[0m\u001b[0;36m200\u001b[0m\u001b[0;34m]\u001b[0m\u001b[0;34m,\u001b[0m\u001b[0;34m[\u001b[0m\u001b[0;36m200\u001b[0m\u001b[0;34m,\u001b[0m\u001b[0;36m200\u001b[0m\u001b[0;34m,\u001b[0m\u001b[0;36m200\u001b[0m\u001b[0;34m]\u001b[0m\u001b[0;34m,\u001b[0m\u001b[0ms\u001b[0m\u001b[0;34m=\u001b[0m\u001b[0;36m0.01\u001b[0m\u001b[0;34m*\u001b[0m\u001b[0mdata_drop\u001b[0m\u001b[0;34m.\u001b[0m\u001b[0miloc\u001b[0m\u001b[0;34m[\u001b[0m\u001b[0;34m:\u001b[0m\u001b[0;36m3\u001b[0m\u001b[0;34m,\u001b[0m\u001b[0;36m6\u001b[0m\u001b[0;34m]\u001b[0m\u001b[0;34m)\u001b[0m\u001b[0;34m\u001b[0m\u001b[0;34m\u001b[0m\u001b[0m\n\u001b[0m",
            "\u001b[0;32m/usr/local/lib/python3.7/dist-packages/matplotlib/pyplot.py\u001b[0m in \u001b[0;36mscatter\u001b[0;34m(x, y, s, c, marker, cmap, norm, vmin, vmax, alpha, linewidths, verts, edgecolors, plotnonfinite, data, **kwargs)\u001b[0m\n\u001b[1;32m   2814\u001b[0m         \u001b[0mverts\u001b[0m\u001b[0;34m=\u001b[0m\u001b[0mverts\u001b[0m\u001b[0;34m,\u001b[0m \u001b[0medgecolors\u001b[0m\u001b[0;34m=\u001b[0m\u001b[0medgecolors\u001b[0m\u001b[0;34m,\u001b[0m\u001b[0;34m\u001b[0m\u001b[0;34m\u001b[0m\u001b[0m\n\u001b[1;32m   2815\u001b[0m         plotnonfinite=plotnonfinite, **({\"data\": data} if data is not\n\u001b[0;32m-> 2816\u001b[0;31m         None else {}), **kwargs)\n\u001b[0m\u001b[1;32m   2817\u001b[0m     \u001b[0msci\u001b[0m\u001b[0;34m(\u001b[0m\u001b[0m__ret\u001b[0m\u001b[0;34m)\u001b[0m\u001b[0;34m\u001b[0m\u001b[0;34m\u001b[0m\u001b[0m\n\u001b[1;32m   2818\u001b[0m     \u001b[0;32mreturn\u001b[0m \u001b[0m__ret\u001b[0m\u001b[0;34m\u001b[0m\u001b[0;34m\u001b[0m\u001b[0m\n",
            "\u001b[0;32m/usr/local/lib/python3.7/dist-packages/matplotlib/__init__.py\u001b[0m in \u001b[0;36minner\u001b[0;34m(ax, data, *args, **kwargs)\u001b[0m\n\u001b[1;32m   1563\u001b[0m     \u001b[0;32mdef\u001b[0m \u001b[0minner\u001b[0m\u001b[0;34m(\u001b[0m\u001b[0max\u001b[0m\u001b[0;34m,\u001b[0m \u001b[0;34m*\u001b[0m\u001b[0margs\u001b[0m\u001b[0;34m,\u001b[0m \u001b[0mdata\u001b[0m\u001b[0;34m=\u001b[0m\u001b[0;32mNone\u001b[0m\u001b[0;34m,\u001b[0m \u001b[0;34m**\u001b[0m\u001b[0mkwargs\u001b[0m\u001b[0;34m)\u001b[0m\u001b[0;34m:\u001b[0m\u001b[0;34m\u001b[0m\u001b[0;34m\u001b[0m\u001b[0m\n\u001b[1;32m   1564\u001b[0m         \u001b[0;32mif\u001b[0m \u001b[0mdata\u001b[0m \u001b[0;32mis\u001b[0m \u001b[0;32mNone\u001b[0m\u001b[0;34m:\u001b[0m\u001b[0;34m\u001b[0m\u001b[0;34m\u001b[0m\u001b[0m\n\u001b[0;32m-> 1565\u001b[0;31m             \u001b[0;32mreturn\u001b[0m \u001b[0mfunc\u001b[0m\u001b[0;34m(\u001b[0m\u001b[0max\u001b[0m\u001b[0;34m,\u001b[0m \u001b[0;34m*\u001b[0m\u001b[0mmap\u001b[0m\u001b[0;34m(\u001b[0m\u001b[0msanitize_sequence\u001b[0m\u001b[0;34m,\u001b[0m \u001b[0margs\u001b[0m\u001b[0;34m)\u001b[0m\u001b[0;34m,\u001b[0m \u001b[0;34m**\u001b[0m\u001b[0mkwargs\u001b[0m\u001b[0;34m)\u001b[0m\u001b[0;34m\u001b[0m\u001b[0;34m\u001b[0m\u001b[0m\n\u001b[0m\u001b[1;32m   1566\u001b[0m \u001b[0;34m\u001b[0m\u001b[0m\n\u001b[1;32m   1567\u001b[0m         \u001b[0mbound\u001b[0m \u001b[0;34m=\u001b[0m \u001b[0mnew_sig\u001b[0m\u001b[0;34m.\u001b[0m\u001b[0mbind\u001b[0m\u001b[0;34m(\u001b[0m\u001b[0max\u001b[0m\u001b[0;34m,\u001b[0m \u001b[0;34m*\u001b[0m\u001b[0margs\u001b[0m\u001b[0;34m,\u001b[0m \u001b[0;34m**\u001b[0m\u001b[0mkwargs\u001b[0m\u001b[0;34m)\u001b[0m\u001b[0;34m\u001b[0m\u001b[0;34m\u001b[0m\u001b[0m\n",
            "\u001b[0;32m/usr/local/lib/python3.7/dist-packages/matplotlib/cbook/deprecation.py\u001b[0m in \u001b[0;36mwrapper\u001b[0;34m(*args, **kwargs)\u001b[0m\n\u001b[1;32m    356\u001b[0m                 \u001b[0;34mf\"%(removal)s.  If any parameter follows {name!r}, they \"\u001b[0m\u001b[0;34m\u001b[0m\u001b[0;34m\u001b[0m\u001b[0m\n\u001b[1;32m    357\u001b[0m                 f\"should be pass as keyword, not positionally.\")\n\u001b[0;32m--> 358\u001b[0;31m         \u001b[0;32mreturn\u001b[0m \u001b[0mfunc\u001b[0m\u001b[0;34m(\u001b[0m\u001b[0;34m*\u001b[0m\u001b[0margs\u001b[0m\u001b[0;34m,\u001b[0m \u001b[0;34m**\u001b[0m\u001b[0mkwargs\u001b[0m\u001b[0;34m)\u001b[0m\u001b[0;34m\u001b[0m\u001b[0;34m\u001b[0m\u001b[0m\n\u001b[0m\u001b[1;32m    359\u001b[0m \u001b[0;34m\u001b[0m\u001b[0m\n\u001b[1;32m    360\u001b[0m     \u001b[0;32mreturn\u001b[0m \u001b[0mwrapper\u001b[0m\u001b[0;34m\u001b[0m\u001b[0;34m\u001b[0m\u001b[0m\n",
            "\u001b[0;32m/usr/local/lib/python3.7/dist-packages/matplotlib/axes/_axes.py\u001b[0m in \u001b[0;36mscatter\u001b[0;34m(self, x, y, s, c, marker, cmap, norm, vmin, vmax, alpha, linewidths, verts, edgecolors, plotnonfinite, **kwargs)\u001b[0m\n\u001b[1;32m   4438\u001b[0m                 \u001b[0moffsets\u001b[0m\u001b[0;34m=\u001b[0m\u001b[0moffsets\u001b[0m\u001b[0;34m,\u001b[0m\u001b[0;34m\u001b[0m\u001b[0;34m\u001b[0m\u001b[0m\n\u001b[1;32m   4439\u001b[0m                 \u001b[0mtransOffset\u001b[0m\u001b[0;34m=\u001b[0m\u001b[0mkwargs\u001b[0m\u001b[0;34m.\u001b[0m\u001b[0mpop\u001b[0m\u001b[0;34m(\u001b[0m\u001b[0;34m'transform'\u001b[0m\u001b[0;34m,\u001b[0m \u001b[0mself\u001b[0m\u001b[0;34m.\u001b[0m\u001b[0mtransData\u001b[0m\u001b[0;34m)\u001b[0m\u001b[0;34m,\u001b[0m\u001b[0;34m\u001b[0m\u001b[0;34m\u001b[0m\u001b[0m\n\u001b[0;32m-> 4440\u001b[0;31m                 \u001b[0malpha\u001b[0m\u001b[0;34m=\u001b[0m\u001b[0malpha\u001b[0m\u001b[0;34m\u001b[0m\u001b[0;34m\u001b[0m\u001b[0m\n\u001b[0m\u001b[1;32m   4441\u001b[0m                 )\n\u001b[1;32m   4442\u001b[0m         \u001b[0mcollection\u001b[0m\u001b[0;34m.\u001b[0m\u001b[0mset_transform\u001b[0m\u001b[0;34m(\u001b[0m\u001b[0mmtransforms\u001b[0m\u001b[0;34m.\u001b[0m\u001b[0mIdentityTransform\u001b[0m\u001b[0;34m(\u001b[0m\u001b[0;34m)\u001b[0m\u001b[0;34m)\u001b[0m\u001b[0;34m\u001b[0m\u001b[0;34m\u001b[0m\u001b[0m\n",
            "\u001b[0;32m/usr/local/lib/python3.7/dist-packages/matplotlib/collections.py\u001b[0m in \u001b[0;36m__init__\u001b[0;34m(self, paths, sizes, **kwargs)\u001b[0m\n\u001b[1;32m    911\u001b[0m         \u001b[0mCollection\u001b[0m\u001b[0;34m.\u001b[0m\u001b[0m__init__\u001b[0m\u001b[0;34m(\u001b[0m\u001b[0mself\u001b[0m\u001b[0;34m,\u001b[0m \u001b[0;34m**\u001b[0m\u001b[0mkwargs\u001b[0m\u001b[0;34m)\u001b[0m\u001b[0;34m\u001b[0m\u001b[0;34m\u001b[0m\u001b[0m\n\u001b[1;32m    912\u001b[0m         \u001b[0mself\u001b[0m\u001b[0;34m.\u001b[0m\u001b[0mset_paths\u001b[0m\u001b[0;34m(\u001b[0m\u001b[0mpaths\u001b[0m\u001b[0;34m)\u001b[0m\u001b[0;34m\u001b[0m\u001b[0;34m\u001b[0m\u001b[0m\n\u001b[0;32m--> 913\u001b[0;31m         \u001b[0mself\u001b[0m\u001b[0;34m.\u001b[0m\u001b[0mset_sizes\u001b[0m\u001b[0;34m(\u001b[0m\u001b[0msizes\u001b[0m\u001b[0;34m)\u001b[0m\u001b[0;34m\u001b[0m\u001b[0;34m\u001b[0m\u001b[0m\n\u001b[0m\u001b[1;32m    914\u001b[0m         \u001b[0mself\u001b[0m\u001b[0;34m.\u001b[0m\u001b[0mstale\u001b[0m \u001b[0;34m=\u001b[0m \u001b[0;32mTrue\u001b[0m\u001b[0;34m\u001b[0m\u001b[0;34m\u001b[0m\u001b[0m\n\u001b[1;32m    915\u001b[0m \u001b[0;34m\u001b[0m\u001b[0m\n",
            "\u001b[0;32m/usr/local/lib/python3.7/dist-packages/matplotlib/collections.py\u001b[0m in \u001b[0;36mset_sizes\u001b[0;34m(self, sizes, dpi)\u001b[0m\n\u001b[1;32m    883\u001b[0m             \u001b[0mself\u001b[0m\u001b[0;34m.\u001b[0m\u001b[0m_sizes\u001b[0m \u001b[0;34m=\u001b[0m \u001b[0mnp\u001b[0m\u001b[0;34m.\u001b[0m\u001b[0masarray\u001b[0m\u001b[0;34m(\u001b[0m\u001b[0msizes\u001b[0m\u001b[0;34m)\u001b[0m\u001b[0;34m\u001b[0m\u001b[0;34m\u001b[0m\u001b[0m\n\u001b[1;32m    884\u001b[0m             \u001b[0mself\u001b[0m\u001b[0;34m.\u001b[0m\u001b[0m_transforms\u001b[0m \u001b[0;34m=\u001b[0m \u001b[0mnp\u001b[0m\u001b[0;34m.\u001b[0m\u001b[0mzeros\u001b[0m\u001b[0;34m(\u001b[0m\u001b[0;34m(\u001b[0m\u001b[0mlen\u001b[0m\u001b[0;34m(\u001b[0m\u001b[0mself\u001b[0m\u001b[0;34m.\u001b[0m\u001b[0m_sizes\u001b[0m\u001b[0;34m)\u001b[0m\u001b[0;34m,\u001b[0m \u001b[0;36m3\u001b[0m\u001b[0;34m,\u001b[0m \u001b[0;36m3\u001b[0m\u001b[0;34m)\u001b[0m\u001b[0;34m)\u001b[0m\u001b[0;34m\u001b[0m\u001b[0;34m\u001b[0m\u001b[0m\n\u001b[0;32m--> 885\u001b[0;31m             \u001b[0mscale\u001b[0m \u001b[0;34m=\u001b[0m \u001b[0mnp\u001b[0m\u001b[0;34m.\u001b[0m\u001b[0msqrt\u001b[0m\u001b[0;34m(\u001b[0m\u001b[0mself\u001b[0m\u001b[0;34m.\u001b[0m\u001b[0m_sizes\u001b[0m\u001b[0;34m)\u001b[0m \u001b[0;34m*\u001b[0m \u001b[0mdpi\u001b[0m \u001b[0;34m/\u001b[0m \u001b[0;36m72.0\u001b[0m \u001b[0;34m*\u001b[0m \u001b[0mself\u001b[0m\u001b[0;34m.\u001b[0m\u001b[0m_factor\u001b[0m\u001b[0;34m\u001b[0m\u001b[0;34m\u001b[0m\u001b[0m\n\u001b[0m\u001b[1;32m    886\u001b[0m             \u001b[0mself\u001b[0m\u001b[0;34m.\u001b[0m\u001b[0m_transforms\u001b[0m\u001b[0;34m[\u001b[0m\u001b[0;34m:\u001b[0m\u001b[0;34m,\u001b[0m \u001b[0;36m0\u001b[0m\u001b[0;34m,\u001b[0m \u001b[0;36m0\u001b[0m\u001b[0;34m]\u001b[0m \u001b[0;34m=\u001b[0m \u001b[0mscale\u001b[0m\u001b[0;34m\u001b[0m\u001b[0;34m\u001b[0m\u001b[0m\n\u001b[1;32m    887\u001b[0m             \u001b[0mself\u001b[0m\u001b[0;34m.\u001b[0m\u001b[0m_transforms\u001b[0m\u001b[0;34m[\u001b[0m\u001b[0;34m:\u001b[0m\u001b[0;34m,\u001b[0m \u001b[0;36m1\u001b[0m\u001b[0;34m,\u001b[0m \u001b[0;36m1\u001b[0m\u001b[0;34m]\u001b[0m \u001b[0;34m=\u001b[0m \u001b[0mscale\u001b[0m\u001b[0;34m\u001b[0m\u001b[0;34m\u001b[0m\u001b[0m\n",
            "\u001b[0;31mTypeError\u001b[0m: loop of ufunc does not support argument 0 of type float which has no callable sqrt method"
          ]
        },
        {
          "output_type": "display_data",
          "data": {
            "image/png": "[encoded data removed]",
            "text/plain": [
              "<Figure size 432x288 with 1 Axes>"
            ]
          },
          "metadata": {
            "tags": [],
            "needs_background": "light"
          }
        }
      ]
    },
    {
      "cell_type": "markdown",
      "metadata": {
        "id": "oGs_XhBmLB9L"
      },
      "source": [
        "##Box-plot"
      ]
    },
    {
      "cell_type": "code",
      "metadata": {
        "colab": {
          "base_uri": "https://localhost:8080/",
          "height": 204
        },
        "id": "TkdtpJyVSu3M",
        "outputId": "e938c6f6-bd58-488b-e8d0-1fb2d3daad87"
      },
      "source": [
        "df = pd.read_csv(\"https://raw.github.com/pandas-dev/pandas/master/pandas/tests/io/data/csv/iris.csv\")\r\n",
        "df.head()"
      ],
      "execution_count": 13,
      "outputs": [
        {
          "output_type": "execute_result",
          "data": {
            "text/html": [
              "<div>\n",
              "<style scoped>\n",
              "    .dataframe tbody tr th:only-of-type {\n",
              "        vertical-align: middle;\n",
              "    }\n",
              "\n",
              "    .dataframe tbody tr th {\n",
              "        vertical-align: top;\n",
              "    }\n",
              "\n",
              "    .dataframe thead th {\n",
              "        text-align: right;\n",
              "    }\n",
              "</style>\n",
              "<table border=\"1\" class=\"dataframe\">\n",
              "  <thead>\n",
              "    <tr style=\"text-align: right;\">\n",
              "      <th></th>\n",
              "      <th>SepalLength</th>\n",
              "      <th>SepalWidth</th>\n",
              "      <th>PetalLength</th>\n",
              "      <th>PetalWidth</th>\n",
              "      <th>Name</th>\n",
              "    </tr>\n",
              "  </thead>\n",
              "  <tbody>\n",
              "    <tr>\n",
              "      <th>0</th>\n",
              "      <td>5.1</td>\n",
              "      <td>3.5</td>\n",
              "      <td>1.4</td>\n",
              "      <td>0.2</td>\n",
              "      <td>Iris-setosa</td>\n",
              "    </tr>\n",
              "    <tr>\n",
              "      <th>1</th>\n",
              "      <td>4.9</td>\n",
              "      <td>3.0</td>\n",
              "      <td>1.4</td>\n",
              "      <td>0.2</td>\n",
              "      <td>Iris-setosa</td>\n",
              "    </tr>\n",
              "    <tr>\n",
              "      <th>2</th>\n",
              "      <td>4.7</td>\n",
              "      <td>3.2</td>\n",
              "      <td>1.3</td>\n",
              "      <td>0.2</td>\n",
              "      <td>Iris-setosa</td>\n",
              "    </tr>\n",
              "    <tr>\n",
              "      <th>3</th>\n",
              "      <td>4.6</td>\n",
              "      <td>3.1</td>\n",
              "      <td>1.5</td>\n",
              "      <td>0.2</td>\n",
              "      <td>Iris-setosa</td>\n",
              "    </tr>\n",
              "    <tr>\n",
              "      <th>4</th>\n",
              "      <td>5.0</td>\n",
              "      <td>3.6</td>\n",
              "      <td>1.4</td>\n",
              "      <td>0.2</td>\n",
              "      <td>Iris-setosa</td>\n",
              "    </tr>\n",
              "  </tbody>\n",
              "</table>\n",
              "</div>"
            ],
            "text/plain": [
              "   SepalLength  SepalWidth  PetalLength  PetalWidth         Name\n",
              "0          5.1         3.5          1.4         0.2  Iris-setosa\n",
              "1          4.9         3.0          1.4         0.2  Iris-setosa\n",
              "2          4.7         3.2          1.3         0.2  Iris-setosa\n",
              "3          4.6         3.1          1.5         0.2  Iris-setosa\n",
              "4          5.0         3.6          1.4         0.2  Iris-setosa"
            ]
          },
          "metadata": {
            "tags": []
          },
          "execution_count": 13
        }
      ]
    },
    {
      "cell_type": "code",
      "metadata": {
        "id": "k-38AV0lE8pt",
        "colab": {
          "base_uri": "https://localhost:8080/",
          "height": 268
        },
        "outputId": "61d1653f-5434-4ffb-c3fa-7a73b87718df"
      },
      "source": [
        "O = plt.boxplot(df['SepalWidth'],showmeans=True,meanline=True)"
      ],
      "execution_count": 29,
      "outputs": [
        {
          "output_type": "display_data",
          "data": {
            "image/png": "[encoded data removed]",
            "text/plain": [
              "<Figure size 432x288 with 1 Axes>"
            ]
          },
          "metadata": {
            "tags": [],
            "needs_background": "light"
          }
        }
      ]
    },
    {
      "cell_type": "code",
      "metadata": {
        "colab": {
          "base_uri": "https://localhost:8080/"
        },
        "id": "RwTQPoYFSynV",
        "outputId": "423f973a-98d2-4d65-834c-f7ea81b729ad"
      },
      "source": [
        "O"
      ],
      "execution_count": 19,
      "outputs": [
        {
          "output_type": "execute_result",
          "data": {
            "text/plain": [
              "{'boxes': [<matplotlib.lines.Line2D at 0x7efd9fb0b790>],\n",
              " 'caps': [<matplotlib.lines.Line2D at 0x7efd9fb0f7d0>,\n",
              "  <matplotlib.lines.Line2D at 0x7efd9fb0fd10>],\n",
              " 'fliers': [<matplotlib.lines.Line2D at 0x7efd9fb16810>],\n",
              " 'means': [],\n",
              " 'medians': [<matplotlib.lines.Line2D at 0x7efd9fb162d0>],\n",
              " 'whiskers': [<matplotlib.lines.Line2D at 0x7efd9fb0bd10>,\n",
              "  <matplotlib.lines.Line2D at 0x7efd9fb0f290>]}"
            ]
          },
          "metadata": {
            "tags": []
          },
          "execution_count": 19
        }
      ]
    },
    {
      "cell_type": "code",
      "metadata": {
        "colab": {
          "base_uri": "https://localhost:8080/"
        },
        "id": "JzQGsGtpVQ4o",
        "outputId": "18eae169-c634-4a4d-e119-35f491bca364"
      },
      "source": [
        "O['fliers'][0].get_ydata() #ตำแหน่งของค่า outlier ในแกน y"
      ],
      "execution_count": 27,
      "outputs": [
        {
          "output_type": "execute_result",
          "data": {
            "text/plain": [
              "array([2. , 4.4, 4.1, 4.2])"
            ]
          },
          "metadata": {
            "tags": []
          },
          "execution_count": 27
        }
      ]
    },
    {
      "cell_type": "code",
      "metadata": {
        "colab": {
          "base_uri": "https://localhost:8080/"
        },
        "id": "jNfEDFhCVdjB",
        "outputId": "8fde3049-83e1-4c61-bb1e-6d9309dbd2f9"
      },
      "source": [
        "O['fliers'][0].get_xdata() #ตำแหน่งของค่า outlier ในแกน x"
      ],
      "execution_count": 26,
      "outputs": [
        {
          "output_type": "execute_result",
          "data": {
            "text/plain": [
              "array([1., 1., 1., 1.])"
            ]
          },
          "metadata": {
            "tags": []
          },
          "execution_count": 26
        }
      ]
    },
    {
      "cell_type": "code",
      "metadata": {
        "colab": {
          "base_uri": "https://localhost:8080/",
          "height": 265
        },
        "id": "DO7Yquf4VrjL",
        "outputId": "e0013e2a-f0ed-4b0e-d7d1-b1e4bcdf1639"
      },
      "source": [
        "O = plt.boxplot(df['SepalWidth'],showmeans=True,meanline=True,vert=False)"
      ],
      "execution_count": 31,
      "outputs": [
        {
          "output_type": "display_data",
          "data": {
            "image/png": "[encoded data removed]",
            "text/plain": [
              "<Figure size 432x288 with 1 Axes>"
            ]
          },
          "metadata": {
            "tags": [],
            "needs_background": "light"
          }
        }
      ]
    },
    {
      "cell_type": "markdown",
      "metadata": {
        "id": "zpCKkSemY0TU"
      },
      "source": [
        "* เปรียบเทียบ boxplot ของดอกไม้หลายๆชนิด"
      ]
    },
    {
      "cell_type": "code",
      "metadata": {
        "id": "-QKuRyJJYzny"
      },
      "source": [
        ""
      ],
      "execution_count": null,
      "outputs": []
    },
    {
      "cell_type": "code",
      "metadata": {
        "id": "2pJWZh1pYuW3"
      },
      "source": [
        ""
      ],
      "execution_count": null,
      "outputs": []
    }
  ]
}