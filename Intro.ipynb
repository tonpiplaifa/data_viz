{
  "nbformat": 4,
  "nbformat_minor": 0,
  "metadata": {
    "colab": {
      "name": "Intro.ipynb",
      "provenance": [],
      "authorship_tag": "ABX9TyNMF+r+oTCRgJSTj/kEeSJG",
      "include_colab_link": true
    },
    "kernelspec": {
      "name": "python3",
      "display_name": "Python 3"
    }
  },
  "cells": [
    {
      "cell_type": "markdown",
      "metadata": {
        "id": "view-in-github",
        "colab_type": "text"
      },
      "source": [
        "<a href=\"https://colab.research.google.com/github/tonpiplaifa/data_viz/blob/main/Intro.ipynb\" target=\"_parent\"><img src=\"https://colab.research.google.com/assets/colab-badge.svg\" alt=\"Open In Colab\"/></a>"
      ]
    },
    {
      "cell_type": "markdown",
      "metadata": {
        "id": "9-zHlB26Mcjx"
      },
      "source": [
        "นางสาว เยาวลักษณ์ สมพงษ์  "
      ]
    },
    {
      "cell_type": "markdown",
      "metadata": {
        "id": "AjINBTaWNJFV"
      },
      "source": [
        "ภาษา markdown เพื่อความสวยงาม ทำให้อ่านง่ายขึ้น\n",
        "# markdown\n",
        "## markdown\n",
        "### markdown\n",
        "\n",
        "~strike~ เป็นการขีดฆ่าข้อความ\n"
      ]
    },
    {
      "cell_type": "code",
      "metadata": {
        "colab": {
          "base_uri": "https://localhost:8080/"
        },
        "id": "QzGWzuVBLHX8",
        "outputId": "31817377-b881-486e-a7f5-df64cbd52a85"
      },
      "source": [
        "print('นางสาวเยาวลักษณ์ สมพงษ์')"
      ],
      "execution_count": 1,
      "outputs": [
        {
          "output_type": "stream",
          "text": [
            "นางสาวเยาวลักษณ์ สมพงษ์\n"
          ],
          "name": "stdout"
        }
      ]
    },
    {
      "cell_type": "code",
      "metadata": {
        "id": "PFbxQxXDMqRn"
      },
      "source": [
        ""
      ],
      "execution_count": null,
      "outputs": []
    }
  ]
}