{
  "nbformat": 4,
  "nbformat_minor": 0,
  "metadata": {
    "colab": {
      "name": "Function_Loop_Condition.ipynb",
      "provenance": [],
      "authorship_tag": "ABX9TyMlEcNTY1TzZMfNFm7LXOkx",
      "include_colab_link": true
    },
    "kernelspec": {
      "name": "python3",
      "display_name": "Python 3"
    }
  },
  "cells": [
    {
      "cell_type": "markdown",
      "metadata": {
        "id": "view-in-github",
        "colab_type": "text"
      },
      "source": [
        "<a href=\"https://colab.research.google.com/github/tonpiplaifa/data_viz/blob/main/Function_Loop_Condition.ipynb\" target=\"_parent\"><img src=\"https://colab.research.google.com/assets/colab-badge.svg\" alt=\"Open In Colab\"/></a>"
      ]
    },
    {
      "cell_type": "code",
      "metadata": {
        "id": "AOJMf_492eBF"
      },
      "source": [
        ""
      ],
      "execution_count": null,
      "outputs": []
    },
    {
      "cell_type": "markdown",
      "metadata": {
        "id": "ypUwVEVomXa-"
      },
      "source": [
        "**วันที 7/1/2564**"
      ]
    },
    {
      "cell_type": "code",
      "metadata": {
        "id": "OrD36fNTme0R"
      },
      "source": [
        "function มีส่วนสำคัญทั้งหมด 4 ส่วน\n",
        "1. บอก python ว่าเราจะเขียนังก์ชัน ชื่ออะไร def function_name():\n",
        "(ขาดไม่ได้)\n",
        "2. กำหนดตัวแปรที่จะเป็น input '''input''' (ขาดไม่ได้)\n",
        "3.\n",
        "4."
      ],
      "execution_count": null,
      "outputs": []
    },
    {
      "cell_type": "markdown",
      "metadata": {
        "id": "qXYkBk2Jql18"
      },
      "source": [
        "ฟังก์ชันที่ไม่จำเป็นต้องมี Input"
      ]
    },
    {
      "cell_type": "code",
      "metadata": {
        "id": "d-pM564srCCH"
      },
      "source": [
        "def Pi():\r\n",
        "  return 3.14159265359"
      ],
      "execution_count": null,
      "outputs": []
    },
    {
      "cell_type": "code",
      "metadata": {
        "colab": {
          "base_uri": "https://localhost:8080/",
          "height": 163
        },
        "id": "Cq31PyMgrMqE",
        "outputId": "f0843058-4790-45ff-ff3f-f5f3405c4896"
      },
      "source": [
        "Pi()*2(2**2)  #หาค่าPi*(r^2)"
      ],
      "execution_count": null,
      "outputs": [
        {
          "output_type": "error",
          "ename": "TypeError",
          "evalue": "ignored",
          "traceback": [
            "\u001b[0;31m---------------------------------------------------------------------------\u001b[0m",
            "\u001b[0;31mTypeError\u001b[0m                                 Traceback (most recent call last)",
            "\u001b[0;32m<ipython-input-4-4fffba4adc85>\u001b[0m in \u001b[0;36m<module>\u001b[0;34m()\u001b[0m\n\u001b[0;32m----> 1\u001b[0;31m \u001b[0mPi\u001b[0m\u001b[0;34m(\u001b[0m\u001b[0;34m)\u001b[0m\u001b[0;34m*\u001b[0m\u001b[0;36m2\u001b[0m\u001b[0;34m(\u001b[0m\u001b[0;36m2\u001b[0m\u001b[0;34m**\u001b[0m\u001b[0;36m2\u001b[0m\u001b[0;34m)\u001b[0m  \u001b[0;31m#หาค่าPi*(r^2)\u001b[0m\u001b[0;34m\u001b[0m\u001b[0;34m\u001b[0m\u001b[0m\n\u001b[0m",
            "\u001b[0;31mTypeError\u001b[0m: 'int' object is not callable"
          ]
        }
      ]
    },
    {
      "cell_type": "markdown",
      "metadata": {
        "id": "TGv1cS1Tr6CB"
      },
      "source": [
        "เราสามารถกำหนดค่า default ให้กับฟังก์ชันได้"
      ]
    },
    {
      "cell_type": "code",
      "metadata": {
        "id": "ThLwnUw8rxF6"
      },
      "source": [
        "def print_2line_default (name,surname,ID,grade='F'):\r\n",
        "  st = f'ชื่อ {name} นามสกุล {surname} รหัส {ID}'\r\n",
        "  print (st)\r\n",
        "  st2= f'เกรดวิชา Data viz >>> {grade}'\r\n",
        "  print(st2)"
      ],
      "execution_count": null,
      "outputs": []
    },
    {
      "cell_type": "code",
      "metadata": {
        "colab": {
          "base_uri": "https://localhost:8080/"
        },
        "id": "9HzFd_72s6AT",
        "outputId": "c17d2173-53d2-4382-92ee-14f07f7f48de"
      },
      "source": [
        "print_2line_default('ธันยการณ์','พวงมาลัย','613020551','A')"
      ],
      "execution_count": null,
      "outputs": [
        {
          "output_type": "stream",
          "text": [
            "ชื่อ ธันยการณ์ นามสกุล พวงมาลัย รหัส 613020551\n",
            "เกรดวิชา Data viz >>> A\n"
          ],
          "name": "stdout"
        }
      ]
    },
    {
      "cell_type": "markdown",
      "metadata": {
        "id": "FHpQI0LotgZ8"
      },
      "source": [
        "------------------------------------------------------"
      ]
    },
    {
      "cell_type": "markdown",
      "metadata": {
        "id": "mbfo-3In0qlf"
      },
      "source": [
        "##Loop การวนซ้ำ"
      ]
    },
    {
      "cell_type": "markdown",
      "metadata": {
        "id": "yKvm8MDG04pe"
      },
      "source": [
        "for เป็นคำที่ใช้บอก python ว่าเรากำลัง"
      ]
    },
    {
      "cell_type": "code",
      "metadata": {
        "id": "SyIaeuNitf1o"
      },
      "source": [
        "for each_menber in listA\r\n",
        " do_somrthing"
      ],
      "execution_count": null,
      "outputs": []
    },
    {
      "cell_type": "markdown",
      "metadata": {
        "id": "UwX6oMkY1KIe"
      },
      "source": [
        "###คำสั่ง for เป็นคำสั่งวนซ้ำที่ใช้ควบคุมการทำงานซ้ำๆในจำนวนรอบที่แน่นอน"
      ]
    },
    {
      "cell_type": "code",
      "metadata": {
        "colab": {
          "base_uri": "https://localhost:8080/"
        },
        "id": "6yKpwDe8tfxw",
        "outputId": "cafe4abb-c250-4906-d50d-924845fc6c57"
      },
      "source": [
        "for i in [1,2,3] :\r\n",
        " O = i**2\r\n",
        " print (f'this menber = {1} after process = {O}')"
      ],
      "execution_count": null,
      "outputs": [
        {
          "output_type": "stream",
          "text": [
            "this menber = 1 after process = 1\n",
            "this menber = 1 after process = 4\n",
            "this menber = 1 after process = 9\n"
          ],
          "name": "stdout"
        }
      ]
    },
    {
      "cell_type": "code",
      "metadata": {
        "id": "EzDG4RhFtLsp"
      },
      "source": [
        ""
      ],
      "execution_count": null,
      "outputs": []
    }
  ]
}