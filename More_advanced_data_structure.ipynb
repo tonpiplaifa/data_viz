{
  "nbformat": 4,
  "nbformat_minor": 0,
  "metadata": {
    "colab": {
      "name": "More advanced data structure.ipynb",
      "provenance": [],
      "authorship_tag": "ABX9TyOGBl15/pIUFZx+QjwscroU",
      "include_colab_link": true
    },
    "kernelspec": {
      "name": "python3",
      "display_name": "Python 3"
    }
  },
  "cells": [
    {
      "cell_type": "markdown",
      "metadata": {
        "id": "view-in-github",
        "colab_type": "text"
      },
      "source": [
        "<a href=\"https://colab.research.google.com/github/tonpiplaifa/data_viz/blob/main/More_advanced_data_structure.ipynb\" target=\"_parent\"><img src=\"https://colab.research.google.com/assets/colab-badge.svg\" alt=\"Open In Colab\"/></a>"
      ]
    },
    {
      "cell_type": "markdown",
      "metadata": {
        "id": "7XCRkiXtmRuP"
      },
      "source": [
        "14/1/2564"
      ]
    },
    {
      "cell_type": "markdown",
      "metadata": {
        "id": "yqlLZ7BzmVfA"
      },
      "source": [
        "ที่เรียนไปแล้วมี 1 ตัวคือ list หน้าตาประมาณนี้"
      ]
    },
    {
      "cell_type": "markdown",
      "metadata": {
        "id": "UPe75jpynLHY"
      },
      "source": [
        "ข้อดีของ list ใน python ที่ดีกว่า array\r\n",
        "- เป็นช่องเก็บที่สามารถเก็บไว้ได้หลายประเภท\r\n",
        "- เขียนโค้ดได้ง่ายกว่า เช่น list slidsing\r\n"
      ]
    },
    {
      "cell_type": "markdown",
      "metadata": {
        "id": "pDtQI7SboRVO"
      },
      "source": [
        "#Dictionary\r\n",
        "\r\n",
        "ปรับเปลี่ยนจาก list ที่สามารถ index หรือชี้ด้วยอะไรก็ได้\r\n",
        "สิ่งที่หายไปคือลำดับที่เรียงกัน แต่จะเป็นเหมือน dic เรียงจากตัวอักษร"
      ]
    },
    {
      "cell_type": "code",
      "metadata": {
        "id": "JQimQLWEnKwz"
      },
      "source": [
        "ex_dict = {'a':10,'1':1,'stat':5} #curly bracketsในการบอกว่าเป็น dict\r\n",
        "#สร้าง dict ใช้ a ชี้ไปที่เวข 10"
      ],
      "execution_count": null,
      "outputs": []
    },
    {
      "cell_type": "code",
      "metadata": {
        "colab": {
          "base_uri": "https://localhost:8080/"
        },
        "id": "DMwAjpjFltIg",
        "outputId": "2289b5b5-2ac8-42a2-efc3-2de120d12167"
      },
      "source": [
        "ex_dict['stat']#การเรียกสมาชิกใน dict"
      ],
      "execution_count": null,
      "outputs": [
        {
          "output_type": "execute_result",
          "data": {
            "text/plain": [
              "5"
            ]
          },
          "metadata": {
            "tags": []
          },
          "execution_count": 2
        }
      ]
    },
    {
      "cell_type": "code",
      "metadata": {
        "id": "4LrQmGpZpmQP"
      },
      "source": [
        "ex2_dict = {1:'one', 2:'two',3:'three'}"
      ],
      "execution_count": null,
      "outputs": []
    },
    {
      "cell_type": "markdown",
      "metadata": {
        "id": "BAFKxzDNqS5V"
      },
      "source": [
        "####การเพิ่มสมาชิกใน dict\r\n",
        "\r\n",
        "ไม่สามารถไปต่อหลังได้แบบ list"
      ]
    },
    {
      "cell_type": "code",
      "metadata": {
        "id": "Cs-VnWUIqSuO"
      },
      "source": [
        "ex2_dict[0] = 'zero' #index = 0 เพิ่มสมาชอก zero"
      ],
      "execution_count": null,
      "outputs": []
    },
    {
      "cell_type": "code",
      "metadata": {
        "colab": {
          "base_uri": "https://localhost:8080/"
        },
        "id": "yXdoNhi9qSMh",
        "outputId": "b5c5d7f4-55f1-4060-b425-65f71ae5e046"
      },
      "source": [
        "ex2_dict"
      ],
      "execution_count": null,
      "outputs": [
        {
          "output_type": "execute_result",
          "data": {
            "text/plain": [
              "{0: 'zero', 1: 'one', 2: 'two', 3: 'three'}"
            ]
          },
          "metadata": {
            "tags": []
          },
          "execution_count": 5
        }
      ]
    },
    {
      "cell_type": "markdown",
      "metadata": {
        "id": "TCAs-lb-q1Cb"
      },
      "source": [
        "**คำสั่ง**"
      ]
    },
    {
      "cell_type": "code",
      "metadata": {
        "colab": {
          "base_uri": "https://localhost:8080/"
        },
        "id": "2ATRFUCfqSGU",
        "outputId": "ffe2f0bd-9831-4fbf-a228-e4d6bb538c8a"
      },
      "source": [
        "ex2_dict.keys() #สามารถอง index ทั้งหมดว่ามีอะไรบ้าวงจะจะได้เรียกถูก\r\n",
        "#keys คือตัวหน้า values คือตัวหลัง"
      ],
      "execution_count": null,
      "outputs": [
        {
          "output_type": "execute_result",
          "data": {
            "text/plain": [
              "dict_keys([1, 2, 3, 0])"
            ]
          },
          "metadata": {
            "tags": []
          },
          "execution_count": 7
        }
      ]
    },
    {
      "cell_type": "code",
      "metadata": {
        "colab": {
          "base_uri": "https://localhost:8080/"
        },
        "id": "A9DiK9G2p26G",
        "outputId": "a05f4dbf-b72f-4c07-d6f4-8c935cdb829a"
      },
      "source": [
        "for index in ex2_dict.keys():\r\n",
        " print(index) #ลำดับจะไม่เรียง"
      ],
      "execution_count": null,
      "outputs": [
        {
          "output_type": "stream",
          "text": [
            "1\n",
            "2\n",
            "3\n",
            "0\n"
          ],
          "name": "stdout"
        }
      ]
    },
    {
      "cell_type": "code",
      "metadata": {
        "colab": {
          "base_uri": "https://localhost:8080/"
        },
        "id": "4SokghYVrR2C",
        "outputId": "54eb7f87-e865-476e-f7f6-91b09b0a62dc"
      },
      "source": [
        "ex2_dict.values() #keys คือตัวหน้า values คือตัวหลัง"
      ],
      "execution_count": null,
      "outputs": [
        {
          "output_type": "execute_result",
          "data": {
            "text/plain": [
              "dict_values(['one', 'two', 'three', 'zero'])"
            ]
          },
          "metadata": {
            "tags": []
          },
          "execution_count": 19
        }
      ]
    },
    {
      "cell_type": "markdown",
      "metadata": {
        "id": "ZlhGK4_nsroU"
      },
      "source": [
        "**ตวามสำคัญของ dict คือ นำไปในจะ dataframe ของ pandas**"
      ]
    },
    {
      "cell_type": "markdown",
      "metadata": {
        "id": "0Tas8m1as8h_"
      },
      "source": [
        "#Numpy Array (หรือ array ที่มี n มิติ)"
      ]
    },
    {
      "cell_type": "markdown",
      "metadata": {
        "id": "cr-bNOgLt8Tq"
      },
      "source": [
        "numpy คือ package ที่สามารถเกียวกับ array ของตัวเลข (ที่มีคนเขียนขึ้นมาและนิยมใช้ numpy -> number python)"
      ]
    },
    {
      "cell_type": "code",
      "metadata": {
        "id": "VYGAs7KdsGUM"
      },
      "source": [
        "import numpy #วิธีที่เรียกใช้งาน package"
      ],
      "execution_count": null,
      "outputs": []
    },
    {
      "cell_type": "markdown",
      "metadata": {
        "id": "eDPaY0QNu7xo"
      },
      "source": [
        "####สร้าง Numpy Array"
      ]
    },
    {
      "cell_type": "code",
      "metadata": {
        "colab": {
          "base_uri": "https://localhost:8080/"
        },
        "id": "TGgeSTy4ubnZ",
        "outputId": "a3addfa3-8629-4b83-e560-c7b2b84718f1"
      },
      "source": [
        "ex_2d_array = numpy.array([[5.2,3.0,4.5],[9.1,0.1,0.3]])\r\n",
        "print(ex_2d_array)"
      ],
      "execution_count": null,
      "outputs": [
        {
          "output_type": "stream",
          "text": [
            "[[5.2 3.  4.5]\n",
            " [9.1 0.1 0.3]]\n"
          ],
          "name": "stdout"
        }
      ]
    },
    {
      "cell_type": "markdown",
      "metadata": {
        "id": "oHn9-QN-vQ33"
      },
      "source": [
        "####การชี้ค่าใน numpy array"
      ]
    },
    {
      "cell_type": "code",
      "metadata": {
        "colab": {
          "base_uri": "https://localhost:8080/"
        },
        "id": "NS6_D-y3u2cU",
        "outputId": "b7ac247a-f2cd-46e7-f753-bc6694dc567c"
      },
      "source": [
        "ex_2d_array[1,2] #0.3 อยู่แถว 1 หลักที่ 2 เนื่องจากต่างๆเริ่มที่ 0"
      ],
      "execution_count": null,
      "outputs": [
        {
          "output_type": "execute_result",
          "data": {
            "text/plain": [
              "0.3"
            ]
          },
          "metadata": {
            "tags": []
          },
          "execution_count": 28
        }
      ]
    },
    {
      "cell_type": "code",
      "metadata": {
        "id": "P9Q7eQp-vtzL"
      },
      "source": [
        "list_x = [[5.2,3.0,4.5],[9.1,0.1,0.3]] #กรณีชี้ list"
      ],
      "execution_count": null,
      "outputs": []
    },
    {
      "cell_type": "code",
      "metadata": {
        "colab": {
          "base_uri": "https://localhost:8080/"
        },
        "id": "udr_uoMwv7e0",
        "outputId": "ac8f4600-4c44-496b-fea0-a613f319fc94"
      },
      "source": [
        "print(len(list_x))\r\n",
        "print(list_x[1])\r\n",
        "print(list_x[1][2])"
      ],
      "execution_count": null,
      "outputs": [
        {
          "output_type": "stream",
          "text": [
            "2\n",
            "[9.1, 0.1, 0.3]\n",
            "0.3\n"
          ],
          "name": "stdout"
        }
      ]
    },
    {
      "cell_type": "markdown",
      "metadata": {
        "id": "8TZj-_RBx-5H"
      },
      "source": [
        "####Operations"
      ]
    },
    {
      "cell_type": "code",
      "metadata": {
        "colab": {
          "base_uri": "https://localhost:8080/"
        },
        "id": "yIsFNZxhx97w",
        "outputId": "0531e3c1-e784-4c00-c853-f51feb9f3f98"
      },
      "source": [
        "ex2_2d_array = numpy.array([[1,0,0],[0,0,1]])\r\n",
        "print(ex2_2d_array)\r\n",
        "print(ex_2d_array) #array ทั้งสองที่แถวและหลักเท่ากัน"
      ],
      "execution_count": null,
      "outputs": [
        {
          "output_type": "stream",
          "text": [
            "[[1 0 0]\n",
            " [0 0 1]]\n",
            "[[5.2 3.  4.5]\n",
            " [9.1 0.1 0.3]]\n"
          ],
          "name": "stdout"
        }
      ]
    },
    {
      "cell_type": "code",
      "metadata": {
        "colab": {
          "base_uri": "https://localhost:8080/"
        },
        "id": "O56GXdacwHM0",
        "outputId": "b73f4b60-d6f1-4f91-87a2-da0ded08f3aa"
      },
      "source": [
        "ex_2d_array.shape #ตรวจสอบขนาดของ matrix"
      ],
      "execution_count": null,
      "outputs": [
        {
          "output_type": "execute_result",
          "data": {
            "text/plain": [
              "(2, 3)"
            ]
          },
          "metadata": {
            "tags": []
          },
          "execution_count": 44
        }
      ]
    },
    {
      "cell_type": "code",
      "metadata": {
        "colab": {
          "base_uri": "https://localhost:8080/"
        },
        "id": "uihJMU-yyutl",
        "outputId": "14afd97b-3c48-4d81-8a62-2e42ab18ebfe"
      },
      "source": [
        "ex_2d_array + ex2_2d_array #ตำแหน่งเดียวกันบวกกัน"
      ],
      "execution_count": null,
      "outputs": [
        {
          "output_type": "execute_result",
          "data": {
            "text/plain": [
              "array([[6.2, 3. , 4.5],\n",
              "       [9.1, 0.1, 1.3]])"
            ]
          },
          "metadata": {
            "tags": []
          },
          "execution_count": 46
        }
      ]
    },
    {
      "cell_type": "code",
      "metadata": {
        "colab": {
          "base_uri": "https://localhost:8080/"
        },
        "id": "xHDvLLxBzEGc",
        "outputId": "96df7d73-ff98-43f4-b7c7-af3d369a2ba2"
      },
      "source": [
        "list_x = [[5.2,3.0,4.5],[9.1,0.1,0.3]]\r\n",
        "list_x2 = [[5.2,3.0,4.5],[9.1,0.1,0.3]]\r\n",
        "\r\n",
        "list_x + list_x2 #เป็นการนำสมาชิกมาต่อกัน"
      ],
      "execution_count": null,
      "outputs": [
        {
          "output_type": "execute_result",
          "data": {
            "text/plain": [
              "[[5.2, 3.0, 4.5], [9.1, 0.1, 0.3], [5.2, 3.0, 4.5], [9.1, 0.1, 0.3]]"
            ]
          },
          "metadata": {
            "tags": []
          },
          "execution_count": 48
        }
      ]
    },
    {
      "cell_type": "code",
      "metadata": {
        "colab": {
          "base_uri": "https://localhost:8080/"
        },
        "id": "RKYz971qzZu4",
        "outputId": "276553f4-9982-458e-e827-bf17db59ee64"
      },
      "source": [
        "ex_2d_array * ex2_2d_array #การคูณแบบ array คือการเอาตำแหน่งเดียวกันมาคูณกัน"
      ],
      "execution_count": null,
      "outputs": [
        {
          "output_type": "execute_result",
          "data": {
            "text/plain": [
              "array([[5.2, 0. , 0. ],\n",
              "       [0. , 0. , 0.3]])"
            ]
          },
          "metadata": {
            "tags": []
          },
          "execution_count": 50
        }
      ]
    },
    {
      "cell_type": "markdown",
      "metadata": {
        "id": "qKh8XUA71M0Z"
      },
      "source": [
        "**matrix multiplication (การคูณเมทริกซ์จริงๆต้อง .dot)**"
      ]
    },
    {
      "cell_type": "code",
      "metadata": {
        "colab": {
          "base_uri": "https://localhost:8080/"
        },
        "id": "rceEgcRt1NLM",
        "outputId": "196adf88-cf86-41df-d2ad-3f3fc7cde7b1"
      },
      "source": [
        "numpy.dot(ex_2d_array,ex2_2d_array.T) #แถวของเมทริกหน้าต้องเท่ากับแถวของตัวหลัง เคสนี้เลยต้องทรานซ์"
      ],
      "execution_count": null,
      "outputs": [
        {
          "output_type": "execute_result",
          "data": {
            "text/plain": [
              "array([[5.2, 4.5],\n",
              "       [9.1, 0.3]])"
            ]
          },
          "metadata": {
            "tags": []
          },
          "execution_count": 53
        }
      ]
    },
    {
      "cell_type": "code",
      "metadata": {
        "colab": {
          "base_uri": "https://localhost:8080/"
        },
        "id": "0LArUTurz5J7",
        "outputId": "947c2b78-f255-4ab6-e58d-cbf2dda970c9"
      },
      "source": [
        "print(ex2_2d_array)\r\n",
        "print(ex2_2d_array.T) #เปลี่ยนแถวเป็นหลัก"
      ],
      "execution_count": null,
      "outputs": [
        {
          "output_type": "stream",
          "text": [
            "[[1 0 0]\n",
            " [0 0 1]]\n",
            "[[1 0]\n",
            " [0 0]\n",
            " [0 1]]\n"
          ],
          "name": "stdout"
        }
      ]
    },
    {
      "cell_type": "markdown",
      "metadata": {
        "id": "RCLNIBLr3mE7"
      },
      "source": [
        "det จะต้องเป็นเมทริกซ์ที่มีแถวเท่ากับหลัก"
      ]
    },
    {
      "cell_type": "code",
      "metadata": {
        "colab": {
          "base_uri": "https://localhost:8080/"
        },
        "id": "bOJgeo-63FB9",
        "outputId": "5a7722a9-975d-400a-b94f-35fd2000e32c"
      },
      "source": [
        "dot_mat = numpy.dot(ex_2d_array,ex2_2d_array.T)\r\n",
        "print(dot_mat)"
      ],
      "execution_count": null,
      "outputs": [
        {
          "output_type": "stream",
          "text": [
            "[[5.2 4.5]\n",
            " [9.1 0.3]]\n"
          ],
          "name": "stdout"
        }
      ]
    },
    {
      "cell_type": "code",
      "metadata": {
        "colab": {
          "base_uri": "https://localhost:8080/"
        },
        "id": "kH79mS552AFv",
        "outputId": "07612003-d354-4482-d1a4-065288434c54"
      },
      "source": [
        "numpy.linalg.det(dot_mat)"
      ],
      "execution_count": null,
      "outputs": [
        {
          "output_type": "execute_result",
          "data": {
            "text/plain": [
              "-39.389999999999986"
            ]
          },
          "metadata": {
            "tags": []
          },
          "execution_count": 57
        }
      ]
    },
    {
      "cell_type": "markdown",
      "metadata": {
        "id": "3vh0wlhG39B-"
      },
      "source": [
        "สามารถทำ operation อื่นได้อีก สามารถหาดูได้ ที่ error อาจจะเพราะไม่ตรงข้อดำหนดหรือนิยายของมัน"
      ]
    },
    {
      "cell_type": "markdown",
      "metadata": {
        "id": "KSIjC9r05XET"
      },
      "source": [
        "####matrix slicing"
      ]
    },
    {
      "cell_type": "code",
      "metadata": {
        "colab": {
          "base_uri": "https://localhost:8080/"
        },
        "id": "pOXB4nUP5j3C",
        "outputId": "5bd6db7b-c6d5-4289-cd02-3fcbfcb463cc"
      },
      "source": [
        "print(ex_2d_array)"
      ],
      "execution_count": null,
      "outputs": [
        {
          "output_type": "stream",
          "text": [
            "[[5.2 3.  4.5]\n",
            " [9.1 0.1 0.3]]\n"
          ],
          "name": "stdout"
        }
      ]
    },
    {
      "cell_type": "code",
      "metadata": {
        "colab": {
          "base_uri": "https://localhost:8080/"
        },
        "id": "QsLECSld5tit",
        "outputId": "b0a8e0a8-3ba2-4bf8-fca4-acabf4f24d2e"
      },
      "source": [
        "ex_2d_array[1,1:] #แถวที่ 1 หลักที่ 1 ถึง 2"
      ],
      "execution_count": null,
      "outputs": [
        {
          "output_type": "execute_result",
          "data": {
            "text/plain": [
              "array([0.1, 0.3])"
            ]
          },
          "metadata": {
            "tags": []
          },
          "execution_count": 60
        }
      ]
    },
    {
      "cell_type": "code",
      "metadata": {
        "colab": {
          "base_uri": "https://localhost:8080/"
        },
        "id": "YpEIxgpi59A3",
        "outputId": "aa6cf3cc-a20b-4cec-e5e4-1a4d31adecae"
      },
      "source": [
        "ex_2d_array[:,:2] #ทุกแถว หลักแรกถึง 2"
      ],
      "execution_count": null,
      "outputs": [
        {
          "output_type": "execute_result",
          "data": {
            "text/plain": [
              "array([[5.2, 3. ],\n",
              "       [9.1, 0.1]])"
            ]
          },
          "metadata": {
            "tags": []
          },
          "execution_count": 62
        }
      ]
    },
    {
      "cell_type": "markdown",
      "metadata": {
        "id": "lBS1ncs64hO6"
      },
      "source": [
        "#### HW5 \r\n",
        "เขียน function คูณ matrix แล้ว test กับ matrix ขนาด\r\n",
        "\r\n",
        "\r\n",
        "*  (2,3)*(3,2)\r\n",
        "*  (4,4)*(,)\r\n",
        "*   \r\n",
        "\r\n",
        "---\r\n",
        "\r\n",
        "\r\n",
        " \r\n"
      ]
    },
    {
      "cell_type": "code",
      "metadata": {
        "id": "seRUZshL51EP"
      },
      "source": [
        "import numpy as np"
      ],
      "execution_count": null,
      "outputs": []
    },
    {
      "cell_type": "code",
      "metadata": {
        "colab": {
          "base_uri": "https://localhost:8080/"
        },
        "id": "1IzDgHuh51As",
        "outputId": "92c984ed-2013-42de-d363-18d1a3adca48"
      },
      "source": [
        "matrix_0 = np.array([[1,2,3],[4,5,6]]) #matrix 2*3\r\n",
        "matrix_1 = np.array([[7,8],[9,10],[11,12]]) #matrix 3*2\r\n",
        "print(matrix_0)\r\n",
        "print(matrix_1)"
      ],
      "execution_count": null,
      "outputs": [
        {
          "output_type": "stream",
          "text": [
            "[[1 2 3]\n",
            " [4 5 6]]\n",
            "[[ 7  8]\n",
            " [ 9 10]\n",
            " [11 12]]\n"
          ],
          "name": "stdout"
        }
      ]
    },
    {
      "cell_type": "code",
      "metadata": {
        "colab": {
          "base_uri": "https://localhost:8080/"
        },
        "id": "kNfLIk70503w",
        "outputId": "78b03997-ef1b-458b-f038-cdb0f7626161"
      },
      "source": [
        "matrix_2 = np.array([[1,2,3,4],[5,6,7,8],[9,10,11,12],[13,14,15,16]]) #matrix 4*4\r\n",
        "matrix_3 = np.array([[17],[18],[19],[20]]) #matrix 4*1\r\n",
        "print(matrix_2)\r\n",
        "print(matrix_3)"
      ],
      "execution_count": null,
      "outputs": [
        {
          "output_type": "stream",
          "text": [
            "[[ 1  2  3  4]\n",
            " [ 5  6  7  8]\n",
            " [ 9 10 11 12]\n",
            " [13 14 15 16]]\n",
            "[[17]\n",
            " [18]\n",
            " [19]\n",
            " [20]]\n"
          ],
          "name": "stdout"
        }
      ]
    },
    {
      "cell_type": "code",
      "metadata": {
        "colab": {
          "base_uri": "https://localhost:8080/"
        },
        "id": "y7xKNRHw_mHO",
        "outputId": "bf89f074-f90c-49cd-d582-62b5425ae1d0"
      },
      "source": [
        "matrix_4 = np.array([[1,2],[3,4]]) #matrix 2*2\r\n",
        "matrix_5 = np.array([[5,6],[7,8]]) #matrix 2*2\r\n",
        "print(matrix_4)\r\n",
        "print(matrix_5)"
      ],
      "execution_count": null,
      "outputs": [
        {
          "output_type": "stream",
          "text": [
            "[[1 2]\n",
            " [3 4]]\n",
            "[[5 6]\n",
            " [7 8]]\n"
          ],
          "name": "stdout"
        }
      ]
    },
    {
      "cell_type": "code",
      "metadata": {
        "id": "rnPJDtISF-Om"
      },
      "source": [
        "def matrix(matrix_0,matrix_1) :\r\n",
        "    g = [[0 for row in range(len(matrix_1[0]))] for col in range(len(matrix_1))]\r\n",
        "    for i in range(len(matrix_0)) :\r\n",
        "        for j in range(len(matrix_1[0])) :\r\n",
        "            for k in range(len(matrix_1)) :\r\n",
        "                g[i][j] += matrix_0[i][k]*matrix_1[k][j]\r\n",
        "    mat_ans = np.matrix(g)\r\n",
        "    return mat_ans"
      ],
      "execution_count": null,
      "outputs": []
    },
    {
      "cell_type": "code",
      "metadata": {
        "colab": {
          "base_uri": "https://localhost:8080/"
        },
        "id": "zty-zDrdF9-s",
        "outputId": "b12ee2b2-c5ff-48e7-8ca9-e0e3873da5f3"
      },
      "source": [
        "# matrix (2,3)*(3,2)\r\n",
        "print(matrix_0)\r\n",
        "print(matrix_1)\r\n",
        "matrix(matrix_0,matrix_1)"
      ],
      "execution_count": null,
      "outputs": [
        {
          "output_type": "stream",
          "text": [
            "[[1 2 3]\n",
            " [4 5 6]]\n",
            "[[ 7  8]\n",
            " [ 9 10]\n",
            " [11 12]]\n"
          ],
          "name": "stdout"
        },
        {
          "output_type": "execute_result",
          "data": {
            "text/plain": [
              "matrix([[ 58,  64],\n",
              "        [139, 154],\n",
              "        [  0,   0]])"
            ]
          },
          "metadata": {
            "tags": []
          },
          "execution_count": 13
        }
      ]
    },
    {
      "cell_type": "code",
      "metadata": {
        "colab": {
          "base_uri": "https://localhost:8080/"
        },
        "id": "xm5OhOdfHq4V",
        "outputId": "a9cef7d7-921f-45f8-d538-69834cec8075"
      },
      "source": [
        "# matrix (4,4)*(4,1)\r\n",
        "print(matrix_2)\r\n",
        "print(matrix_3)\r\n",
        "matrix(matrix_2,matrix_3)"
      ],
      "execution_count": null,
      "outputs": [
        {
          "output_type": "stream",
          "text": [
            "[[ 1  2  3  4]\n",
            " [ 5  6  7  8]\n",
            " [ 9 10 11 12]\n",
            " [13 14 15 16]]\n",
            "[[17]\n",
            " [18]\n",
            " [19]\n",
            " [20]]\n"
          ],
          "name": "stdout"
        },
        {
          "output_type": "execute_result",
          "data": {
            "text/plain": [
              "matrix([[ 190],\n",
              "        [ 486],\n",
              "        [ 782],\n",
              "        [1078]])"
            ]
          },
          "metadata": {
            "tags": []
          },
          "execution_count": 14
        }
      ]
    },
    {
      "cell_type": "code",
      "metadata": {
        "colab": {
          "base_uri": "https://localhost:8080/"
        },
        "id": "FeuUl5dmH5n0",
        "outputId": "0e203fcd-4e6d-419f-bc6a-e2ab8347b006"
      },
      "source": [
        "# matrix (2,2)*(2,2)\r\n",
        "print(matrix_4)\r\n",
        "print(matrix_5)\r\n",
        "matrix(matrix_4,matrix_5)"
      ],
      "execution_count": null,
      "outputs": [
        {
          "output_type": "stream",
          "text": [
            "[[1 2]\n",
            " [3 4]]\n",
            "[[5 6]\n",
            " [7 8]]\n"
          ],
          "name": "stdout"
        },
        {
          "output_type": "execute_result",
          "data": {
            "text/plain": [
              "matrix([[19, 22],\n",
              "        [43, 50]])"
            ]
          },
          "metadata": {
            "tags": []
          },
          "execution_count": 15
        }
      ]
    },
    {
      "cell_type": "code",
      "metadata": {
        "id": "dcjHcQOKT68z"
      },
      "source": [
        "#ตรวจ"
      ],
      "execution_count": null,
      "outputs": []
    },
    {
      "cell_type": "code",
      "metadata": {
        "colab": {
          "base_uri": "https://localhost:8080/"
        },
        "id": "33-lv600UHaj",
        "outputId": "8754ac5a-7ae1-4cb6-e64f-725b33931c88"
      },
      "source": [
        "dot_1 = np.dot(matrix_0,matrix_1)\r\n",
        "print(dot_1)"
      ],
      "execution_count": null,
      "outputs": [
        {
          "output_type": "stream",
          "text": [
            "[[ 58  64]\n",
            " [139 154]]\n"
          ],
          "name": "stdout"
        }
      ]
    },
    {
      "cell_type": "code",
      "metadata": {
        "colab": {
          "base_uri": "https://localhost:8080/"
        },
        "id": "bGg7VRnNT8qg",
        "outputId": "bdfba7f2-ad83-47e8-be13-29f632597f17"
      },
      "source": [
        "dot_2 = np.dot(matrix_2,matrix_3)\r\n",
        "print(dot_2)"
      ],
      "execution_count": null,
      "outputs": [
        {
          "output_type": "stream",
          "text": [
            "[[ 190]\n",
            " [ 486]\n",
            " [ 782]\n",
            " [1078]]\n"
          ],
          "name": "stdout"
        }
      ]
    },
    {
      "cell_type": "code",
      "metadata": {
        "colab": {
          "base_uri": "https://localhost:8080/"
        },
        "id": "eGCKJqtnIYzN",
        "outputId": "c79785f2-9b6f-4750-afa0-7bcec1498ab1"
      },
      "source": [
        "dot_3 = np.dot(matrix_4,matrix_5)\r\n",
        "print(dot_3)"
      ],
      "execution_count": null,
      "outputs": [
        {
          "output_type": "stream",
          "text": [
            "[[19 22]\n",
            " [43 50]]\n"
          ],
          "name": "stdout"
        }
      ]
    },
    {
      "cell_type": "code",
      "metadata": {
        "id": "YajA09t_38hy"
      },
      "source": [
        ""
      ],
      "execution_count": null,
      "outputs": []
    },
    {
      "cell_type": "code",
      "metadata": {
        "id": "-FkEdjGW315c"
      },
      "source": [
        ""
      ],
      "execution_count": null,
      "outputs": []
    }
  ]
}