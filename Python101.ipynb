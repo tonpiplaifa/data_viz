{
  "nbformat": 4,
  "nbformat_minor": 0,
  "metadata": {
    "colab": {
      "name": "Python101",
      "provenance": [],
      "authorship_tag": "ABX9TyNF54fXdO9Ry21jOGq5iu7z",
      "include_colab_link": true
    },
    "kernelspec": {
      "name": "python3",
      "display_name": "Python 3"
    }
  },
  "cells": [
    {
      "cell_type": "markdown",
      "metadata": {
        "id": "view-in-github",
        "colab_type": "text"
      },
      "source": [
        "<a href=\"https://colab.research.google.com/github/tonpiplaifa/data_viz/blob/main/Python101.ipynb\" target=\"_parent\"><img src=\"https://colab.research.google.com/assets/colab-badge.svg\" alt=\"Open In Colab\"/></a>"
      ]
    },
    {
      "cell_type": "markdown",
      "metadata": {
        "id": "037VhVjrNNeQ"
      },
      "source": [
        "##Variables"
      ]
    },
    {
      "cell_type": "code",
      "metadata": {
        "colab": {
          "base_uri": "https://localhost:8080/"
        },
        "id": "Xm7w2EExNXLB",
        "outputId": "c918a947-38fc-4a51-a4d7-4959bd53c761"
      },
      "source": [
        "3.141502"
      ],
      "execution_count": null,
      "outputs": [
        {
          "output_type": "execute_result",
          "data": {
            "text/plain": [
              "3.141502"
            ]
          },
          "metadata": {
            "tags": []
          },
          "execution_count": 2
        }
      ]
    },
    {
      "cell_type": "code",
      "metadata": {
        "id": "bCUzt5QVNeU-"
      },
      "source": [
        "pi = 3.141502 #การกำหนดค่าให้ตัวแปร"
      ],
      "execution_count": null,
      "outputs": []
    },
    {
      "cell_type": "markdown",
      "metadata": {
        "id": "VgeF_7gzNnk7"
      },
      "source": [
        "**หลักการตั้งชื่อตัวแปรเบื้องต้น**\r\n",
        "\r\n",
        "\r\n",
        "1.   ตั้งให้สื่อ เข้าใจได้\r\n",
        "2.   ต้องเป็นภาษาอังกฤษ\r\n",
        "3.   ใช้ตัวเลขได้ แต่ห้ามขึ้นต้น\r\n",
        "4.   ห้ามเว้นวรรค\r\n",
        "\r\n"
      ]
    },
    {
      "cell_type": "code",
      "metadata": {
        "colab": {
          "base_uri": "https://localhost:8080/"
        },
        "id": "fr0lklxhOTpR",
        "outputId": "630d0077-dbd3-410a-e52c-fdbeac7281ae"
      },
      "source": [
        "pi #การแสดงค่า"
      ],
      "execution_count": null,
      "outputs": [
        {
          "output_type": "execute_result",
          "data": {
            "text/plain": [
              "3.141502"
            ]
          },
          "metadata": {
            "tags": []
          },
          "execution_count": 4
        }
      ]
    },
    {
      "cell_type": "markdown",
      "metadata": {
        "id": "Hq_WCnTROq43"
      },
      "source": [
        "##ชนิดของตัวแปร"
      ]
    },
    {
      "cell_type": "markdown",
      "metadata": {
        "id": "h5nnUlvXOxAL"
      },
      "source": [
        "###int จำนวนเต็ม"
      ]
    },
    {
      "cell_type": "code",
      "metadata": {
        "id": "FEiySM8WOwL1"
      },
      "source": [
        "a = 10"
      ],
      "execution_count": null,
      "outputs": []
    },
    {
      "cell_type": "code",
      "metadata": {
        "colab": {
          "base_uri": "https://localhost:8080/"
        },
        "id": "E76JSptGO4dK",
        "outputId": "f5a39217-ebe9-4b74-bbc2-5a4d9d85e64a"
      },
      "source": [
        "print(a)"
      ],
      "execution_count": null,
      "outputs": [
        {
          "output_type": "stream",
          "text": [
            "10\n"
          ],
          "name": "stdout"
        }
      ]
    },
    {
      "cell_type": "markdown",
      "metadata": {
        "id": "xyJpqnmFO9yG"
      },
      "source": [
        "###float จำนวนจริงหรือทสนิยม"
      ]
    },
    {
      "cell_type": "code",
      "metadata": {
        "colab": {
          "base_uri": "https://localhost:8080/"
        },
        "id": "q2wOHhnVO6nM",
        "outputId": "70be7abb-5b5a-4ec0-8160-b05ecec64069"
      },
      "source": [
        "b = 10.\r\n",
        "print(b)"
      ],
      "execution_count": null,
      "outputs": [
        {
          "output_type": "stream",
          "text": [
            "10.0\n"
          ],
          "name": "stdout"
        }
      ]
    },
    {
      "cell_type": "markdown",
      "metadata": {
        "id": "UoGRz6-rPbAT"
      },
      "source": [
        "###char ข้อความหรือตัวอักษร"
      ]
    },
    {
      "cell_type": "code",
      "metadata": {
        "colab": {
          "base_uri": "https://localhost:8080/"
        },
        "id": "Z35BBWKVPRuU",
        "outputId": "76b4967e-49cc-4526-96ed-df623dde5445"
      },
      "source": [
        "c = 'เยาวลักษณ์'\r\n",
        "print(c)"
      ],
      "execution_count": null,
      "outputs": [
        {
          "output_type": "stream",
          "text": [
            "เยาวลักษณ์\n"
          ],
          "name": "stdout"
        }
      ]
    },
    {
      "cell_type": "markdown",
      "metadata": {
        "id": "ISh9U8OWQsEE"
      },
      "source": [
        "###การเปลี่ยน char เป็น int"
      ]
    },
    {
      "cell_type": "code",
      "metadata": {
        "colab": {
          "base_uri": "https://localhost:8080/"
        },
        "id": "-diQqHOfPu9E",
        "outputId": "215ccbd1-79c6-4cb2-df98-310cf3bc9bc5"
      },
      "source": [
        "b = '10'\r\n",
        "print(b)"
      ],
      "execution_count": null,
      "outputs": [
        {
          "output_type": "stream",
          "text": [
            "10\n"
          ],
          "name": "stdout"
        }
      ]
    },
    {
      "cell_type": "code",
      "metadata": {
        "colab": {
          "base_uri": "https://localhost:8080/",
          "height": 163
        },
        "id": "-PSGQP-XRGGT",
        "outputId": "8e2869f0-9981-4151-ce7d-e5f93db0b4da"
      },
      "source": [
        "b + 1 #ตัวเลขกับ string ไม่สามารถบวกกันได้"
      ],
      "execution_count": null,
      "outputs": [
        {
          "output_type": "error",
          "ename": "TypeError",
          "evalue": "ignored",
          "traceback": [
            "\u001b[0;31m---------------------------------------------------------------------------\u001b[0m",
            "\u001b[0;31mTypeError\u001b[0m                                 Traceback (most recent call last)",
            "\u001b[0;32m<ipython-input-10-754b17613efb>\u001b[0m in \u001b[0;36m<module>\u001b[0;34m()\u001b[0m\n\u001b[0;32m----> 1\u001b[0;31m \u001b[0mb\u001b[0m \u001b[0;34m+\u001b[0m \u001b[0;36m1\u001b[0m \u001b[0;31m#ตัวเลขกับ string ไม่สามารถบวกกันได้\u001b[0m\u001b[0;34m\u001b[0m\u001b[0;34m\u001b[0m\u001b[0m\n\u001b[0m",
            "\u001b[0;31mTypeError\u001b[0m: must be str, not int"
          ]
        }
      ]
    },
    {
      "cell_type": "markdown",
      "metadata": {
        "id": "5GDKpYgBRul4"
      },
      "source": [
        "**Variable casting การเปลี่ยนชนิดของข้อมูล**"
      ]
    },
    {
      "cell_type": "code",
      "metadata": {
        "colab": {
          "base_uri": "https://localhost:8080/"
        },
        "id": "2WAgRVb0RJpI",
        "outputId": "7152fbbf-396f-4015-913a-95f63618ec48"
      },
      "source": [
        "int(b) + 1 #ใส่ชนิดของตัวแปรที่ต้องการเปลี่ยนให้เป็น"
      ],
      "execution_count": null,
      "outputs": [
        {
          "output_type": "execute_result",
          "data": {
            "text/plain": [
              "11"
            ]
          },
          "metadata": {
            "tags": []
          },
          "execution_count": 13
        }
      ]
    },
    {
      "cell_type": "code",
      "metadata": {
        "colab": {
          "base_uri": "https://localhost:8080/"
        },
        "id": "t1crIjFER9rd",
        "outputId": "166ea595-8235-4ee1-ac4a-efe56002a669"
      },
      "source": [
        "print(a)\r\n",
        "print(float(a))\r\n",
        "print(str(a))"
      ],
      "execution_count": null,
      "outputs": [
        {
          "output_type": "stream",
          "text": [
            "10\n",
            "10.0\n",
            "10\n"
          ],
          "name": "stdout"
        }
      ]
    },
    {
      "cell_type": "markdown",
      "metadata": {
        "id": "uG-2ShHNSerG"
      },
      "source": [
        "###Operation (Operators +,-,*,/,%)"
      ]
    },
    {
      "cell_type": "code",
      "metadata": {
        "colab": {
          "base_uri": "https://localhost:8080/"
        },
        "id": "K0yz-l15SZFr",
        "outputId": "c4b12e8e-3502-4863-ccb7-f88dd779c07b"
      },
      "source": [
        "a+int(b)"
      ],
      "execution_count": null,
      "outputs": [
        {
          "output_type": "execute_result",
          "data": {
            "text/plain": [
              "20"
            ]
          },
          "metadata": {
            "tags": []
          },
          "execution_count": 15
        }
      ]
    },
    {
      "cell_type": "code",
      "metadata": {
        "colab": {
          "base_uri": "https://localhost:8080/"
        },
        "id": "vh0pn1DeSxzn",
        "outputId": "f7efd36d-57d8-4e13-8f07-0e0a6d35f53f"
      },
      "source": [
        "ab = a+int(b)\r\n",
        "print(ab)"
      ],
      "execution_count": null,
      "outputs": [
        {
          "output_type": "stream",
          "text": [
            "20\n"
          ],
          "name": "stdout"
        }
      ]
    },
    {
      "cell_type": "code",
      "metadata": {
        "colab": {
          "base_uri": "https://localhost:8080/"
        },
        "id": "HZuMhJNUTC4s",
        "outputId": "29ca6187-fbc6-428f-9bd6-e27c44b64f71"
      },
      "source": [
        "7%3"
      ],
      "execution_count": null,
      "outputs": [
        {
          "output_type": "execute_result",
          "data": {
            "text/plain": [
              "1"
            ]
          },
          "metadata": {
            "tags": []
          },
          "execution_count": 17
        }
      ]
    },
    {
      "cell_type": "markdown",
      "metadata": {
        "id": "HKp0W0GVTYTc"
      },
      "source": [
        "##คำสั่ง print แบบพิเศษ (format string)"
      ]
    },
    {
      "cell_type": "code",
      "metadata": {
        "colab": {
          "base_uri": "https://localhost:8080/"
        },
        "id": "K9XDEv1tTXLV",
        "outputId": "8118cdc8-a140-4987-a12f-0501e56a22c2"
      },
      "source": [
        "print('KKKKKKKKK') #สิ่งที่อยู่ข้างในวงเล็บคือตัวแปรและข้อความ"
      ],
      "execution_count": null,
      "outputs": [
        {
          "output_type": "stream",
          "text": [
            "KKKKKKKKK\n"
          ],
          "name": "stdout"
        }
      ]
    },
    {
      "cell_type": "code",
      "metadata": {
        "colab": {
          "base_uri": "https://localhost:8080/"
        },
        "id": "Fo3GGVXCT-vk",
        "outputId": "ab1216c3-342b-44e5-ce27-345b15395522"
      },
      "source": [
        "print(f'มีค่าเท่ากับ {7%3}\\n แต่ไม่เท่ากับ 0') #f เป็นการที่แสดงข้อความและส่วนของการคำนวณ {} หรือตัวแปร โค้ด ไปพร้อมกัน\r\n",
        "#\\n การเว้นบรรทัด"
      ],
      "execution_count": null,
      "outputs": [
        {
          "output_type": "stream",
          "text": [
            "มีค่าเท่ากับ 1\n",
            " แต่ไม่เท่ากับ 0\n"
          ],
          "name": "stdout"
        }
      ]
    },
    {
      "cell_type": "code",
      "metadata": {
        "colab": {
          "base_uri": "https://localhost:8080/"
        },
        "id": "RxNDGavKUPEV",
        "outputId": "f85a28f6-0a3a-430c-a2d9-ddd131d37280"
      },
      "source": [
        "print(f'% คือการหารเอาเศษ เช่น 7%3 = {7%3} \\n / คือการหารปกติ เช่น 7/3 = {7/3} \\n // คือการหารเอาส่วนของ เช่น 7//3 = {7//3}\\n ') "
      ],
      "execution_count": null,
      "outputs": [
        {
          "output_type": "stream",
          "text": [
            "% คือการหารเอาเศษ เช่น 7%3 = 1 \n",
            " / คือการหารปกติ เช่น 7/3 = 2.3333333333333335 \n",
            " // คือการหารเอาส่วนของ เช่น 7//3 = 2\n",
            " \n"
          ],
          "name": "stdout"
        }
      ]
    },
    {
      "cell_type": "code",
      "metadata": {
        "colab": {
          "base_uri": "https://localhost:8080/"
        },
        "id": "FgvndEvuV-UE",
        "outputId": "ed90addb-cc98-4328-d4a2-59b498d17631"
      },
      "source": [
        "int(7/3) #การหารเอาส่วนโดยไม่ใช้ //"
      ],
      "execution_count": null,
      "outputs": [
        {
          "output_type": "execute_result",
          "data": {
            "text/plain": [
              "2"
            ]
          },
          "metadata": {
            "tags": []
          },
          "execution_count": 21
        }
      ]
    },
    {
      "cell_type": "markdown",
      "metadata": {
        "id": "eLabpT3gayq2"
      },
      "source": [
        "## Data Structor"
      ]
    },
    {
      "cell_type": "markdown",
      "metadata": {
        "id": "rVIR20y7a-Xc"
      },
      "source": [
        "###List ตือการเอาตัว"
      ]
    },
    {
      "cell_type": "markdown",
      "metadata": {
        "id": "F2jPE7fcbBQ_"
      },
      "source": [
        "####แบบที่ 1 square brackets"
      ]
    },
    {
      "cell_type": "code",
      "metadata": {
        "colab": {
          "base_uri": "https://localhost:8080/"
        },
        "id": "Uld8RP1NZutd",
        "outputId": "e3670507-012f-4594-fd73-db48e19b3d1d"
      },
      "source": [
        "list_a = [] #เป็นลิสต์ไม่มีสมาชิก\r\n",
        "print(list_a)"
      ],
      "execution_count": null,
      "outputs": [
        {
          "output_type": "stream",
          "text": [
            "[]\n"
          ],
          "name": "stdout"
        }
      ]
    },
    {
      "cell_type": "code",
      "metadata": {
        "colab": {
          "base_uri": "https://localhost:8080/"
        },
        "id": "rpq-EY_ya8iM",
        "outputId": "860b0a14-6202-4c7f-bc6c-c2c0eabe0aad"
      },
      "source": [
        "list_b = [1,5,'v']\r\n",
        "print(list_b)"
      ],
      "execution_count": null,
      "outputs": [
        {
          "output_type": "stream",
          "text": [
            "[1, 5, 'v']\n"
          ],
          "name": "stdout"
        }
      ]
    },
    {
      "cell_type": "markdown",
      "metadata": {
        "id": "c506v1JhbXMp"
      },
      "source": [
        "####ลำดับที่อยู่ในลิสต์มีความสำคัญเพราะเราสามารถเลือกดูสมาชิกได้จากลำดับ (โดยลำดับจะเริ่มจาก 0)"
      ]
    },
    {
      "cell_type": "code",
      "metadata": {
        "colab": {
          "base_uri": "https://localhost:8080/"
        },
        "id": "BvIlvJwpbRfT",
        "outputId": "f51a201a-22f0-4711-843b-2c5c2e58e442"
      },
      "source": [
        "list_b[0]"
      ],
      "execution_count": null,
      "outputs": [
        {
          "output_type": "execute_result",
          "data": {
            "text/plain": [
              "1"
            ]
          },
          "metadata": {
            "tags": []
          },
          "execution_count": 24
        }
      ]
    },
    {
      "cell_type": "markdown",
      "metadata": {
        "id": "UFnN4A6Ybwvc"
      },
      "source": [
        "####แบบที่ 2 "
      ]
    },
    {
      "cell_type": "code",
      "metadata": {
        "colab": {
          "base_uri": "https://localhost:8080/"
        },
        "id": "J43WH4fIbvN-",
        "outputId": "de93c64e-b0e2-426a-aa80-cd9e32d2216d"
      },
      "source": [
        "list_c = list()\r\n",
        "print(list_c)"
      ],
      "execution_count": null,
      "outputs": [
        {
          "output_type": "stream",
          "text": [
            "[]\n"
          ],
          "name": "stdout"
        }
      ]
    },
    {
      "cell_type": "markdown",
      "metadata": {
        "id": "Se0zdJbZcLMs"
      },
      "source": [
        "####append() คือการเพิ่มสมาชิก"
      ]
    },
    {
      "cell_type": "code",
      "metadata": {
        "colab": {
          "base_uri": "https://localhost:8080/"
        },
        "id": "OD2XO2KLb7lg",
        "outputId": "ca6fccb9-1979-482d-ccfa-bfc6e131208b"
      },
      "source": [
        "list_b.append('u')\r\n",
        "print(list_b)"
      ],
      "execution_count": null,
      "outputs": [
        {
          "output_type": "stream",
          "text": [
            "[1, 5, 'v', 'u']\n"
          ],
          "name": "stdout"
        }
      ]
    },
    {
      "cell_type": "code",
      "metadata": {
        "colab": {
          "base_uri": "https://localhost:8080/",
          "height": 35
        },
        "id": "7g-aIq0VcVH4",
        "outputId": "72d12162-37b8-469d-b945-1fe5d0233f9e"
      },
      "source": [
        "list_b.pop() #ดึงสมาชิกตัวสุดท้ายออก"
      ],
      "execution_count": null,
      "outputs": [
        {
          "output_type": "execute_result",
          "data": {
            "application/vnd.google.colaboratory.intrinsic+json": {
              "type": "string"
            },
            "text/plain": [
              "'u'"
            ]
          },
          "metadata": {
            "tags": []
          },
          "execution_count": 27
        }
      ]
    },
    {
      "cell_type": "code",
      "metadata": {
        "colab": {
          "base_uri": "https://localhost:8080/"
        },
        "id": "IRsCYqE4c5z_",
        "outputId": "e30c309f-5ab8-4504-df27-3fa3ecda8f48"
      },
      "source": [
        "list_b"
      ],
      "execution_count": null,
      "outputs": [
        {
          "output_type": "execute_result",
          "data": {
            "text/plain": [
              "[1, 5, 'v']"
            ]
          },
          "metadata": {
            "tags": []
          },
          "execution_count": 28
        }
      ]
    },
    {
      "cell_type": "code",
      "metadata": {
        "colab": {
          "base_uri": "https://localhost:8080/"
        },
        "id": "V_S45G5cclYC",
        "outputId": "8e5b083c-2e16-46ca-d626-db6c747705fd"
      },
      "source": [
        "list_b.append(list_a)\r\n",
        "print(list_b)"
      ],
      "execution_count": null,
      "outputs": [
        {
          "output_type": "stream",
          "text": [
            "[1, 5, 'v', []]\n"
          ],
          "name": "stdout"
        }
      ]
    },
    {
      "cell_type": "markdown",
      "metadata": {
        "id": "VQ0R2FERdLX_"
      },
      "source": [
        "####len เป็นคำสั่งตรวจสอบความยาวของ list"
      ]
    },
    {
      "cell_type": "code",
      "metadata": {
        "colab": {
          "base_uri": "https://localhost:8080/"
        },
        "id": "ODcnR1QXc1cu",
        "outputId": "38a0d2b8-0ee4-48ae-d7fd-f63e09328e7f"
      },
      "source": [
        "len(list_b)"
      ],
      "execution_count": null,
      "outputs": [
        {
          "output_type": "execute_result",
          "data": {
            "text/plain": [
              "4"
            ]
          },
          "metadata": {
            "tags": []
          },
          "execution_count": 30
        }
      ]
    },
    {
      "cell_type": "code",
      "metadata": {
        "colab": {
          "base_uri": "https://localhost:8080/",
          "height": 35
        },
        "id": "844r661udVkI",
        "outputId": "c346ec27-b750-4157-d59e-fb72e855b989"
      },
      "source": [
        "t = 'plaifa' #list of char\r\n",
        "t"
      ],
      "execution_count": null,
      "outputs": [
        {
          "output_type": "execute_result",
          "data": {
            "application/vnd.google.colaboratory.intrinsic+json": {
              "type": "string"
            },
            "text/plain": [
              "'plaifa'"
            ]
          },
          "metadata": {
            "tags": []
          },
          "execution_count": 31
        }
      ]
    },
    {
      "cell_type": "code",
      "metadata": {
        "colab": {
          "base_uri": "https://localhost:8080/"
        },
        "id": "_7hMT9HPdwIs",
        "outputId": "4d3fc633-090e-4787-fc94-b38269131298"
      },
      "source": [
        "len(t)"
      ],
      "execution_count": null,
      "outputs": [
        {
          "output_type": "execute_result",
          "data": {
            "text/plain": [
              "6"
            ]
          },
          "metadata": {
            "tags": []
          },
          "execution_count": 32
        }
      ]
    },
    {
      "cell_type": "markdown",
      "metadata": {
        "id": "O0_4nJBUd_j6"
      },
      "source": [
        "####access a member of a list \r\n",
        "โดยที่การเริ่มนับจาก 0\r\n",
        "0 คือสมาชิกตัวแรก -1 คือสมากชิกตัวสุดท้าย"
      ]
    },
    {
      "cell_type": "code",
      "metadata": {
        "colab": {
          "base_uri": "https://localhost:8080/",
          "height": 35
        },
        "id": "ep0yYJIjdyi2",
        "outputId": "47473152-511d-43e3-9424-c42124f6dea6"
      },
      "source": [
        "t[1]"
      ],
      "execution_count": null,
      "outputs": [
        {
          "output_type": "execute_result",
          "data": {
            "application/vnd.google.colaboratory.intrinsic+json": {
              "type": "string"
            },
            "text/plain": [
              "'l'"
            ]
          },
          "metadata": {
            "tags": []
          },
          "execution_count": 33
        }
      ]
    },
    {
      "cell_type": "code",
      "metadata": {
        "colab": {
          "base_uri": "https://localhost:8080/",
          "height": 35
        },
        "id": "MNC9Ys3HehJ4",
        "outputId": "083f9398-d26b-4fe2-e0ba-3cd3b4e38453"
      },
      "source": [
        "t[-1] #ตัวที่อยู่ภายใน [] เราเรียกว่า index หรือตัวชี้"
      ],
      "execution_count": null,
      "outputs": [
        {
          "output_type": "execute_result",
          "data": {
            "application/vnd.google.colaboratory.intrinsic+json": {
              "type": "string"
            },
            "text/plain": [
              "'a'"
            ]
          },
          "metadata": {
            "tags": []
          },
          "execution_count": 34
        }
      ]
    },
    {
      "cell_type": "code",
      "metadata": {
        "id": "SaKPSjahe7vA"
      },
      "source": [
        "A = 'python is easy'"
      ],
      "execution_count": null,
      "outputs": []
    },
    {
      "cell_type": "code",
      "metadata": {
        "colab": {
          "base_uri": "https://localhost:8080/",
          "height": 35
        },
        "id": "bVxuLIJzenJj",
        "outputId": "e677e0e5-1c0c-4d53-be90-a3476340d5d5"
      },
      "source": [
        "A[-4]"
      ],
      "execution_count": null,
      "outputs": [
        {
          "output_type": "execute_result",
          "data": {
            "application/vnd.google.colaboratory.intrinsic+json": {
              "type": "string"
            },
            "text/plain": [
              "'e'"
            ]
          },
          "metadata": {
            "tags": []
          },
          "execution_count": 36
        }
      ]
    },
    {
      "cell_type": "markdown",
      "metadata": {
        "id": "qyXdTvqafYws"
      },
      "source": [
        "####List slicing คือการตัดลิสต์ สามารถทำได้โดยการใช้ :\r\n",
        "[a:b] -> [a,b) \\\\\r\n",
        "  [ ทึบ )ไม่ทึบ จากเส้นจำนวน"
      ]
    },
    {
      "cell_type": "code",
      "metadata": {
        "colab": {
          "base_uri": "https://localhost:8080/"
        },
        "id": "-91nu3pwfCOr",
        "outputId": "617a4369-cb9a-4d6e-90b5-5044f17464fc"
      },
      "source": [
        "print(A)\r\n",
        "print(A[7:9])"
      ],
      "execution_count": null,
      "outputs": [
        {
          "output_type": "stream",
          "text": [
            "python is easy\n",
            "is\n"
          ],
          "name": "stdout"
        }
      ]
    },
    {
      "cell_type": "markdown",
      "metadata": {
        "id": "AiNSmoaihZ6X"
      },
      "source": [
        "ถ้าเว้นว่างหน้า : หมายความว่าหน้าเป็นเลข 0 \\\\\r\n",
        "ถ้าเว้นว่างหลัง : หมายความว่าเริ่มจากตัวแรกถึงตัวสุดท้าย"
      ]
    },
    {
      "cell_type": "code",
      "metadata": {
        "colab": {
          "base_uri": "https://localhost:8080/"
        },
        "id": "u68HOTbFhYVG",
        "outputId": "cc6fe843-b234-445c-a35b-8ab606d39dc9"
      },
      "source": [
        "print(A)\r\n",
        "print(A[:6])\r\n",
        "print(A[10:])\r\n",
        "print(A[-4:])\r\n",
        "print(A[:])"
      ],
      "execution_count": null,
      "outputs": [
        {
          "output_type": "stream",
          "text": [
            "python is easy\n",
            "python\n",
            "easy\n",
            "easy\n",
            "python is easy\n"
          ],
          "name": "stdout"
        }
      ]
    },
    {
      "cell_type": "markdown",
      "metadata": {
        "id": "lBzcDpvwiNVu"
      },
      "source": [
        "####สามารถนำ list ต่อกันได้ด้วย+"
      ]
    },
    {
      "cell_type": "code",
      "metadata": {
        "colab": {
          "base_uri": "https://localhost:8080/",
          "height": 35
        },
        "id": "AIoW94aghmiJ",
        "outputId": "bf6d8e29-6c85-4f5a-ea25-cb93730daedb"
      },
      "source": [
        "A +'??'"
      ],
      "execution_count": null,
      "outputs": [
        {
          "output_type": "execute_result",
          "data": {
            "application/vnd.google.colaboratory.intrinsic+json": {
              "type": "string"
            },
            "text/plain": [
              "'python is easy??'"
            ]
          },
          "metadata": {
            "tags": []
          },
          "execution_count": 39
        }
      ]
    },
    {
      "cell_type": "code",
      "metadata": {
        "colab": {
          "base_uri": "https://localhost:8080/"
        },
        "id": "qI8UkFlXiYQC",
        "outputId": "b9344edd-ee9d-451c-ad6d-b8177c315844"
      },
      "source": [
        "list_b + list_b"
      ],
      "execution_count": null,
      "outputs": [
        {
          "output_type": "execute_result",
          "data": {
            "text/plain": [
              "[1, 5, 'v', [], 1, 5, 'v', []]"
            ]
          },
          "metadata": {
            "tags": []
          },
          "execution_count": 40
        }
      ]
    },
    {
      "cell_type": "code",
      "metadata": {
        "colab": {
          "base_uri": "https://localhost:8080/",
          "height": 163
        },
        "id": "9ImPsfutibxk",
        "outputId": "60dc1954-a049-4b27-e5b9-c81962d1a1a0"
      },
      "source": [
        "list_b + A #ไม่สามารถนำลิสต์ต่อกับ string ได้"
      ],
      "execution_count": null,
      "outputs": [
        {
          "output_type": "error",
          "ename": "TypeError",
          "evalue": "ignored",
          "traceback": [
            "\u001b[0;31m---------------------------------------------------------------------------\u001b[0m",
            "\u001b[0;31mTypeError\u001b[0m                                 Traceback (most recent call last)",
            "\u001b[0;32m<ipython-input-41-d19b9410d00c>\u001b[0m in \u001b[0;36m<module>\u001b[0;34m()\u001b[0m\n\u001b[0;32m----> 1\u001b[0;31m \u001b[0mlist_b\u001b[0m \u001b[0;34m+\u001b[0m \u001b[0mA\u001b[0m \u001b[0;31m#ไม่สามารถนำลิสต์ต่อกับ string ได้\u001b[0m\u001b[0;34m\u001b[0m\u001b[0;34m\u001b[0m\u001b[0m\n\u001b[0m",
            "\u001b[0;31mTypeError\u001b[0m: can only concatenate list (not \"str\") to list"
          ]
        }
      ]
    },
    {
      "cell_type": "markdown",
      "metadata": {
        "id": "_f_LjvVwi9NT"
      },
      "source": [
        "####Split String คือการแบ่ง string ตามสัญลักษณ์ที่กำหนด"
      ]
    },
    {
      "cell_type": "code",
      "metadata": {
        "colab": {
          "base_uri": "https://localhost:8080/"
        },
        "id": "_YilmaAxiuSE",
        "outputId": "c3721bb3-c7e3-4819-f673-148372250b71"
      },
      "source": [
        "A.split(' ')"
      ],
      "execution_count": null,
      "outputs": [
        {
          "output_type": "execute_result",
          "data": {
            "text/plain": [
              "['python', 'is', 'easy']"
            ]
          },
          "metadata": {
            "tags": []
          },
          "execution_count": 43
        }
      ]
    },
    {
      "cell_type": "code",
      "metadata": {
        "id": "nJMuFyeSjQeR"
      },
      "source": [
        "time = '12:30:15'"
      ],
      "execution_count": null,
      "outputs": []
    },
    {
      "cell_type": "code",
      "metadata": {
        "colab": {
          "base_uri": "https://localhost:8080/"
        },
        "id": "On4B9Oxhjca9",
        "outputId": "4cde7c68-1770-4187-8351-25ce5f182d05"
      },
      "source": [
        "time.split(':')"
      ],
      "execution_count": null,
      "outputs": [
        {
          "output_type": "execute_result",
          "data": {
            "text/plain": [
              "['12', '30', '15']"
            ]
          },
          "metadata": {
            "tags": []
          },
          "execution_count": 45
        }
      ]
    },
    {
      "cell_type": "code",
      "metadata": {
        "colab": {
          "base_uri": "https://localhost:8080/"
        },
        "id": "ChWxN1fumqfy",
        "outputId": "dcf83358-4f52-46de-af20-a4fe8bc8a005"
      },
      "source": [
        "A_sp = A.split(' ')\r\n",
        "print(A_sp)\r\n",
        "\r\n",
        "## วิธีรวมกลับ\r\n",
        "\r\n",
        "print(':'.join(A_sp))"
      ],
      "execution_count": null,
      "outputs": [
        {
          "output_type": "stream",
          "text": [
            "['python', 'is', 'easy']\n",
            "python:is:easy\n"
          ],
          "name": "stdout"
        }
      ]
    },
    {
      "cell_type": "markdown",
      "metadata": {
        "id": "_NY_O63tjvVy"
      },
      "source": [
        "#HW คำนวณเวลาเป็นวินาทีของเวลาต่อไปนี้โดยใช้คำสั่ง split() ช่วย (print ออกมาให้สวยงาม)"
      ]
    },
    {
      "cell_type": "markdown",
      "metadata": {
        "id": "6Yy9WkeumM4O"
      },
      "source": [
        "12:30:15\r\n",
        "\r\n",
        "13:41:07\r\n",
        "\r\n",
        "12:53:15\r\n",
        "\r\n",
        "00:59:25\r\n",
        "\r\n",
        "11:11:11\r\n",
        "\r\n",
        "16:06:09"
      ]
    },
    {
      "cell_type": "code",
      "metadata": {
        "id": "lLooFJKbkB-x",
        "colab": {
          "base_uri": "https://localhost:8080/"
        },
        "outputId": "af7e49b9-052b-4733-e91e-7cb166482b44"
      },
      "source": [
        "t1 = '12:30:15'\r\n",
        "t1_sp =t1.split(':')\r\n",
        "print(t1_sp)"
      ],
      "execution_count": null,
      "outputs": [
        {
          "output_type": "stream",
          "text": [
            "['12', '30', '15']\n"
          ],
          "name": "stdout"
        }
      ]
    },
    {
      "cell_type": "code",
      "metadata": {
        "colab": {
          "base_uri": "https://localhost:8080/"
        },
        "id": "z9Fwbx-knj2u",
        "outputId": "8bf867b3-601e-41d9-cea0-b16bd8e5e134"
      },
      "source": [
        "t2 = '13:41:07'\r\n",
        "t2_sp =t2.split(':')\r\n",
        "print(t2_sp)"
      ],
      "execution_count": null,
      "outputs": [
        {
          "output_type": "stream",
          "text": [
            "['13', '41', '07']\n"
          ],
          "name": "stdout"
        }
      ]
    },
    {
      "cell_type": "code",
      "metadata": {
        "colab": {
          "base_uri": "https://localhost:8080/"
        },
        "id": "5nJocOF8nnWN",
        "outputId": "83dde447-7217-4e6d-a4b4-a6081a8b49bb"
      },
      "source": [
        "t3 = '12:53:15'\r\n",
        "t3_sp =t3.split(':')\r\n",
        "print(t3_sp)"
      ],
      "execution_count": null,
      "outputs": [
        {
          "output_type": "stream",
          "text": [
            "['12', '53', '15']\n"
          ],
          "name": "stdout"
        }
      ]
    },
    {
      "cell_type": "code",
      "metadata": {
        "colab": {
          "base_uri": "https://localhost:8080/"
        },
        "id": "310DCRG_nqG0",
        "outputId": "d5c9e867-ec8e-46ec-a925-f3e707b6cd3f"
      },
      "source": [
        "t4 = '00:59:25'\r\n",
        "t4_sp =t4.split(':')\r\n",
        "print(t4_sp)"
      ],
      "execution_count": null,
      "outputs": [
        {
          "output_type": "stream",
          "text": [
            "['00', '59', '25']\n"
          ],
          "name": "stdout"
        }
      ]
    },
    {
      "cell_type": "code",
      "metadata": {
        "colab": {
          "base_uri": "https://localhost:8080/"
        },
        "id": "ozTKxrgunrh3",
        "outputId": "5c5d77e4-f235-47dc-c8dc-cf37cb238100"
      },
      "source": [
        "t5 = '11:11:11'\r\n",
        "t5_sp = t5.split(':')\r\n",
        "print(t5_sp)"
      ],
      "execution_count": null,
      "outputs": [
        {
          "output_type": "stream",
          "text": [
            "['11', '11', '11']\n"
          ],
          "name": "stdout"
        }
      ]
    },
    {
      "cell_type": "code",
      "metadata": {
        "colab": {
          "base_uri": "https://localhost:8080/"
        },
        "id": "ywnLvKp8nsSc",
        "outputId": "ad8b09bc-d250-4bdf-8121-a049631971b3"
      },
      "source": [
        "t6 = '16:06:09'\r\n",
        "t6_sp = t6.split(':')\r\n",
        "print(t6_sp)"
      ],
      "execution_count": null,
      "outputs": [
        {
          "output_type": "stream",
          "text": [
            "['16', '06', '09']\n"
          ],
          "name": "stdout"
        }
      ]
    },
    {
      "cell_type": "code",
      "metadata": {
        "colab": {
          "base_uri": "https://localhost:8080/"
        },
        "id": "-zkvZcOVo9Dq",
        "outputId": "0129da82-eaf4-4319-d8d6-80ef7e907cb1"
      },
      "source": [
        "print(f'12:30:15 คำนวณเวลาเป็นวินาทีได้  = {(int(t1_sp[0])*3600)+(int(t1_sp[1])*60)+int(t1_sp[2])} วินาที\\n13:41:07 คำนวณเวลาเป็นวินาทีได้  = {(int(t2_sp[0])*3600)+(int(t2_sp[1])*60)+int(t2_sp[2])} วินาที\\n12:53:15 คำนวณเวลาเป็นวินาทีได้  = {(int(t3_sp[0])*3600)+(int(t3_sp[1])*60)+int(t3_sp[2])} วินาที\\n00:59:25 คำนวณเวลาเป็นวินาทีได้  = {(int(t4_sp[0])*3600)+(int(t4_sp[1])*60)+int(t4_sp[2])} วินาที\\n11:11:11 คำนวณเวลาเป็นวินาทีได้  = {(int(t5_sp[0])*3600)+(int(t5_sp[1])*60)+int(t5_sp[2])} วินาที\\n16:06:09 คำนวณเวลาเป็นวินาทีได้  = {(int(t6_sp[0])*3600)+(int(t6_sp[1])*60)+int(t6_sp[2])} วินาที\\n') "
      ],
      "execution_count": null,
      "outputs": [
        {
          "output_type": "stream",
          "text": [
            "12:30:15 คำนวณเวลาเป็นวินาทีได้  = 45015 วินาที\n",
            "13:41:07 คำนวณเวลาเป็นวินาทีได้  = 49267 วินาที\n",
            "12:53:15 คำนวณเวลาเป็นวินาทีได้  = 46395 วินาที\n",
            "00:59:25 คำนวณเวลาเป็นวินาทีได้  = 3565 วินาที\n",
            "11:11:11 คำนวณเวลาเป็นวินาทีได้  = 40271 วินาที\n",
            "16:06:09 คำนวณเวลาเป็นวินาทีได้  = 57969 วินาที\n",
            "\n"
          ],
          "name": "stdout"
        }
      ]
    },
    {
      "cell_type": "markdown",
      "metadata": {
        "id": "mIkeAfu7xZrc"
      },
      "source": [
        "---------- วิธี def ----------------------------"
      ]
    },
    {
      "cell_type": "code",
      "metadata": {
        "id": "phr5PW27twQA"
      },
      "source": [
        "def Time_sec(Time):\r\n",
        "  list_Time = Time.split(':') \r\n",
        "  H = (int(list_Time[0])*3600)\r\n",
        "  Min = (int(list_Time[1])*60)\r\n",
        "  Sec = (int(list_Time[2]))\r\n",
        "  sum = f'เวลา {Time} คำนวณเวลาเป็นวินาทีได้  = {H+Min+Sec} วินาที'\r\n",
        "  print(sum)"
      ],
      "execution_count": 12,
      "outputs": []
    },
    {
      "cell_type": "code",
      "metadata": {
        "colab": {
          "base_uri": "https://localhost:8080/"
        },
        "id": "GpnN-J2cuonu",
        "outputId": "16c45658-6080-4425-a17d-649673bfc14e"
      },
      "source": [
        "Time_sec('12:30:15')\r\n",
        "Time_sec('13:41:07')\r\n",
        "Time_sec('12:53:15')\r\n",
        "Time_sec('00:59:25')\r\n",
        "Time_sec('11:11:11')\r\n",
        "Time_sec('16:06:09')"
      ],
      "execution_count": 14,
      "outputs": [
        {
          "output_type": "stream",
          "text": [
            "เวลา 12:30:15 คำนวณเวลาเป็นวินาทีได้  = 45015 วินาที\n",
            "เวลา 13:41:07 คำนวณเวลาเป็นวินาทีได้  = 49267 วินาที\n",
            "เวลา 12:53:15 คำนวณเวลาเป็นวินาทีได้  = 46395 วินาที\n",
            "เวลา 00:59:25 คำนวณเวลาเป็นวินาทีได้  = 3565 วินาที\n",
            "เวลา 11:11:11 คำนวณเวลาเป็นวินาทีได้  = 40271 วินาที\n",
            "เวลา 16:06:09 คำนวณเวลาเป็นวินาทีได้  = 57969 วินาที\n"
          ],
          "name": "stdout"
        }
      ]
    },
    {
      "cell_type": "markdown",
      "metadata": {
        "id": "ArOuoOOZtbgM"
      },
      "source": [
        "------------------------------------------------------"
      ]
    },
    {
      "cell_type": "markdown",
      "metadata": {
        "id": "ypUwVEVomXa-"
      },
      "source": [
        "**วันที 7/1/2564**"
      ]
    },
    {
      "cell_type": "code",
      "metadata": {
        "id": "OrD36fNTme0R"
      },
      "source": [
        "function มีส่วนสำคัญทั้งหมด 4 ส่วน\n",
        "1. บอก python ว่าเราจะเขียนังก์ชัน ชื่ออะไร def function_name():\n",
        "(ขาดไม่ได้)\n",
        "2. กำหนดตัวแปรที่จะเป็น input '''input''' (ขาดไม่ได้)\n",
        "3.\n",
        "4."
      ],
      "execution_count": null,
      "outputs": []
    },
    {
      "cell_type": "markdown",
      "metadata": {
        "id": "qXYkBk2Jql18"
      },
      "source": [
        "ฟังก์ชันที่ไม่จำเป็นต้องมี Input"
      ]
    },
    {
      "cell_type": "code",
      "metadata": {
        "id": "d-pM564srCCH"
      },
      "source": [
        "def Pi():\r\n",
        "  return 3.14159265359"
      ],
      "execution_count": 2,
      "outputs": []
    },
    {
      "cell_type": "code",
      "metadata": {
        "colab": {
          "base_uri": "https://localhost:8080/",
          "height": 163
        },
        "id": "Cq31PyMgrMqE",
        "outputId": "f0843058-4790-45ff-ff3f-f5f3405c4896"
      },
      "source": [
        "Pi()*2(2**2)  #หาค่าPi*(r^2)"
      ],
      "execution_count": 4,
      "outputs": [
        {
          "output_type": "error",
          "ename": "TypeError",
          "evalue": "ignored",
          "traceback": [
            "\u001b[0;31m---------------------------------------------------------------------------\u001b[0m",
            "\u001b[0;31mTypeError\u001b[0m                                 Traceback (most recent call last)",
            "\u001b[0;32m<ipython-input-4-4fffba4adc85>\u001b[0m in \u001b[0;36m<module>\u001b[0;34m()\u001b[0m\n\u001b[0;32m----> 1\u001b[0;31m \u001b[0mPi\u001b[0m\u001b[0;34m(\u001b[0m\u001b[0;34m)\u001b[0m\u001b[0;34m*\u001b[0m\u001b[0;36m2\u001b[0m\u001b[0;34m(\u001b[0m\u001b[0;36m2\u001b[0m\u001b[0;34m**\u001b[0m\u001b[0;36m2\u001b[0m\u001b[0;34m)\u001b[0m  \u001b[0;31m#หาค่าPi*(r^2)\u001b[0m\u001b[0;34m\u001b[0m\u001b[0;34m\u001b[0m\u001b[0m\n\u001b[0m",
            "\u001b[0;31mTypeError\u001b[0m: 'int' object is not callable"
          ]
        }
      ]
    },
    {
      "cell_type": "markdown",
      "metadata": {
        "id": "TGv1cS1Tr6CB"
      },
      "source": [
        "เราสามารถกำหนดค่า default ให้กับฟังก์ชันได้"
      ]
    },
    {
      "cell_type": "code",
      "metadata": {
        "id": "ThLwnUw8rxF6"
      },
      "source": [
        "def print_2line_default (name,surname,ID,grade='F'):\r\n",
        "  st = f'ชื่อ {name} นามสกุล {surname} รหัส {ID}'\r\n",
        "  print (st)\r\n",
        "  st2= f'เกรดวิชา Data viz >>> {grade}'\r\n",
        "  print(st2)"
      ],
      "execution_count": 5,
      "outputs": []
    },
    {
      "cell_type": "code",
      "metadata": {
        "colab": {
          "base_uri": "https://localhost:8080/"
        },
        "id": "9HzFd_72s6AT",
        "outputId": "c17d2173-53d2-4382-92ee-14f07f7f48de"
      },
      "source": [
        "print_2line_default('ธันยการณ์','พวงมาลัย','613020551','A')"
      ],
      "execution_count": 6,
      "outputs": [
        {
          "output_type": "stream",
          "text": [
            "ชื่อ ธันยการณ์ นามสกุล พวงมาลัย รหัส 613020551\n",
            "เกรดวิชา Data viz >>> A\n"
          ],
          "name": "stdout"
        }
      ]
    },
    {
      "cell_type": "markdown",
      "metadata": {
        "id": "FHpQI0LotgZ8"
      },
      "source": [
        "------------------------------------------------------"
      ]
    },
    {
      "cell_type": "code",
      "metadata": {
        "id": "SyIaeuNitf1o"
      },
      "source": [
        ""
      ],
      "execution_count": null,
      "outputs": []
    },
    {
      "cell_type": "code",
      "metadata": {
        "id": "6yKpwDe8tfxw"
      },
      "source": [
        ""
      ],
      "execution_count": null,
      "outputs": []
    },
    {
      "cell_type": "code",
      "metadata": {
        "id": "EzDG4RhFtLsp"
      },
      "source": [
        ""
      ],
      "execution_count": null,
      "outputs": []
    }
  ]
}